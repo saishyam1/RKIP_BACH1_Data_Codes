{
 "cells": [
  {
   "cell_type": "code",
   "execution_count": null,
   "metadata": {},
   "outputs": [],
   "source": [
    "import pandas as pd\n",
    "import numpy as np\n",
    "import seaborn as sns\n",
    "import matplotlib.pyplot as plt \n",
    "from sklearn.preprocessing import StandardScaler\n",
    "import scipy \n",
    "from scipy import stats\n"
   ]
  },
  {
   "cell_type": "code",
   "execution_count": null,
   "metadata": {},
   "outputs": [],
   "source": [
    "CCLE_data = pd.read_csv('OmicsExpressionProteinCodingGenesTPMLogp1.csv')\n",
    "CCLE_data.head()\n",
    "CCLE_data.index = CCLE_data.iloc[:,0]\n",
    "CCLE_data.drop(['Unnamed: 0'], axis  = 1)\n",
    "CCLE_data = CCLE_data.T\n",
    "#CCLE_data.T.to_csv('CCLE_data.csv')"
   ]
  },
  {
   "cell_type": "code",
   "execution_count": null,
   "metadata": {},
   "outputs": [],
   "source": [
    "j  = []\n",
    "for i in CCLE_data.index.str.contains(['-'], regex=False):\n",
    "    j.append(not i)\n",
    "pd.DataFrame(j).value_counts()\n",
    "\n"
   ]
  },
  {
   "cell_type": "code",
   "execution_count": null,
   "metadata": {},
   "outputs": [],
   "source": [
    "CCLE_data[j].to_csv('filtered/CCLE_filtered.csv')"
   ]
  },
  {
   "cell_type": "code",
   "execution_count": null,
   "metadata": {},
   "outputs": [],
   "source": [
    "CCLE_data = pd.read_csv('filtered/CCLE_filtered.csv', index_col = 0)\n",
    "CCLE_data = CCLE_data.sort_index()\n",
    "CCLE_data"
   ]
  },
  {
   "cell_type": "code",
   "execution_count": null,
   "metadata": {},
   "outputs": [],
   "source": [
    "ind = list(CCLE_data.index)\n",
    "indn = []\n",
    "for i in ind:\n",
    "    indn.append(i.strip())\n",
    "indn\n",
    "CCLE_data.index = indn"
   ]
  },
  {
   "cell_type": "code",
   "execution_count": null,
   "metadata": {},
   "outputs": [],
   "source": [
    "pd.DataFrame(CCLE_data.index.str.contains('-', regex=False)).value_counts()"
   ]
  },
  {
   "cell_type": "code",
   "execution_count": null,
   "metadata": {},
   "outputs": [],
   "source": [
    "j  = []\n",
    "for i in CCLE_data.index.str.contains('-', regex=False):\n",
    "    j.append(not i)\n",
    "\n",
    "CCLE_data[j].to_csv('filtered/CCLE_filtered.csv')"
   ]
  },
  {
   "cell_type": "code",
   "execution_count": null,
   "metadata": {},
   "outputs": [],
   "source": [
    "CCLE_data = pd.read_csv('filtered/CCLE_filtered.csv', index_col = 0)\n",
    "CCLE_data"
   ]
  },
  {
   "cell_type": "code",
   "execution_count": null,
   "metadata": {},
   "outputs": [],
   "source": [
    "CNS_Brain = list(np.loadtxt('CNS_Brain.txt', delimiter=',', dtype=str))\n",
    "Bre_can = list(np.loadtxt('Breast Carcinoma.txt', delimiter=',', dtype=str))\n",
    "Ova_Fal_Tub = list(np.loadtxt('Ovary_Fallopian Tube.txt', delimiter=',', dtype=str))\n",
    "Pancreas = list(np.loadtxt('Pancreas.txt', delimiter=',', dtype=str))\n",
    "Pros_Can = list(np.loadtxt('Prostate Cancer.txt', delimiter=',', dtype=str))\n",
    "Uter_Can = list(np.loadtxt('Uterus Cancer.txt', delimiter=',', dtype=str))\n",
    "\n",
    "Thyr_Can = list(np.loadtxt('Thyroid Cancer.txt', delimiter=',', dtype=str))\n",
    "Skin_Can = list(np.loadtxt('Skin Cancer.txt', delimiter=',', dtype=str))\n",
    "Bili_trac_Can = list(np.loadtxt('Biliary Tract.txt', delimiter=',', dtype=str))\n",
    "Myeloid_Can = list(np.loadtxt('Myeloid.txt', delimiter=',', dtype=str))\n",
    "Lymphoid_Can = list(np.loadtxt('Lymphoid.txt', delimiter=',', dtype=str))\n",
    "Eso_Stom_Can = list(np.loadtxt('Esophagus_Stomach.txt', delimiter=',', dtype=str))\n",
    "\n",
    "Lung_Can = list(np.loadtxt('Lung Cancer.txt', delimiter=',', dtype=str))\n",
    "\n",
    "Bone_Can = list(np.loadtxt('Bone Cancer.txt', delimiter=',', dtype=str))\n"
   ]
  },
  {
   "cell_type": "code",
   "execution_count": null,
   "metadata": {},
   "outputs": [],
   "source": [
    "def corr_scatter(data, x, y, title): \n",
    "    \n",
    "    xlim = data[x].min()\n",
    "    ylim = data[y].min()\n",
    "    sns.lmplot(x=x, y=y, data=data, scatter_kws={\"s\": 6})\n",
    "    per = stats.pearsonr(data[x], data[y])\n",
    "    plt.title(title) \n",
    "    plt.text(xlim, ylim+0.1, 'Pearson corr {} \\np_value {:e}'.format(round(per[0],3),per[1]), horizontalalignment='left', size='large', color='black')\n",
    "    if x == 'PEBP1':\n",
    "        plt.xlabel('RKIP')\n",
    "    if y == 'PEBP1':\n",
    "        plt.ylabel('RKIP')\n",
    "\n",
    "    plt.show()\n"
   ]
  },
  {
   "cell_type": "code",
   "execution_count": null,
   "metadata": {},
   "outputs": [],
   "source": [
    "def intersection(lst1, lst2):\n",
    "    return list(set(lst1) & set(lst2))"
   ]
  },
  {
   "cell_type": "code",
   "execution_count": null,
   "metadata": {},
   "outputs": [],
   "source": [
    "Pancreas_cellines = intersection(Pancreas, CCLE_data.columns )\n",
    "CNS_Brain_cellines = intersection(CNS_Brain, CCLE_data.columns )\n",
    "Bre_can_cellines = intersection(Bre_can, CCLE_data.columns )\n",
    "Ova_Fal_Tub_cellines = intersection(Ova_Fal_Tub, CCLE_data.columns )\n",
    "Pros_Can_cellines = intersection(Pros_Can, CCLE_data.columns )\n",
    "Uter_Can_cellines = intersection(Uter_Can, CCLE_data.columns)\n",
    "\n",
    "\n",
    "Thyr_Can_cellines = intersection(Thyr_Can, CCLE_data.columns )\n",
    "Skin_Can_cellines = intersection(Skin_Can, CCLE_data.columns )\n",
    "Bili_trac_Can_cellines = intersection(Bili_trac_Can, CCLE_data.columns )\n",
    "Myeloid_Can_cellines = intersection(Myeloid_Can, CCLE_data.columns )\n",
    "Lymphoid_Can_cellines = intersection(Lymphoid_Can, CCLE_data.columns )\n",
    "Eso_Stom_Can_cellines = intersection(Eso_Stom_Can, CCLE_data.columns )\n",
    "Lung_Can_cellines = intersection(Lung_Can, CCLE_data.columns)\n",
    "\n",
    "Bone_Can_cellines = intersection(Bone_Can, CCLE_data.columns )\n",
    "\n"
   ]
  },
  {
   "cell_type": "code",
   "execution_count": null,
   "metadata": {},
   "outputs": [],
   "source": [
    "CCLE_data.loc[:,Bone_Can_cellines].to_csv('filtered/Bone_Can_cellines.csv')\n",
    "CCLE_data.loc[:,Lung_Can_cellines].to_csv('filtered/Lung_Can_cellines.csv')\n",
    "CCLE_data.loc[:,Eso_Stom_Can_cellines].to_csv('filtered/Eso_Stom_Can_cellines.csv')\n",
    "CCLE_data.loc[:,Lymphoid_Can_cellines].to_csv('filtered/Lymphoid_Can_cellines.csv')\n",
    "CCLE_data.loc[:,Myeloid_Can_cellines].to_csv('filtered/Myeloid_Can_cellines.csv')\n",
    "CCLE_data.loc[:,Bili_trac_Can_cellines].to_csv('filtered/Bili_trac_Can_cellines.csv')\n",
    "CCLE_data.loc[:,Skin_Can_cellines].to_csv('filtered/Skin_Can_cellines.csv')\n",
    "CCLE_data.loc[:,Thyr_Can_cellines].to_csv('filtered/Thyr_Can_cellines.csv')\n",
    "CCLE_data.loc[:,CNS_Brain_cellines].to_csv('filtered/CNS_Brain_cellines.csv')\n",
    "CCLE_data.loc[:,Pancreas_cellines].to_csv('filtered/Pancreas_cellines.csv')\n",
    "CCLE_data.loc[:,Ova_Fal_Tub_cellines].to_csv('filtered/Ova_Fal_Tub_cellines.csv')\n",
    "CCLE_data.loc[:,Bre_can_cellines].to_csv('filtered/Bre_can_cellines.csv')\n",
    "CCLE_data.loc[:,Pros_Can_cellines].to_csv('filtered/Pros_Can_cellines.csv')\n",
    "CCLE_data.loc[:,Uter_Can_cellines].to_csv('filtered/Uter_Can_cellines.csv')\n",
    "\n",
    "\n",
    "\n"
   ]
  },
  {
   "cell_type": "code",
   "execution_count": null,
   "metadata": {},
   "outputs": [],
   "source": [
    "def intersection(lst1, lst2):\n",
    "    return list(set(lst1) & set(lst2))\n",
    "\n",
    "def ind_change(data):\n",
    "    ind = list(data.index)\n",
    "    indn = []\n",
    "    for i in ind:\n",
    "        indn.append(i.strip())\n",
    "    indn\n",
    "    data.index = indn\n",
    "    return data"
   ]
  },
  {
   "cell_type": "code",
   "execution_count": null,
   "metadata": {},
   "outputs": [],
   "source": [
    "import gseapy\n",
    "def SigScore(dataset):\n",
    "\n",
    "\n",
    "    dat = gseapy.ssgsea(data= dataset, gene_sets= \"signatures/GenSig_RKIP_Metastasis.gmt\", outdir = 'test', min_size = 5)\n",
    "    dataset  = dataset.reindex(sorted(dataset.columns), axis=1)\n",
    "    GenSig_RKIP_Metastasis_scores = pd.read_csv('test/gseapy.gene_set.ssgsea.report.csv', index_col=0)\n",
    "    GenSig_RKIP_Metastasis_scores = GenSig_RKIP_Metastasis_scores.sort_values(by = 'Name', ascending = True)\n",
    "    dataset.loc['RPMS (GS)',:] = GenSig_RKIP_Metastasis_scores['NES']\n",
    "\n",
    "    dat = gseapy.ssgsea(data= dataset, gene_sets= \"signatures/Cell_Epi.gmt\", outdir = 'test', min_size = 5)\n",
    "    dataset  = dataset.reindex(sorted(dataset.columns), axis=1)\n",
    "    GenSig_Tumor_KS_Epi = pd.read_csv('test/gseapy.gene_set.ssgsea.report.csv', index_col=0)\n",
    "    GenSig_Tumor_KS_Epi = GenSig_Tumor_KS_Epi.sort_values(by = 'Name', ascending = True)\n",
    "    dataset.loc['KS_Epi (GS)',:] = GenSig_Tumor_KS_Epi['NES']\n",
    "\n",
    "    dat = gseapy.ssgsea(data= dataset, gene_sets= \"signatures/Cell_Mes.gmt\", outdir = 'test', min_size = 5)\n",
    "    dataset  = dataset.reindex(sorted(dataset.columns), axis=1)\n",
    "    GenSig_Tumor_KS_Mes = pd.read_csv('test/gseapy.gene_set.ssgsea.report.csv', index_col=0)\n",
    "    GenSig_Tumor_KS_Mes = GenSig_Tumor_KS_Mes.sort_values(by = 'Name', ascending = True)\n",
    "    dataset.loc['KS_Mes (GS)',:] = GenSig_Tumor_KS_Mes['NES']\n",
    "\n",
    "    dat = gseapy.ssgsea(data= dataset, gene_sets= \"signatures/Hallmark_OXPHOS.gmt\", outdir = 'test', min_size = 5)\n",
    "    dataset  = dataset.reindex(sorted(dataset.columns), axis=1)\n",
    "    GenSig_Hallmark_OXPHOS = pd.read_csv('test/gseapy.gene_set.ssgsea.report.csv', index_col=0)\n",
    "    GenSig_Hallmark_OXPHOS = GenSig_Hallmark_OXPHOS.sort_values(by = 'Name', ascending = True)\n",
    "    dataset.loc['OXPHOS (GS)',:] = GenSig_Hallmark_OXPHOS['NES']\n",
    "\n",
    "    dat = gseapy.ssgsea(data= dataset, gene_sets= \"signatures/Hallmark_Glycolysis.gmt\", outdir = 'test', min_size = 5)\n",
    "    dataset  = dataset.reindex(sorted(dataset.columns), axis=1)\n",
    "    GenSig_Hallmark_Glycolysis = pd.read_csv('test/gseapy.gene_set.ssgsea.report.csv', index_col=0)\n",
    "    GenSig_Hallmark_Glycolysis = GenSig_Hallmark_Glycolysis.sort_values(by = 'Name', ascending = True)\n",
    "    dataset.loc['Glycolysis (GS)',:] = GenSig_Hallmark_Glycolysis['NES']\n",
    "\n",
    "\n",
    "    dat = gseapy.ssgsea(data= dataset, gene_sets= \"signatures/GenSig_PD-L1.gmt\", outdir = 'test', min_size = 5)\n",
    "    dataset  = dataset.reindex(sorted(dataset.columns), axis=1)\n",
    "    GenSig_PDL1 = pd.read_csv('test/gseapy.gene_set.ssgsea.report.csv', index_col=0)\n",
    "    GenSig_PDL1 = GenSig_PDL1.sort_values(by = 'Name', ascending = True)\n",
    "    dataset.loc['PDL1 (GS)',:] = GenSig_PDL1['NES']\n",
    "\n",
    "    dat = gseapy.ssgsea(data= dataset, gene_sets= \"signatures/GenSig_FAO.gmt\", outdir = 'test', min_size = 5)\n",
    "    dataset  = dataset.reindex(sorted(dataset.columns), axis=1)\n",
    "    GenSig_FAO = pd.read_csv('test/gseapy.gene_set.ssgsea.report.csv', index_col=0)\n",
    "    GenSig_FAO = GenSig_FAO.sort_values(by = 'Name', ascending = True)\n",
    "    dataset.loc['FAO (GS)',:] = GenSig_FAO['NES']\n",
    "\n",
    "    dat = gseapy.ssgsea(data= dataset, gene_sets= \"signatures/BACH1_Metastasis.gmt\", outdir = 'test', min_size = 5)\n",
    "    dataset  = dataset.reindex(sorted(dataset.columns), axis=1)\n",
    "    GenSig_BACH1_Metastasis_scores = pd.read_csv('test/gseapy.gene_set.ssgsea.report.csv', index_col=0)\n",
    "    GenSig_BACH1_Metastasis_scores = GenSig_BACH1_Metastasis_scores.sort_values(by = 'Name', ascending = True)\n",
    "    dataset.loc['BPMS (GS)',:] = GenSig_BACH1_Metastasis_scores['NES']\n",
    "\n",
    "    dat = gseapy.ssgsea(data= dataset, gene_sets= \"signatures/GenSig_Ferroptosis_Immune_45.gmt\", outdir = 'test', min_size = 5)\n",
    "    dataset  = dataset.reindex(sorted(dataset.columns), axis=1)\n",
    "    GenSig_Ferroptosis_Immune_45 = pd.read_csv('test/gseapy.gene_set.ssgsea.report.csv', index_col=0)\n",
    "    GenSig_Ferroptosis_Immune_45 = GenSig_Ferroptosis_Immune_45.sort_values(by = 'Name', ascending = True)\n",
    "    dataset.loc['Ferroptosis (GS)',:] = GenSig_Ferroptosis_Immune_45['NES']\n",
    "\n",
    "\n",
    "    return dataset\n",
    "\n",
    "    \n",
    "    \n",
    "    "
   ]
  },
  {
   "cell_type": "code",
   "execution_count": null,
   "metadata": {},
   "outputs": [],
   "source": [
    "Bili_trac_Can_CCLE = pd.read_csv('filtered/Bili_trac_Can_cellines.csv', index_col = 0)\n",
    "Bone_Can_CCLE = pd.read_csv('filtered/Bone_Can_cellines.csv', index_col = 0)\n",
    "Bre_can_CCLE = pd.read_csv('filtered/Bre_can_cellines.csv', index_col = 0)\n",
    "CNS_Brain_CCLE = pd.read_csv('filtered/CNS_Brain_cellines.csv', index_col = 0)\n",
    "Eso_Stom_Can_CCLE = pd.read_csv('filtered/Eso_Stom_Can_cellines.csv', index_col = 0)\n",
    "Lung_Can_CCLE = pd.read_csv('filtered/Lung_Can_cellines.csv', index_col = 0)\n",
    "Lymphoid_Can_CCLE = pd.read_csv('filtered/Lymphoid_Can_cellines.csv', index_col = 0)\n",
    "Myeloid_Can_CCLE = pd.read_csv('filtered/Myeloid_Can_cellines.csv', index_col = 0)\n",
    "Ova_Fal_Tub_CCLE = pd.read_csv('filtered/Ova_Fal_Tub_cellines.csv', index_col = 0)\n",
    "Pancreas_CCLE = pd.read_csv('filtered/Pancreas_cellines.csv', index_col = 0)\n",
    "Pros_Can_CCLE = pd.read_csv('filtered/Pros_Can_cellines.csv', index_col = 0)\n",
    "Skin_Can_CCLE = pd.read_csv('filtered/Skin_Can_cellines.csv', index_col = 0)\n",
    "Thyr_Can_CCLE = pd.read_csv('filtered/Thyr_Can_cellines.csv', index_col = 0)\n",
    "Uter_Can_CCLE = pd.read_csv('filtered/Uter_Can_cellines.csv', index_col = 0)\n"
   ]
  },
  {
   "cell_type": "code",
   "execution_count": null,
   "metadata": {},
   "outputs": [],
   "source": [
    "Bili_trac_Can_cellines = SigScore(Bili_trac_Can_CCLE)\n",
    "Bone_Can_cellines = SigScore(Bone_Can_CCLE)\n",
    "Bre_can_cellines = SigScore(Bre_can_CCLE)\n",
    "CNS_Brain_cellines = SigScore(CNS_Brain_CCLE)\n",
    "Eso_Stom_Can_cellines = SigScore(Eso_Stom_Can_CCLE)\n",
    "Lung_Can_cellines = SigScore(Lung_Can_CCLE)\n",
    "Lymphoid_Can_cellines = SigScore(Lymphoid_Can_CCLE)\n",
    "Myeloid_Can_cellines = SigScore(Myeloid_Can_CCLE)\n",
    "Ova_Fal_Tub_cellines = SigScore(Ova_Fal_Tub_CCLE)\n",
    "Pancreas_cellines = SigScore(Pancreas_CCLE)\n",
    "Pros_Can_cellines = SigScore(Pros_Can_CCLE)\n",
    "Skin_Can_cellines = SigScore(Skin_Can_CCLE)\n",
    "Thyr_Can_cellines = SigScore(Thyr_Can_CCLE)\n",
    "Uter_Can_cellines = SigScore(Uter_Can_CCLE)\n",
    "\n"
   ]
  },
  {
   "cell_type": "code",
   "execution_count": null,
   "metadata": {},
   "outputs": [],
   "source": [
    "def KS_Score_Finder(Dataset):\n",
    "    a = pd.DataFrame([[0]*len(Dataset.T)])\n",
    "    a.columns = Dataset.columns\n",
    "    a.index = ['KS_Score']\n",
    "    a.loc['KS_Mes_Score'] = 0 \n",
    "    a.loc['KS_Mes_p_Value'] = 0 \n",
    "    a.loc['KS_Epi_Score'] = 0 \n",
    "    a.loc['KS_Epi_p_value'] = 0 \n",
    "\n",
    "    for i in Dataset.columns:\n",
    "        KS_MesGrt = scipy.stats.ks_2samp(Dataset.loc[intersection(Dataset.index, KS_Cell_Mes),].loc[:,i],Dataset.loc[intersection(Dataset.index, KS_Cell_Epi),].loc[:,i], alternative='greater')\n",
    "        KS_EpiGrt = scipy.stats.ks_2samp(Dataset.loc[intersection(Dataset.index, KS_Cell_Epi),].loc[:,i],Dataset.loc[intersection(Dataset.index, KS_Cell_Mes),].loc[:,i], alternative='greater')\n",
    "        a.loc['KS_Mes_Score',i] = KS_MesGrt[0]\n",
    "        a.loc['KS_Mes_p_Value',i] = KS_MesGrt[1]\n",
    "        a.loc['KS_Epi_Score',i] = KS_EpiGrt[0]\n",
    "        a.loc['KS_Epi_p_value',i] = KS_EpiGrt[1]\n",
    "        #print(i)\n",
    "\n",
    "\n",
    "    for i in Dataset.columns:\n",
    "        #print(i)\n",
    "        if a.loc['KS_Mes_p_Value',i] < 0.05:\n",
    "            a.loc['KS_Score',i] = -1*a.loc['KS_Mes_Score',i]\n",
    "        \n",
    "        elif a.loc['KS_Epi_p_value',i] < 0.05:\n",
    "            a.loc['KS_Score',i] = a.loc['KS_Epi_Score',i]\n",
    "        \n",
    "        elif a.loc['KS_Epi_Score',i] > a.loc['KS_Mes_Score',i]:\n",
    "            a.loc['KS_Score',i] = a.loc['KS_Epi_Score',i]\n",
    "        \n",
    "        else: \n",
    "            a.loc['KS_Score',i] = -1*a.loc['KS_Mes_Score',i]\n",
    "        \n",
    "    return a"
   ]
  },
  {
   "cell_type": "code",
   "execution_count": null,
   "metadata": {},
   "outputs": [],
   "source": [
    "KS_Cell_Epi = list(pd.read_csv('Cell_Epi.gmt', sep='\\t'))[2:]\n",
    "KS_Cell_Mes = list(pd.read_csv('Cell_Mes.gmt', sep='\\t'))[2:]"
   ]
  },
  {
   "cell_type": "code",
   "execution_count": null,
   "metadata": {},
   "outputs": [],
   "source": [
    "Bili_trac_Can_cellines.loc['KS_Score (Cell Line)',:]= KS_Score_Finder(Bili_trac_Can_cellines).T.sort_index().loc[:,'KS_Score']\n",
    "Bone_Can_cellines.loc['KS_Score (Cell Line)',:]= KS_Score_Finder(Bone_Can_cellines).T.sort_index().loc[:,'KS_Score']\n",
    "Bre_can_cellines.loc['KS_Score (Cell Line)',:]= KS_Score_Finder(Bre_can_cellines).T.sort_index().loc[:,'KS_Score']\n",
    "CNS_Brain_cellines.loc['KS_Score (Cell Line)',:]= KS_Score_Finder(CNS_Brain_cellines).T.sort_index().loc[:,'KS_Score']\n",
    "Eso_Stom_Can_cellines.loc['KS_Score (Cell Line)',:]= KS_Score_Finder(Eso_Stom_Can_cellines).T.sort_index().loc[:,'KS_Score']\n",
    "Lung_Can_cellines.loc['KS_Score (Cell Line)',:]= KS_Score_Finder(Lung_Can_cellines).T.sort_index().loc[:,'KS_Score']\n",
    "Lymphoid_Can_cellines.loc['KS_Score (Cell Line)',:]= KS_Score_Finder(Lymphoid_Can_cellines).T.sort_index().loc[:,'KS_Score']\n",
    "Myeloid_Can_cellines.loc['KS_Score (Cell Line)',:]= KS_Score_Finder(Myeloid_Can_cellines).T.sort_index().loc[:,'KS_Score']\n",
    "Ova_Fal_Tub_cellines.loc['KS_Score (Cell Line)',:]= KS_Score_Finder(Ova_Fal_Tub_cellines).T.sort_index().loc[:,'KS_Score']\n",
    "Pancreas_cellines.loc['KS_Score (Cell Line)',:]= KS_Score_Finder(Pancreas_cellines).T.sort_index().loc[:,'KS_Score']\n",
    "Pros_Can_cellines.loc['KS_Score (Cell Line)',:]= KS_Score_Finder(Pros_Can_cellines).T.sort_index().loc[:,'KS_Score']\n",
    "Skin_Can_cellines.loc['KS_Score (Cell Line)',:]= KS_Score_Finder(Skin_Can_cellines).T.sort_index().loc[:,'KS_Score']\n",
    "Thyr_Can_cellines.loc['KS_Score (Cell Line)',:]= KS_Score_Finder(Thyr_Can_cellines).T.sort_index().loc[:,'KS_Score']\n",
    "Uter_Can_cellines.loc['KS_Score (Cell Line)',:]= KS_Score_Finder(Uter_Can_cellines).T.sort_index().loc[:,'KS_Score']\n"
   ]
  },
  {
   "cell_type": "code",
   "execution_count": null,
   "metadata": {},
   "outputs": [],
   "source": [
    "def GS76_Score_TPM_input(data):\n",
    "    li = sorted(list(pd.read_csv('76GS_Genes_original.txt', sep = '\\t').T.loc['Gene',:]))\n",
    "    #print(li)\n",
    "    genes_in_dataset = data.index\n",
    "    filt = intersection(li, genes_in_dataset)\n",
    "    #print(len(filt))\n",
    "    \n",
    "    weights = []\n",
    "    filtered_list = data.loc[filt,].sort_index()\n",
    "    weight = pd.DataFrame([[0]*len(filt)])\n",
    "    weight.columns = filtered_list.index\n",
    "    #print(weight)\n",
    "    \n",
    "\n",
    "    for i in filtered_list.index:\n",
    "        if i !='CDH1':\n",
    "            weight.loc[0,i]= stats.pearsonr(filtered_list.loc['CDH1',], filtered_list.loc[i,])[0]\n",
    "            #print(weights)\n",
    "        elif i == 'CDH1':\n",
    "            weight.loc[0,i]=0\n",
    "    #print(len(weights))\n",
    "\n",
    "    #weighted_array = np.array(weights) \n",
    "    GS76_score = ind_change(filtered_list).T@weight.T\n",
    "    GS76_Centered = (GS76_score - GS76_score.mean()).T\n",
    "\n",
    "\n",
    "    for i in data.columns:\n",
    "        data.loc['76GS_Score',i] = GS76_Centered.loc[0,i] \n",
    "\n",
    "    return data\n"
   ]
  },
  {
   "cell_type": "code",
   "execution_count": null,
   "metadata": {},
   "outputs": [],
   "source": [
    "GS76_Score_TPM_input(Bili_trac_Can_cellines )\n",
    "GS76_Score_TPM_input(Bone_Can_cellines )\n",
    "GS76_Score_TPM_input(Bre_can_cellines)\n",
    "GS76_Score_TPM_input(CNS_Brain_cellines)\n",
    "GS76_Score_TPM_input(Eso_Stom_Can_cellines)\n",
    "GS76_Score_TPM_input(Lung_Can_cellines)\n",
    "GS76_Score_TPM_input(Lymphoid_Can_cellines )\n",
    "GS76_Score_TPM_input(Myeloid_Can_cellines)\n",
    "GS76_Score_TPM_input(Ova_Fal_Tub_cellines)\n",
    "GS76_Score_TPM_input(Pancreas_cellines)\n",
    "GS76_Score_TPM_input(Pros_Can_cellines)\n",
    "GS76_Score_TPM_input(Skin_Can_cellines)\n",
    "GS76_Score_TPM_input(Thyr_Can_cellines)\n",
    "GS76_Score_TPM_input(Uter_Can_cellines)\n",
    "\n",
    "\n"
   ]
  },
  {
   "cell_type": "code",
   "execution_count": null,
   "metadata": {},
   "outputs": [],
   "source": [
    "def corr_scatter(data, x, y, title, xlim='A',ylim='A', dpi=100 , xlabel='A', ylabel='A'): \n",
    "    per = stats.spearmanr(data[x], data[y])\n",
    "    if xlim == \"A\":\n",
    "        if per[0]>0:\n",
    "            xlim = data.loc[:,x].min() \n",
    "        else:\n",
    "            xlim = data.loc[:,x].max() - data.loc[:,x].mean() \n",
    "        \n",
    "    if ylim == \"A\":\n",
    "        if per[0]>0:\n",
    "            ylim = data.loc[:,y].max() \n",
    "        else:\n",
    "            ylim = data.loc[:,y].min() \n",
    "\n",
    "    print(xlim)\n",
    "#    if ylim == \"A\":\n",
    "#        ylim = data.loc[:,y].max() - data.loc[:,y].std()\n",
    "    print(ylim)\n",
    "    plt.rcParams['figure.dpi']= dpi\n",
    "    sns.lmplot(x=x, y=y, data=data, scatter_kws={\"s\": 6 })\n",
    "    per = stats.spearmanr(data[x], data[y])\n",
    "    plt.title(title)\n",
    "    \n",
    "    if per[1] <0.0001:\n",
    "        \n",
    "        plt.text(xlim, ylim, 'Spearman corr {} \\n p_value < 1e-04'.format(round(per[0],3)), horizontalalignment='left', size=13, color='Black', fontname='Arial')\n",
    "    elif per[1] <0.001:\n",
    "        plt.text(xlim, ylim, 'Spearman corr {} \\n p_value {}'.format(round(per[0],2),round(per[1],4)), horizontalalignment='left', size=13, color='Black', fontname='Arial')\n",
    "    \n",
    "    elif per[1] <0.01:\n",
    "        plt.text(xlim, ylim, 'Spearman corr {} \\n p_value {}'.format(round(per[0],2),round(per[1],3)), horizontalalignment='left', size=13, color='Black', fontname='Arial')\n",
    "    \n",
    "    else:\n",
    "        plt.text(xlim, ylim, 'Spearman corr {} \\n p_value {}'.format(round(per[0],2),round(per[1],2)), horizontalalignment='left', size=13, color='Black', fontname='Arial')\n",
    "    \n",
    "       \n",
    "\n",
    "    plt.ylabel(y,fontsize=14, fontweight='bold', fontname='Arial')\n",
    "    plt.xlabel(x,fontsize=14, fontweight='bold',fontname='Arial')\n",
    "    \n",
    "    if x == 'PEBP1':\n",
    "        plt.xlabel('RKIP',fontsize=14)\n",
    "    if y == 'PEBP1':\n",
    "        plt.ylabel('RKIP',fontsize=14)\n",
    "\n",
    "    if x == 'CD274':\n",
    "        plt.xlabel('PDL1',fontsize=14)\n",
    "    if y == 'CD274':\n",
    "        plt.ylabel('PDL1',fontsize=14)\n",
    "\n",
    "    plt.xticks(fontsize=14)\n",
    "    plt.yticks(fontsize=14)\n",
    "\n",
    "    if xlabel != 'A':\n",
    "        plt.xlabel(xlabel, fontsize=14) \n",
    "    if ylabel != 'A':\n",
    "        plt.ylabel(ylabel, fontsize=14) \n",
    "\n",
    "    plt.show()\n"
   ]
  },
  {
   "cell_type": "code",
   "execution_count": null,
   "metadata": {},
   "outputs": [],
   "source": [
    "corr_scatter(TCGA_BRCA_scored.T, 'PEBP1', 'VIM','',10,10.5, dpi=500)\n",
    "corr_scatter(TCGA_BRCA_scored.T, 'BACH1', 'VIM','', 6,17, dpi=500)"
   ]
  },
  {
   "attachments": {},
   "cell_type": "markdown",
   "metadata": {},
   "source": [
    "Breast Cancer "
   ]
  },
  {
   "cell_type": "code",
   "execution_count": null,
   "metadata": {},
   "outputs": [],
   "source": [
    "Bili_trac_Can_cellines = pd.read_csv('filtered/Bili_trac_Can_cellines.csv', index_col=0)\n",
    "Bone_Can_cellines = pd.read_csv('filtered/Bone_Can_cellines.csv', index_col=0)\n",
    "Bre_can_cellines = pd.read_csv('filtered/Bre_can_cellines.csv', index_col=0)\n",
    "CNS_Brain_cellines = pd.read_csv('filtered/CNS_Brain_cellines.csv', index_col=0)\n",
    "Eso_Stom_Can_cellines = pd.read_csv('filtered/Eso_Stom_Can_cellines.csv', index_col=0)\n",
    "Lung_Can_cellines = pd.read_csv('filtered/Lung_Can_cellines.csv', index_col=0)\n",
    "Lymphoid_Can_cellines = pd.read_csv('filtered/Lymphoid_Can_cellines.csv', index_col=0)\n",
    "Myeloid_Can_cellines = pd.read_csv('filtered/Myeloid_Can_cellines.csv', index_col=0)\n",
    "Ova_Fal_Tub_cellines = pd.read_csv('filtered/Ova_Fal_Tub_cellines.csv', index_col=0)\n",
    "Pancreas_cellines = pd.read_csv('filtered/Pancreas_cellines.csv', index_col=0)\n",
    "Pros_Can_cellines = pd.read_csv('filtered/Pros_Can_cellines.csv', index_col=0)\n",
    "Skin_Can_cellines = pd.read_csv('filtered/Skin_Can_cellines.csv', index_col=0)\n",
    "Thyr_Can_cellines = pd.read_csv('filtered/Thyr_Can_cellines.csv', index_col=0)\n",
    "Uter_Can_cellines = pd.read_csv('filtered/Uter_Can_cellines.csv', index_col=0)"
   ]
  },
  {
   "cell_type": "code",
   "execution_count": null,
   "metadata": {},
   "outputs": [],
   "source": [
    "import gseapy\n",
    "def SigScore(dataset):\n",
    "\n",
    "    dat = gseapy.ssgsea(data= dataset, gene_sets= \"Cell_Epi.gmt\", outdir = 'test', min_size = 5)\n",
    "    dataset  = dataset.reindex(sorted(dataset.columns), axis=1)\n",
    "    GenSig_Tumor_KS_Epi = pd.read_csv('test/gseapy.gene_set.ssgsea.report.csv', index_col=0)\n",
    "    GenSig_Tumor_KS_Epi = GenSig_Tumor_KS_Epi.sort_values(by = 'Name', ascending = True)\n",
    "    dataset.loc['KS_Epithelial_Gene_Signature',:] = GenSig_Tumor_KS_Epi['NES']\n",
    "\n",
    "    dat = gseapy.ssgsea(data= dataset, gene_sets= \"Cell_Mes.gmt\", outdir = 'test', min_size = 5)\n",
    "    dataset  = dataset.reindex(sorted(dataset.columns), axis=1)\n",
    "    GenSig_Tumor_KS_Mes = pd.read_csv('test/gseapy.gene_set.ssgsea.report.csv', index_col=0)\n",
    "    GenSig_Tumor_KS_Mes = GenSig_Tumor_KS_Mes.sort_values(by = 'Name', ascending = True)\n",
    "    dataset.loc['KS_Mesenchymal_Gene_Signature',:] = GenSig_Tumor_KS_Mes['NES']\n",
    "\n",
    "\n",
    "\n",
    "    return dataset\n",
    "\n",
    "    \n",
    "    \n",
    "    "
   ]
  },
  {
   "cell_type": "code",
   "execution_count": null,
   "metadata": {},
   "outputs": [],
   "source": [
    "Corr_Tab_Gly  = pd.DataFrame([[0,0,0,0,0]]*14).T\n",
    "\n",
    "Corr_Tab_Gly.index = ['RKIP vs BACH1','RKIP vs 76GS_Score', 'BACH1 vs 76GS Score','RKIP vs KS Score', 'BACH1 vs KS Score']\n",
    "Corr_Tab_Gly.columns = ['Biliary Tract Cancer', 'Bone Cancer Data', 'Breast Cancer ', 'CNS/Brain Cancer','Esophagus Stomach Cancer',\n",
    " 'Lung Cancer','Lymphoid Cancer','Myeloid Cancer','Ovary/Fallopian Tube Cancer',\n",
    " 'Pancreas Cancer','Prostate Cancer','Skin Cancer','Thyroid Cancer','Uterus Cancer']\n",
    "Corr_Tab_Gly"
   ]
  },
  {
   "cell_type": "code",
   "execution_count": null,
   "metadata": {},
   "outputs": [],
   "source": [
    "import scipy.stats"
   ]
  },
  {
   "cell_type": "code",
   "execution_count": null,
   "metadata": {},
   "outputs": [],
   "source": [
    "def corr_table(data, y,i):\n",
    "    data = data.T\n",
    "        \n",
    "    Corr_Tab_Gly.loc['RKIP vs BACH1', y]  = stats.spearmanr(data['PEBP1'], data['BACH1'])[i]\n",
    "    Corr_Tab_Gly.loc['RKIP vs PDL1 Signature', y]  = stats.spearmanr(data['PEBP1'], data['PDL1 (GS)'])[i]\n",
    "    Corr_Tab_Gly.loc['BACH1 vs PDL1 Signature', y]  = stats.spearmanr(data['BACH1'], data['PDL1 (GS)'])[i]\n",
    "    Corr_Tab_Gly.loc['RKIP vs Glycolysis (GS)', y]  = stats.spearmanr(data['PEBP1'], data['Glycolysis (GS)'])[i]\n",
    "    Corr_Tab_Gly.loc['BACH1 vs Glycolysis (GS)', y]  = stats.spearmanr( data['BACH1'], data['Glycolysis (GS)'])[i]\n",
    "    Corr_Tab_Gly.loc['RKIP vs FAO (GS)', y]  = stats.spearmanr(data['PEBP1'], data['FAO (GS)'])[i]\n",
    "    Corr_Tab_Gly.loc['BACH1 vs FAO (GS)', y]  = stats.spearmanr(data['BACH1'], data['FAO (GS)'])[i]\n",
    "    Corr_Tab_Gly.loc['RKIP vs OXPHOS (GS)', y]  = stats.spearmanr(data['PEBP1'], data['OXPHOS (GS)'])[i]\n",
    "    Corr_Tab_Gly.loc['BACH1 vs OXPHOS (GS)', y]  = stats.spearmanr(data['BACH1'], data['OXPHOS (GS)'])[i]\n",
    "    Corr_Tab_Gly.loc['RKIP vs KS_Score (Cell Line)', y]  = stats.spearmanr( data['PEBP1'], data['KS_Score (Cell Line)'])[i]\n",
    "    Corr_Tab_Gly.loc['BACH1 vs KS_Score (Cell Line)', y]  = stats.spearmanr(data['BACH1'], data['KS_Score (Cell Line)'])[i]\n",
    "    Corr_Tab_Gly.loc['RKIP vs KS_Epi (GS)', y]  = stats.spearmanr(data['PEBP1'], data['KS_Epi (GS)'])[i]\n",
    "    Corr_Tab_Gly.loc['BACH1 vs KS_Epi (GS)', y]  = stats.spearmanr(data['BACH1'], data['KS_Epi (GS)'])[i]\n",
    "    Corr_Tab_Gly.loc['RKIP vs KS_Mes (GS)', y]  = stats.spearmanr(data['PEBP1'], data['KS_Mes (GS)'])[i]\n",
    "    Corr_Tab_Gly.loc['BACH1 vs KS_Mes (GS)', y]  = stats.spearmanr( data['BACH1'], data['KS_Mes (GS)'])[i]\n",
    "    Corr_Tab_Gly.loc['RKIP vs ESR1', y]  = stats.spearmanr(data['PEBP1'], data['ESR1'])[i]\n",
    "    Corr_Tab_Gly.loc['BACH1 vs ESR1', y]  = stats.spearmanr(data['BACH1'], data['ESR1'])[i]\n",
    "    Corr_Tab_Gly.loc['BACH1 vs 76GS_Score', y]  = stats.spearmanr( data['BACH1'], data['76GS_Score'])[i]\n",
    "    Corr_Tab_Gly.loc['RKIP vs 76GS_Score', y]  = stats.spearmanr( data['PEBP1'], data['76GS_Score'])[i]\n",
    "    Corr_Tab_Gly.loc['76GS_Score vs KS_Score (Cell Line)', y]  = stats.spearmanr( data['76GS_Score'], data['KS_Score (Cell Line)'])[i]\n",
    "    Corr_Tab_Gly.loc['OXPHOS (GS) vs Glycolysis (GS)', y]  = stats.spearmanr( data['OXPHOS (GS)'], data['Glycolysis (GS)'])[i]\n",
    "    Corr_Tab_Gly.loc['FAO (GS) vs OXPHOS (GS)', y]  = stats.spearmanr( data['FAO (GS)'], data['OXPHOS (GS)'])[i]\n",
    "    Corr_Tab_Gly.loc['FAO (GS) vs Glycolysis (GS)', y]  = stats.spearmanr( data['FAO (GS)'], data['Glycolysis (GS)'])[i]\n",
    "    Corr_Tab_Gly.loc['BPMS (GS) vs RKIP', y]  = stats.spearmanr( data['BPMS (GS)'], data['PEBP1'])[i]\n",
    "    Corr_Tab_Gly.loc['BPMS (GS) vs BACH1', y]  = stats.spearmanr( data['BPMS (GS)'], data['BACH1'])[i]\n",
    "    Corr_Tab_Gly.loc['RPMS (GS) vs RKIP', y]  = stats.spearmanr( data['RPMS (GS)'], data['PEBP1'])[i]\n",
    "    Corr_Tab_Gly.loc['RPMS (GS) vs BACH1', y]  = stats.spearmanr( data['RPMS (GS)'], data['BACH1'])[i]\n",
    "    Corr_Tab_Gly.loc['RPMS (GS) vs BPMS (GS)', y]  = stats.spearmanr( data['RPMS (GS)'], data['BPMS (GS)'])[i]\n",
    "    Corr_Tab_Gly.loc['RKIP vs PDL1', y]  = stats.spearmanr( data['PEBP1'], data['CD274'])[i]\n",
    "    Corr_Tab_Gly.loc['BACH1 vs PDL1)=', y]  = stats.spearmanr( data['BACH1'], data['CD274'])[i]\n",
    "    \n",
    "    #Corr_Tab_Gly.loc['RKIP vs NRF2', y]  = stats.spearmanr( data['PEBP1'], data['NFE2L2'])[i]\n",
    "    #Corr_Tab_Gly.loc['BACH1 vs NRF2', y]  = stats.spearmanr( data['BACH1'], data['NFE2L2'])[i]\n",
    "    \n",
    "    #Corr_Tab_Gly.loc['RKIP vs NRF2_Gene_Signature', y]  = stats.spearmanr( data['PEBP1'], data['NRF2_Gene_Signature'])[i]\n",
    "    #Corr_Tab_Gly.loc['BACH1 vs NRF2_Gene_Signature', y]  = stats.spearmanr( data['BACH1'], data['NRF2_Gene_Signature'])[i]\n",
    "    #Corr_Tab_Gly.loc['NRF2 vs NRF2_Gene_Signature', y]  = stats.spearmanr( data['BACH1'], data['NFE2L2'])[i]\n",
    "\n",
    "    #Corr_Tab_Gly.loc['RKIP vs GenSig_Ferroptosis_6', y]  = stats.spearmanr( data['PEBP1'], data['GenSig_Ferroptosis_6'])[i]\n",
    "    #Corr_Tab_Gly.loc['BACH1 vs GenSig_Ferroptosis_6', y]  = stats.spearmanr( data['BACH1'], data['GenSig_Ferroptosis_6'])[i]\n",
    "    #Corr_Tab_Gly.loc['NRF2 vs GenSig_Ferroptosis_6', y]  = stats.spearmanr( data['NFE2L2'], data['GenSig_Ferroptosis_6'])[i]\n",
    "\n",
    "    #Corr_Tab_Gly.loc['RKIP vs GenSig_Ferroptosis_10_LBC', y]  = stats.spearmanr( data['PEBP1'], data['GenSig_Ferroptosis_10_LBC'])[i]\n",
    "    #Corr_Tab_Gly.loc['BACH1 vs GenSig_Ferroptosis_10_LBC', y]  = stats.spearmanr( data['BACH1'], data['GenSig_Ferroptosis_10_LBC'])[i]\n",
    "    #Corr_Tab_Gly.loc['NRF2 vs GenSig_Ferroptosis_10_LBC', y]  = stats.spearmanr( data['NFE2L2'], data['GenSig_Ferroptosis_10_LBC'])[i]\n",
    "\n",
    "\n",
    "    Corr_Tab_Gly.loc['RKIP vs Ferroptosis (GS)', y]  = stats.spearmanr( data['PEBP1'], data['Ferroptosis (GS)'])[i]\n",
    "    Corr_Tab_Gly.loc['BACH1 vs Ferroptosis (GS)', y]  = stats.spearmanr( data['BACH1'], data['Ferroptosis (GS)'])[i]\n",
    "    #Corr_Tab_Gly.loc['NEF2 vs GenSig_Ferroptosis_Immune_45', y]  = stats.spearmanr( data['NFE2L2'], data['GenSig_Ferroptosis_Immune_45'])[i]\n",
    "\n",
    "    Corr_Tab_Gly.loc['RKIP vs VIM', y]  = stats.spearmanr( data['PEBP1'], data['VIM'])[i]\n",
    "    Corr_Tab_Gly.loc['RKIP vs SNAI2', y]  = stats.spearmanr( data['PEBP1'], data['SNAI2'])[i]\n",
    "    Corr_Tab_Gly.loc['RKIP vs OVOL2', y]  = stats.spearmanr( data['PEBP1'], data['OVOL2'])[i]\n",
    "\n",
    "    \n",
    "    Corr_Tab_Gly.loc['BACH1 vs VIM', y]  = stats.spearmanr( data['BACH1'], data['VIM'])[i]\n",
    "    Corr_Tab_Gly.loc['BACH1 vs SNAI2', y]  = stats.spearmanr( data['BACH1'], data['SNAI2'])[i]\n",
    "    Corr_Tab_Gly.loc['BACH1 vs OVOL2', y]  = stats.spearmanr( data['BACH1'], data['OVOL2'])[i]\n"
   ]
  },
  {
   "cell_type": "code",
   "execution_count": null,
   "metadata": {},
   "outputs": [],
   "source": [
    "CCLE_datasets = [ Bili_trac_Can_cellines,Bone_Can_cellines,\n",
    " Bre_can_cellines,CNS_Brain_cellines, \n",
    " Eso_Stom_Can_cellines, Lung_Can_cellines,\n",
    " Lymphoid_Can_cellines ,Myeloid_Can_cellines, \n",
    " Ova_Fal_Tub_cellines, Pancreas_cellines ,\n",
    " Pros_Can_cellines ,Skin_Can_cellines ,Thyr_Can_cellines,\n",
    " Uter_Can_cellines ]\n",
    "\n",
    "CCLE_data_labels = Corr_Tab_Gly.columns"
   ]
  },
  {
   "cell_type": "code",
   "execution_count": null,
   "metadata": {},
   "outputs": [],
   "source": [
    "Corr_Tab_Gly.iloc[0,0]=0"
   ]
  },
  {
   "cell_type": "code",
   "execution_count": null,
   "metadata": {},
   "outputs": [],
   "source": [
    "for i in range(len(CCLE_datasets)):\n",
    "    corr_table(CCLE_datasets[i], CCLE_data_labels[i],0)\n",
    "Corr_Tab_spearman = Corr_Tab_Gly.copy()"
   ]
  },
  {
   "cell_type": "code",
   "execution_count": null,
   "metadata": {},
   "outputs": [],
   "source": [
    "Corr_Tab_spearman"
   ]
  },
  {
   "cell_type": "code",
   "execution_count": null,
   "metadata": {},
   "outputs": [],
   "source": [
    "for i in range(len(CCLE_datasets)):\n",
    "    corr_table(CCLE_datasets[i], CCLE_data_labels[i],1)\n",
    "\n",
    "Corr_Tab_p_value = Corr_Tab_Gly.copy()\n",
    "\n"
   ]
  },
  {
   "cell_type": "code",
   "execution_count": null,
   "metadata": {},
   "outputs": [],
   "source": [
    "Star_Corr_Tab = Corr_Tab_p_value.copy()\n",
    "Star_Corr_Tab"
   ]
  },
  {
   "cell_type": "code",
   "execution_count": null,
   "metadata": {},
   "outputs": [],
   "source": [
    "for i in range(len(Star_Corr_Tab.columns)):\n",
    "    for j in range(len(Star_Corr_Tab.index)):\n",
    "        \n",
    "        if Star_Corr_Tab.iloc[j,i] < 0.05 :\n",
    "            Star_Corr_Tab.iloc[j,i] = '*'\n",
    "        else:\n",
    "            Star_Corr_Tab.iloc[j,i] = ''\n",
    "        "
   ]
  },
  {
   "cell_type": "markdown",
   "metadata": {},
   "source": [
    "Star_Corr_Tab"
   ]
  },
  {
   "cell_type": "code",
   "execution_count": null,
   "metadata": {},
   "outputs": [],
   "source": [
    "fig_1_spear = Corr_Tab_spearman.loc[['RKIP vs BACH1','BACH1 vs KS_Mes (GS)',\n",
    "                                'RKIP vs KS_Mes (GS)',\n",
    "                                'BACH1 vs KS_Epi (GS)',\n",
    "                                'RKIP vs KS_Epi (GS)',\n",
    "                                'BACH1 vs KS_Score (Cell Line)',\n",
    "                                'RKIP vs KS_Score (Cell Line)'],:]\n",
    "\n",
    "fig_1_spear_star = Star_Corr_Tab.loc[['RKIP vs BACH1','BACH1 vs KS_Mes (GS)',\n",
    "                                'RKIP vs KS_Mes (GS)',\n",
    "                                'BACH1 vs KS_Epi (GS)',\n",
    "                                'RKIP vs KS_Epi (GS)',\n",
    "                                'BACH1 vs KS_Score (Cell Line)',\n",
    "                                'RKIP vs KS_Score (Cell Line)'],:]\n",
    "\n",
    "\n",
    "plt.figure(figsize=(30,20))\n",
    "plt.rcParams['figure.dpi']= 1000\n",
    "#sns.set(rc={'figure.figsize':(10,10)})\n",
    "\n",
    "#plt.title('Correlations of RKIP and BACH1 with KS Gene Signatures (Spearman coefficients)', size=20)\n",
    "ax = sns.heatmap(fig_1_spear, linewidths = 1,  cmap=\"coolwarm\", square = True, fmt=\"\",vmax = 0.7, vmin =-0.7, annot = fig_1_spear_star\n",
    "            ,cbar_kws={'orientation': 'vertical', 'pad' : 0.05, 'aspect': 10,'shrink':0.4}, annot_kws={'size': 40} )\n",
    "cbar = ax.collections[0].colorbar\n",
    "cbar.ax.tick_params(labelsize=40)\n",
    "#plt.ylabel('Gene/Pathway',  labelpad = 20)\n",
    "plt.tick_params(axis='both', labelsize=40)\n",
    "plt.xticks(rotation = 90 )\n",
    "#plt.xlabel('Cancer Type', labelsize=22 )\n",
    "#plt.savefig()"
   ]
  },
  {
   "cell_type": "code",
   "execution_count": null,
   "metadata": {},
   "outputs": [],
   "source": [
    "Corr_Tab = pd.DataFrame([[0]*31]*14).T\n",
    "\n",
    "Corr_Tab.index = ['RKIP vs BACH1','RKIP vs 76GS_Score', 'BACH1 vs 76GS Score','RKIP vs KS Score', 'BACH1 vs KS Score',\n",
    "                  'OXPHOS (GS) vs Glycolysis (GS)','FAO (GS) vs OXPHOS (GS)','Glycolysis (GS) vs FAO (GS)',\n",
    "                  'RKIP vs PDL1','BACH1 vs PDL1','BPMS (GS) vs RKIP','BPMS (GS) vs BACH1','RPMS (GS) vs RKIP',\n",
    "                  'RPMS (GS) vs BACH1','RPMS (GS) vs BPMS (GS)', 'BACH1 vs KS_Mes (GS)','RKIP vs KS_Mes (GS)','BACH1 vs KS_Epi (GS)',\n",
    "                  'RKIP vs KS_Epi (GS)','BACH1 vs KS_Score (Cell Line)','RKIP vs KS_Score (Cell Line)','BACH1 vs OXPHOS (GS)','RKIP vs OXPHOS (GS)',\n",
    "                  'BACH1 vs FAO (GS)','RKIP vs FAO (GS)','BACH1 vs Glycolysis (GS)','RKIP vs Glycolysis (GS)',\n",
    "                  'BACH1 vs PDL1 (GS)','RKIP vs PDL1 (GS)','BACH1 vs Ferroptosis (GS)','RKIP vs Ferroptosis (GS)'\n",
    "                  ]\n",
    "\n",
    "Corr_Tab.columns = ['CCLE Biliary Tract Cancer', 'CCLE Bone Cancer Data', 'CCLE Breast Cancer ', 'CCLE CNS/Brain Cancer','CCLE Esophagus Stomach Cancer',\n",
    " 'CCLE Lung Cancer','CCLE Lymphoid Cancer','CCLE Myeloid Cancer','CCLE Ovary/Fallopian Tube Cancer',\n",
    " 'CCLE Pancreas Cancer','CCLE Prostate Cancer','CCLE Skin Cancer','CCLE Thyroid Cancer','CCLE Uterus Cancer']\n",
    "Corr_Tab"
   ]
  },
  {
   "cell_type": "code",
   "execution_count": null,
   "metadata": {},
   "outputs": [],
   "source": [
    "CCLE_datasets = [ Bili_trac_Can_cellines,Bone_Can_cellines,\n",
    " Bre_can_cellines,CNS_Brain_cellines, \n",
    " Eso_Stom_Can_cellines, Lung_Can_cellines,\n",
    " Lymphoid_Can_cellines ,Myeloid_Can_cellines, \n",
    " Ova_Fal_Tub_cellines, Pancreas_cellines ,\n",
    " Pros_Can_cellines ,Skin_Can_cellines ,Thyr_Can_cellines,\n",
    " Uter_Can_cellines ]\n",
    "\n",
    "CCLE_data_labels = Corr_Tab.columns"
   ]
  },
  {
   "cell_type": "code",
   "execution_count": null,
   "metadata": {},
   "outputs": [],
   "source": [
    "def corr_table(data, y, i):\n",
    "    data=data.T\n",
    "    Corr_Tab.loc['RKIP vs BACH1', y]  = stats.pearsonr(data['PEBP1'], data['BACH1'])[i]\n",
    "    Corr_Tab.loc['RKIP vs 76GS_Score', y]  = stats.pearsonr(data['PEBP1'], data['76GS_Score'])[i]\n",
    "    Corr_Tab.loc['BACH1 vs 76GS Score', y]  = stats.pearsonr(data['BACH1'], data['76GS_Score'])[i]\n",
    "    Corr_Tab.loc['RKIP vs KS Score', y]  = stats.pearsonr(data['PEBP1'], data['KS_Score (Cell Line)'])[i]\n",
    "    Corr_Tab.loc['BACH1 vs KS Score', y]  = stats.pearsonr( data['BACH1'], data['KS_Score (Cell Line)'])[i]\n",
    "    \n",
    "    Corr_Tab.loc['OXPHOS (GS) vs Glycolysis (GS)', y]  = stats.pearsonr( data['OXPHOS (GS)'], data['Glycolysis (GS)'])[i]\n",
    "    Corr_Tab.loc['FAO (GS) vs OXPHOS (GS)', y]  = stats.pearsonr( data['FAO (GS)'], data['OXPHOS (GS)'])[i]\n",
    "    Corr_Tab.loc['Glycolysis (GS) vs FAO (GS)', y]  = stats.pearsonr( data['Glycolysis (GS)'], data['FAO (GS)'])[i]\n",
    "    \n",
    "    Corr_Tab.loc['RKIP vs PDL1', y]  = stats.pearsonr( data['PEBP1'], data['CD274'])[i]\n",
    "    Corr_Tab.loc['BACH1 vs PDL1', y]  = stats.pearsonr( data['BACH1'], data['CD274'])[i]\n",
    "    \n",
    "    Corr_Tab.loc['BPMS (GS) vs RKIP', y]  = stats.pearsonr( data['BPMS (GS)'], data['PEBP1'])[i]\n",
    "    Corr_Tab.loc['BPMS (GS) vs BACH1', y]  = stats.pearsonr( data['BPMS (GS)'], data['BACH1'])[i]\n",
    "    Corr_Tab.loc['RPMS (GS) vs RKIP', y]  = stats.pearsonr( data['RPMS (GS)'], data['PEBP1'])[i]\n",
    "    Corr_Tab.loc['RPMS (GS) vs BACH1', y]  = stats.pearsonr( data['RPMS (GS)'], data['BACH1'])[i]\n",
    "\n",
    "    Corr_Tab.loc['RPMS (GS) vs BPMS (GS)', y]  = stats.pearsonr( data['RPMS (GS)'], data['BPMS (GS)'])[i]\n",
    "    \n",
    "    Corr_Tab.loc['BACH1 vs KS_Mes (GS)', y]  = stats.pearsonr( data['BACH1'], data['KS_Mes (GS)'])[i]\n",
    "    Corr_Tab.loc['RKIP vs KS_Mes (GS)', y]  = stats.pearsonr( data['PEBP1'], data['KS_Mes (GS)'])[i]\n",
    "    Corr_Tab.loc['BACH1 vs KS_Epi (GS)', y]  = stats.pearsonr( data['BACH1'], data['KS_Epi (GS)'])[i]\n",
    "    Corr_Tab.loc['RKIP vs KS_Epi (GS)', y]  = stats.pearsonr( data['PEBP1'], data['KS_Epi (GS)'])[i]  \n",
    "    Corr_Tab.loc['BACH1 vs KS_Score (Cell Line)', y]  = stats.pearsonr( data['BACH1'], data['KS_Score (Cell Line)'])[i]\n",
    "    Corr_Tab.loc['RKIP vs KS_Score (Cell Line)', y]  = stats.pearsonr( data['PEBP1'], data['KS_Score (Cell Line)'])[i]\n",
    "     \n",
    "    Corr_Tab.loc['BACH1 vs OXPHOS (GS)', y]  = stats.pearsonr( data['BACH1'], data['OXPHOS (GS)'])[i]\n",
    "    Corr_Tab.loc['RKIP vs OXPHOS (GS)', y]  = stats.pearsonr( data['PEBP1'], data['OXPHOS (GS)'])[i]\n",
    "    Corr_Tab.loc['BACH1 vs FAO (GS)', y]  = stats.pearsonr( data['BACH1'], data['FAO (GS)'])[i]\n",
    "    Corr_Tab.loc['RKIP vs FAO (GS)', y]  = stats.pearsonr( data['PEBP1'], data['FAO (GS)'])[i]  \n",
    "    Corr_Tab.loc['BACH1 vs Glycolysis (GS)', y]  = stats.pearsonr( data['BACH1'], data['Glycolysis (GS)'])[i]\n",
    "    Corr_Tab.loc['RKIP vs Glycolysis (GS)', y]  = stats.pearsonr( data['PEBP1'], data['Glycolysis (GS)'])[i]\n",
    "    \n",
    "    Corr_Tab.loc['BACH1 vs PDL1 (GS)', y]  = stats.pearsonr( data['BACH1'], data['PDL1 (GS)'])[i]\n",
    "    Corr_Tab.loc['RKIP vs PDL1 (GS)', y]  = stats.pearsonr( data['PEBP1'], data['PDL1 (GS)'])[i]\n",
    "    Corr_Tab.loc['BACH1 vs Ferroptosis (GS)', y]  = stats.pearsonr( data['BACH1'], data['Ferroptosis (GS)'])[i]\n",
    "    Corr_Tab.loc['RKIP vs Ferroptosis (GS)', y]  = stats.pearsonr( data['PEBP1'], data['Ferroptosis (GS)'])[i]  \n",
    "\n",
    "\n"
   ]
  },
  {
   "cell_type": "code",
   "execution_count": null,
   "metadata": {},
   "outputs": [],
   "source": [
    "for i in range(len(CCLE_datasets)):\n",
    "    corr_table(CCLE_datasets[i], CCLE_data_labels[i],0)\n",
    "\n",
    "corr_tab_spearman = Corr_Tab.copy()\n",
    "\n",
    "for i in range(len(CCLE_datasets)):\n",
    "    corr_table(CCLE_datasets[i], CCLE_data_labels[i],1)\n",
    "\n",
    "corr_tab_p_value = Corr_Tab.copy()"
   ]
  },
  {
   "cell_type": "code",
   "execution_count": null,
   "metadata": {},
   "outputs": [],
   "source": [
    "corr_tab_star = corr_tab_p_value.copy()"
   ]
  },
  {
   "cell_type": "code",
   "execution_count": null,
   "metadata": {},
   "outputs": [],
   "source": [
    "for i in range(len(corr_tab_p_value.columns)):\n",
    "    for j in range(len(corr_tab_p_value.index)):\n",
    "        \n",
    "        if corr_tab_p_value.iloc[j,i] < 0.05 :\n",
    "            corr_tab_star.iloc[j,i] = '*'\n",
    "        else:\n",
    "            corr_tab_star.iloc[j,i] = ''\n",
    "\n",
    "corr_tab_star"
   ]
  },
  {
   "cell_type": "code",
   "execution_count": null,
   "metadata": {},
   "outputs": [],
   "source": []
  },
  {
   "cell_type": "code",
   "execution_count": null,
   "metadata": {},
   "outputs": [],
   "source": [
    "corr_tab_spearman.columns = ['Biliary Tract Cancer', 'Bone Cancer',\n",
    "       'Breast Cancer', 'CNS/Brain Cancer',\n",
    "       'Esophagus Stomach Cancer', 'Lung Cancer',\n",
    "       'Lymphoid Cancer', 'Myeloid Cancer',\n",
    "       'Ovary/Fallopian Tube Cancer', 'Pancreas Cancer',\n",
    "       'Prostate Cancer', 'Skin Cancer', 'Thyroid Cancer',\n",
    "       'Uterus Cancer']"
   ]
  },
  {
   "cell_type": "code",
   "execution_count": null,
   "metadata": {},
   "outputs": [],
   "source": [
    "corr_tab_spearman"
   ]
  },
  {
   "cell_type": "markdown",
   "metadata": {},
   "source": [
    "Supplementary S2 and S3"
   ]
  },
  {
   "cell_type": "code",
   "execution_count": null,
   "metadata": {},
   "outputs": [],
   "source": [
    "fig_1_spear = corr_tab_spearman.loc[[ 'RKIP vs BACH1','BACH1 vs KS_Mes (GS)','RKIP vs KS_Mes (GS)','BACH1 vs KS_Epi (GS)','RKIP vs KS_Epi (GS)','BACH1 vs KS_Score (Cell Line)','RKIP vs KS_Score (Cell Line)'],:]\n",
    "fig_1_spear_star = corr_tab_star.loc[[ 'RKIP vs BACH1','BACH1 vs KS_Mes (GS)','RKIP vs KS_Mes (GS)','BACH1 vs KS_Epi (GS)','RKIP vs KS_Epi (GS)','BACH1 vs KS_Score (Cell Line)','RKIP vs KS_Score (Cell Line)'],:]\n",
    "fig_1_spear.index = [ 'RKIP vs BACH1','BACH1 vs KS_Mes (GS)','RKIP vs KS_Mes (GS)','BACH1 vs KS_Epi (GS)','RKIP vs KS_Epi (GS)','BACH1 vs KS_Score (Cell Line)','RKIP vs KS_Score (Cell Line)']\n",
    "\n",
    "\n",
    "plt.figure(figsize=(30,20))\n",
    "#plt.rcParams['figure.dpi']= 600\n",
    "#sns.set(rc={'figure.figsize':(10,10)})\n",
    "\n",
    "#plt.title('Correlations of RKIP and BACH1 with KS Gene Signatures (Spearman coefficients)', size=20)\n",
    "ax = sns.heatmap(fig_1_spear, linewidths = 1,  cmap=\"coolwarm\", square = True, fmt=\"\",vmax = 0.7, vmin =-0.7, annot = fig_1_spear_star\n",
    "            ,cbar_kws={'orientation': 'vertical', 'pad' : 0.05, 'aspect': 15,\"shrink\": 0.6}, annot_kws={'size': 55,\"ha\": \"center\", \"va\": \"center\"} )\n",
    "cbar = ax.collections[0].colorbar\n",
    "cbar.ax.tick_params(labelsize=50)\n",
    "#plt.ylabel('Gene/Pathway',  labelpad = 20)\n",
    "plt.tick_params(axis='both', labelsize=50)\n",
    "plt.xticks(rotation = 90 )\n",
    "plt.savefig('oxphos.png')"
   ]
  },
  {
   "cell_type": "code",
   "execution_count": null,
   "metadata": {},
   "outputs": [],
   "source": [
    "fig_1_spear = corr_tab_spearman.loc[[ 'RKIP vs OXPHOS (GS)','BACH1 vs OXPHOS (GS)',\n",
    "                                     'RKIP vs FAO (GS)','BACH1 vs FAO (GS)',\n",
    "                                     'RKIP vs Glycolysis (GS)','BACH1 vs Glycolysis (GS)'\n",
    "                                     ],:]\n",
    "fig_1_spear_star = corr_tab_star.loc[[ 'RKIP vs OXPHOS (GS)','BACH1 vs OXPHOS (GS)',\n",
    "                                     'RKIP vs FAO (GS)','BACH1 vs FAO (GS)',\n",
    "                                     'RKIP vs Glycolysis (GS)','BACH1 vs Glycolysis (GS)'\n",
    "                                     ],:]\n",
    "fig_1_spear.index = [ 'RKIP vs OXPHOS (GS)','BACH1 vs OXPHOS (GS)',\n",
    "                                     'RKIP vs FAO (GS)','BACH1 vs FAO (GS)',\n",
    "                                     'RKIP vs Glycolysis (GS)','BACH1 vs Glycolysis (GS)'\n",
    "                                     ]\n",
    "\n",
    "\n",
    "plt.figure(figsize=(30,20))\n",
    "plt.rcParams['figure.dpi']= 600\n",
    "#sns.set(rc={'figure.figsize':(10,10)})\n",
    "\n",
    "#plt.title('Correlations of RKIP and BACH1 with KS Gene Signatures (Spearman coefficients)', size=20)\n",
    "ax = sns.heatmap(fig_1_spear, linewidths = 1,  cmap=\"coolwarm\", square = True, fmt=\"\",vmax = 0.7, vmin =-0.7, annot = fig_1_spear_star\n",
    "            ,cbar_kws={'orientation': 'vertical', 'pad' : 0.05, 'aspect': 15,\"shrink\": 0.52}, annot_kws={'size': 55,\"ha\": \"center\", \"va\": \"center\"} )\n",
    "cbar = ax.collections[0].colorbar\n",
    "cbar.ax.tick_params(labelsize=50)\n",
    "#plt.ylabel('Gene/Pathway',  labelpad = 20)\n",
    "plt.tick_params(axis='both', labelsize=50)\n",
    "plt.xticks(rotation = 90 )\n",
    "plt.yticks(rotation = 0)"
   ]
  },
  {
   "cell_type": "code",
   "execution_count": null,
   "metadata": {},
   "outputs": [],
   "source": [
    "fig_1_spear = corr_tab_spearman.loc[[ 'OXPHOS (GS) vs Glycolysis (GS)','FAO (GS) vs OXPHOS (GS)','Glycolysis (GS) vs FAO (GS)'],:]\n",
    "fig_1_spear_star = corr_tab_star.loc[[ 'OXPHOS (GS) vs Glycolysis (GS)','FAO (GS) vs OXPHOS (GS)','Glycolysis (GS) vs FAO (GS)'],:]\n",
    "fig_1_spear.index = [ 'OXPHOS (GS) vs Glycolysis (GS)','FAO (GS) vs OXPHOS (GS)','Glycolysis (GS) vs FAO (GS)']\n",
    "\n",
    "\n",
    "plt.figure(figsize=(30,20))\n",
    "#plt.rcParams['figure.dpi']= 600\n",
    "#sns.set(rc={'figure.figsize':(10,10)})\n",
    "\n",
    "#plt.title('Correlations of RKIP and BACH1 with KS Gene Signatures (Spearman coefficients)', size=20)\n",
    "ax = sns.heatmap(fig_1_spear, linewidths = 1,  cmap=\"coolwarm\", square = True, fmt=\"\",vmax = 0.7, vmin =-0.7, annot = fig_1_spear_star\n",
    "            ,cbar_kws={'orientation': 'vertical', 'pad' : 0.05, 'aspect': 10,\"shrink\": 0.4}, annot_kws={'size': 55,\"ha\": \"center\", \"va\": \"center\"} )\n",
    "cbar = ax.collections[0].colorbar\n",
    "cbar.ax.tick_params(labelsize=50)\n",
    "#plt.ylabel('Gene/Pathway',  labelpad = 20)\n",
    "plt.tick_params(axis='both', labelsize=50)\n",
    "plt.xticks(rotation = 90 )\n",
    "plt.savefig('oxphos.png')"
   ]
  },
  {
   "cell_type": "code",
   "execution_count": null,
   "metadata": {},
   "outputs": [],
   "source": [
    "fig_1_spear = corr_tab_spearman.loc[[ 'RKIP vs PDL1 (GS)','BACH1 vs PDL1 (GS)','RKIP vs Ferroptosis (GS)','BACH1 vs Ferroptosis (GS)'],:]\n",
    "fig_1_spear_star = corr_tab_star.loc[[ 'RKIP vs PDL1 (GS)','BACH1 vs PDL1 (GS)','RKIP vs Ferroptosis (GS)','BACH1 vs Ferroptosis (GS)'],:]\n",
    "fig_1_spear.index = [ 'RKIP vs PDL1 (GS)','BACH1 vs PDL1 (GS)','RKIP vs Ferroptosis (GS)','BACH1 vs Ferroptosis (GS)']\n",
    "\n",
    "\n",
    "plt.figure(figsize=(30,20))\n",
    "plt.rcParams['figure.dpi']= 600\n",
    "#sns.set(rc={'figure.figsize':(10,10)})\n",
    "\n",
    "#plt.title('Correlations of RKIP and BACH1 with KS Gene Signatures (Spearman coefficients)', size=20)\n",
    "ax = sns.heatmap(fig_1_spear, linewidths = 1,  cmap=\"coolwarm\", square = True, fmt=\"\",vmax = 0.7, vmin =-0.7, annot = fig_1_spear_star\n",
    "            ,cbar_kws={'orientation': 'vertical', 'pad' : 0.05, 'aspect': 10,\"shrink\": 0.35}, annot_kws={'size': 55,\"ha\": \"center\", \"va\": \"center\"} )\n",
    "cbar = ax.collections[0].colorbar\n",
    "cbar.ax.tick_params(labelsize=50)\n",
    "#plt.ylabel('Gene/Pathway',  labelpad = 20)\n",
    "plt.tick_params(axis='both', labelsize=50)\n",
    "plt.xticks(rotation = 90 )\n",
    "plt.yticks(rotation = 0)"
   ]
  },
  {
   "cell_type": "code",
   "execution_count": null,
   "metadata": {},
   "outputs": [],
   "source": [
    "plt.clf()\n",
    "fig_1_spear = corr_tab_spearman.loc[[ 'RKIP vs BACH1','BPMS (GS) vs RKIP',\n",
    "                                     'BPMS (GS) vs BACH1','RPMS (GS) vs RKIP',\n",
    "                                     'RPMS (GS) vs BACH1','RPMS (GS) vs BPMS (GS)'],:]\n",
    "fig_1_spear_star = corr_tab_star.loc[[ 'RKIP vs BACH1','BPMS (GS) vs RKIP',\n",
    "                                     'BPMS (GS) vs BACH1','RPMS (GS) vs RKIP',\n",
    "                                     'RPMS (GS) vs BACH1','RPMS (GS) vs BPMS (GS)'],:]\n",
    "fig_1_spear.index = [ 'RKIP vs BACH1','BPMS (GS) vs RKIP',\n",
    "                                     'BPMS (GS) vs BACH1','RPMS (GS) vs RKIP',\n",
    "                                     'RPMS (GS) vs BACH1','RPMS (GS) vs BPMS (GS)']\n",
    "\n",
    "\n",
    "plt.figure(figsize=(30,20))\n",
    "plt.rcParams['figure.dpi']= 600\n",
    "#sns.set(rc={'figure.figsize':(10,10)})\n",
    "\n",
    "#plt.title('Correlations of RKIP and BACH1 with KS Gene Signatures (Spearman coefficients)', size=20)\n",
    "ax = sns.heatmap(fig_1_spear, linewidths = 1,  cmap=\"coolwarm\", square = True, fmt=\"\",vmax = 0.7, vmin =-0.7, annot = fig_1_spear_star\n",
    "            ,cbar_kws={'orientation': 'vertical', 'pad' : 0.05, 'aspect': 15,\"shrink\": 0.5}, annot_kws={'size': 55,\"ha\": \"center\", \"va\": \"center\"} )\n",
    "cbar = ax.collections[0].colorbar\n",
    "cbar.ax.tick_params(labelsize=50)\n",
    "#plt.ylabel('Gene/Pathway',  labelpad = 20)\n",
    "plt.tick_params(axis='both', labelsize=50)\n",
    "plt.xticks(rotation = 90 )\n",
    "plt.yticks(rotation = 0)\n",
    "plt.show()\n"
   ]
  },
  {
   "cell_type": "code",
   "execution_count": null,
   "metadata": {},
   "outputs": [],
   "source": [
    "plt.clf()\n",
    "fig_1_spear = corr_tab_spearman.loc[[ 'RKIP vs PDL1','BACH1 vs PDL1'],:]\n",
    "fig_1_spear_star = corr_tab_star.loc[[ 'RKIP vs PDL1','BACH1 vs PDL1'],:]\n",
    "fig_1_spear.index = [ 'RKIP vs PDL1','BACH1 vs PDL1']\n",
    "\n",
    "\n",
    "plt.figure(figsize=(30,20))\n",
    "plt.rcParams['figure.dpi']= 600\n",
    "#sns.set(rc={'figure.figsize':(10,10)})\n",
    "\n",
    "#plt.title('Correlations of RKIP and BACH1 with KS Gene Signatures (Spearman coefficients)', size=20)\n",
    "ax = sns.heatmap(fig_1_spear, linewidths = 1,  cmap=\"coolwarm\", square = True, fmt=\"\",vmax = 0.7, vmin =-0.7, annot = fig_1_spear_star\n",
    "            ,cbar_kws={'orientation': 'vertical', 'pad' : 0.05, 'aspect': 10,\"shrink\": 0.4}, annot_kws={'size': 55,\"ha\": \"center\", \"va\": \"center\"} )\n",
    "cbar = ax.collections[0].colorbar\n",
    "cbar.ax.tick_params(labelsize=50)\n",
    "#plt.ylabel('Gene/Pathway',  labelpad = 20)\n",
    "plt.tick_params(axis='both', labelsize=50)\n",
    "plt.xticks(rotation = 90 )\n",
    "plt.yticks(rotation = 0)\n",
    "plt.savefig('PDL_supp_ccle.png')"
   ]
  },
  {
   "cell_type": "code",
   "execution_count": null,
   "metadata": {},
   "outputs": [],
   "source": [
    "fig_1_spear = corr_tab_spearman.loc[[ 'OXPHOS (GS) vs Glycolysis (GS)','FAO (GS) vs OXPHOS (GS)','Glycolysis (GS) vs FAO (GS)'],:]\n",
    "fig_1_spear_star = corr_tab_star.loc[[ 'OXPHOS (GS) vs Glycolysis (GS)','FAO (GS) vs OXPHOS (GS)','Glycolysis (GS) vs FAO (GS)'],:]\n",
    "fig_1_spear.index = [ 'OXPHOS (GS) vs Glycolysis (GS)','FAO (GS) vs OXPHOS (GS)','Glycolysis (GS) vs FAO (GS)']\n",
    "\n",
    "\n",
    "plt.figure(figsize=(30,20))\n",
    "plt.rcParams['figure.dpi']= 600\n",
    "#sns.set(rc={'figure.figsize':(10,10)})\n",
    "\n",
    "#plt.title('Correlations of RKIP and BACH1 with KS Gene Signatures (Spearman coefficients)', size=20)\n",
    "ax = sns.heatmap(fig_1_spear, linewidths = 1,  cmap=\"coolwarm\", square = True, fmt=\"\",vmax = 0.7, vmin =-0.7, annot = fig_1_spear_star\n",
    "            ,cbar_kws={'orientation': 'vertical', 'pad' : 0.05, 'aspect': 10,\"shrink\": 0.4}, annot_kws={'size': 55,\"ha\": \"center\", \"va\": \"center\"} )\n",
    "cbar = ax.collections[0].colorbar\n",
    "cbar.ax.tick_params(labelsize=50)\n",
    "#plt.ylabel('Gene/Pathway',  labelpad = 20)\n",
    "plt.tick_params(axis='both', labelsize=50)\n",
    "plt.xticks(rotation = 90 )\n",
    "plt.savefig('oxphos.png')"
   ]
  },
  {
   "cell_type": "code",
   "execution_count": null,
   "metadata": {},
   "outputs": [],
   "source": []
  },
  {
   "cell_type": "markdown",
   "metadata": {},
   "source": [
    "Supplementary S4 and S6"
   ]
  },
  {
   "cell_type": "code",
   "execution_count": null,
   "metadata": {},
   "outputs": [],
   "source": [
    "def corr_scatter(data, x, y, title, xlim='A',ylim='A', dpi=100 , xlabel='A', ylabel='A'): \n",
    "    per = stats.spearmanr(data[x], data[y])\n",
    "    if xlim == \"A\":\n",
    "        if per[0]>0:\n",
    "            xlim = data.loc[:,x].min() \n",
    "        else:\n",
    "            xlim = data.loc[:,x].max() - data.loc[:,x].mean() \n",
    "        \n",
    "    if ylim == \"A\":\n",
    "        if per[0]>0:\n",
    "            ylim = data.loc[:,y].max() \n",
    "        else:\n",
    "            ylim = data.loc[:,y].min() \n",
    "\n",
    "    print(xlim)\n",
    "#    if ylim == \"A\":\n",
    "#        ylim = data.loc[:,y].max() - data.loc[:,y].std()\n",
    "    print(ylim)\n",
    "    plt.rcParams['figure.dpi']= dpi\n",
    "    sns.lmplot(x=x, y=y, data=data, scatter_kws={\"s\": 6 })\n",
    "    per = stats.spearmanr(data[x], data[y])\n",
    "    plt.title(title)\n",
    "    print(per[1])\n",
    "    if per[1] <0.0001:\n",
    "        \n",
    "        plt.text(xlim, ylim, 'Spearman corr {} \\n p_value < 1e-04'.format(round(per[0],2)),\n",
    "                 horizontalalignment='left', size=16, color='Black', fontname='Arial')\n",
    "    elif per[1] <0.001:\n",
    "        plt.text(xlim, ylim, 'Spearman corr {} \\n p_value {}'.format(round(per[0],2),round(per[1],4)), horizontalalignment='left', size=16, \n",
    "                                                                     color='Black',  fontname='Arial')\n",
    "    elif per[1] <0.01:\n",
    "        plt.text(xlim, ylim, 'Spearman corr {} \\n p_value {}'.format(round(per[0],2),round(per[1],3)), horizontalalignment='left', size=16, \n",
    "                                                                     color='Black',  fontname='Arial')\n",
    "        \n",
    "    else:\n",
    "        plt.text(xlim, ylim, 'Spearman corr {} \\n p_value {}'.format(round(per[0],2),round(per[1],2)), horizontalalignment='left', size=16, \n",
    "                 color='Black',  fontname='Arial')\n",
    "    \n",
    "    plt.ylabel(y,fontsize=18, fontweight='bold', fontname='Arial')\n",
    "    plt.xlabel(x,fontsize=18, fontweight='bold',fontname='Arial')\n",
    "    \n",
    "    if x == 'PEBP1':\n",
    "        plt.xlabel('RKIP',fontsize=18)\n",
    "    if y == 'PEBP1':\n",
    "        plt.ylabel('RKIP',fontsize=18)\n",
    "\n",
    "    if x == 'CD274':\n",
    "        plt.xlabel('PDL1',fontsize=18)\n",
    "    if y == 'CD274':\n",
    "        plt.ylabel('PDL1',fontsize=18)\n",
    "\n",
    "    plt.xticks(fontsize=18)\n",
    "    plt.yticks(fontsize=18)\n",
    "\n",
    "    if xlabel != 'A':\n",
    "        plt.xlabel(xlabel, fontsize=18) \n",
    "    if ylabel != 'A':\n",
    "        plt.ylabel(ylabel, fontsize=18) \n",
    "\n",
    "    plt.show()\n"
   ]
  },
  {
   "cell_type": "code",
   "execution_count": null,
   "metadata": {},
   "outputs": [],
   "source": [
    "corr_scatter(Bre_can_cellines.T, 'PEBP1', 'ESR1','',4.5,6, dpi=600)\n",
    "corr_scatter(Bre_can_cellines.T, 'BACH1', 'ESR1','', 3,6, dpi=600)"
   ]
  },
  {
   "cell_type": "code",
   "execution_count": null,
   "metadata": {},
   "outputs": [],
   "source": [
    "corr_scatter(Bre_can_cellines.T, 'PEBP1', 'RPMS (GS)','',4.5,0.7, dpi=600,ylabel='RKIP Pathway metastasis Signature')\n",
    "corr_scatter(Bre_can_cellines.T, 'BACH1', 'BPMS (GS)','', 0.5,0.15, dpi=600, ylabel = 'BACH1 Pathway metastasis Signature')\n"
   ]
  },
  {
   "cell_type": "code",
   "execution_count": null,
   "metadata": {},
   "outputs": [],
   "source": [
    "corr_scatter(Bre_can_cellines.T, 'PEBP1', 'ZEB1','',5,4.5, dpi=600)\n",
    "corr_scatter(Bre_can_cellines.T, 'BACH1', 'ZEB1','', 0.5,4.5, dpi=600)"
   ]
  },
  {
   "cell_type": "code",
   "execution_count": null,
   "metadata": {},
   "outputs": [],
   "source": [
    "corr_scatter(Bre_can_cellines.T, 'PDL1 (GS)', 'RPMS (GS)','',-1,0.8, dpi=600,xlabel='PD-L1 Gene Signature',ylabel='RKIP Pathway metastasis Signature')\n",
    "corr_scatter(Bre_can_cellines.T, 'PDL1 (GS)', 'BPMS (GS)','', -1.4,0, dpi=600, xlabel = 'PD-L1 Gene Signature', ylabel = 'BACH1 Pathway metastasis Signature')\n",
    "\n"
   ]
  },
  {
   "cell_type": "code",
   "execution_count": null,
   "metadata": {},
   "outputs": [],
   "source": [
    "\n",
    "corr_scatter(Bre_can_cellines.T, 'PEBP1', 'SNAI2','',4.5,0, dpi=600)\n",
    "corr_scatter(Bre_can_cellines.T, 'BACH1', 'SNAI2','', 0.5,6, dpi=600)"
   ]
  },
  {
   "cell_type": "code",
   "execution_count": null,
   "metadata": {},
   "outputs": [],
   "source": [
    "\n",
    "corr_scatter(Bre_can_cellines.T, 'PEBP1', 'VIM','',4.5,2, dpi=600)\n",
    "corr_scatter(Bre_can_cellines.T, 'BACH1', 'VIM','', 0.4,10.5, dpi=600)"
   ]
  },
  {
   "cell_type": "code",
   "execution_count": null,
   "metadata": {},
   "outputs": [],
   "source": [
    "\n",
    "corr_scatter(Bre_can_cellines.T, 'PEBP1', 'OVOL2','',4.5,4, dpi=600)\n",
    "corr_scatter(Bre_can_cellines.T, 'BACH1', 'OVOL2','', 0.5,1, dpi=600)"
   ]
  },
  {
   "cell_type": "code",
   "execution_count": null,
   "metadata": {},
   "outputs": [],
   "source": []
  }
 ],
 "metadata": {
  "kernelspec": {
   "display_name": "base",
   "language": "python",
   "name": "python3"
  },
  "language_info": {
   "codemirror_mode": {
    "name": "ipython",
    "version": 3
   },
   "file_extension": ".py",
   "mimetype": "text/x-python",
   "name": "python",
   "nbconvert_exporter": "python",
   "pygments_lexer": "ipython3",
   "version": "3.11.4"
  },
  "orig_nbformat": 4,
  "vscode": {
   "interpreter": {
    "hash": "d47d9269cffa2cf13049e19e7e2c2cdbc3e0a106bf3d85d87066843337b02bbd"
   }
  }
 },
 "nbformat": 4,
 "nbformat_minor": 2
}
