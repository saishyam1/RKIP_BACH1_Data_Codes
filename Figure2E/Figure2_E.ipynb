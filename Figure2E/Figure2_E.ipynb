{
 "cells": [
  {
   "cell_type": "code",
   "execution_count": null,
   "metadata": {},
   "outputs": [],
   "source": [
    "import pandas as pd \n",
    "import numpy as np\n",
    "import seaborn as sns\n",
    "import matplotlib.pyplot as plt\n",
    "from scipy import stats"
   ]
  },
  {
   "cell_type": "code",
   "execution_count": null,
   "metadata": {},
   "outputs": [],
   "source": [
    "def ind_change(data):\n",
    "    ind = list(data.index)\n",
    "    indn = []\n",
    "    for i in ind:\n",
    "        indn.append(i.strip())\n",
    "    indn\n",
    "    data.index = indn\n",
    "    return data"
   ]
  },
  {
   "cell_type": "code",
   "execution_count": null,
   "metadata": {},
   "outputs": [],
   "source": [
    "GSE6532 = pd.read_csv('GSE6532gene_exp.txt', index_col=0, sep='\\t').drop('Probe_ID', axis = 1)\n",
    "GSE9195 = pd.read_csv('GSE9195gene_exp.txt', index_col=0, sep='\\t').drop('Probe_ID', axis = 1)\n",
    "GSE17705 = pd.read_csv('GSE17705gene_exp.txt', index_col=0, sep='\\t').drop('Probe_ID', axis = 1)\n",
    "GSE24202 = pd.read_csv('GSE24202_gene-exp.txt', index_col=0, sep='\\t').drop('Probe_ID', axis = 1)\n",
    "GSE27473 = pd.read_csv('GSE27473_gene-exp.txt', index_col=0, sep='\\t').drop('Probe_ID', axis = 1)\n",
    "GSE43495 = pd.read_csv('GSE43495_gene-exp.txt', index_col=0, sep='\\t').drop('Probe_ID', axis = 1)\n",
    "GSE67916 = pd.read_csv('GSE67916_gene-exp.txt', index_col=0, sep='\\t').drop('Probe_ID', axis = 1)"
   ]
  },
  {
   "cell_type": "code",
   "execution_count": null,
   "metadata": {},
   "outputs": [],
   "source": [
    "ER_pos = [GSE6532,GSE9195,GSE17705]"
   ]
  },
  {
   "cell_type": "code",
   "execution_count": null,
   "metadata": {},
   "outputs": [],
   "source": [
    "GSE24202 = pd.read_csv('GSE24202_gene-exp.txt', index_col=0, sep='\\t').drop('Probe_ID', axis = 1)\n",
    "GSE43495 = pd.read_csv('GSE43495_gene-exp.txt', index_col=0, sep='\\t').drop('Probe_ID', axis = 1)\n",
    "GSE67916 = pd.read_csv('GSE67916_gene-exp.txt', index_col=0, sep='\\t').drop('Probe_ID', axis = 1)\n",
    "GSE27473 = pd.read_csv('GSE27473_gene-exp.txt', index_col=0, sep='\\t').drop('Probe_ID', axis = 1)"
   ]
  },
  {
   "cell_type": "code",
   "execution_count": null,
   "metadata": {},
   "outputs": [],
   "source": [
    "NAR = [GSE24202,GSE43495,GSE67916,GSE27473]"
   ]
  },
  {
   "cell_type": "code",
   "execution_count": null,
   "metadata": {},
   "outputs": [],
   "source": [
    "for i in ER_pos+NAR:\n",
    "    i = ind_change(i)"
   ]
  },
  {
   "cell_type": "code",
   "execution_count": null,
   "metadata": {},
   "outputs": [],
   "source": [
    "def lmplot(data, x, y, title,  xlim= 'a', ylim = 'a'): \n",
    "    \n",
    "    per = stats.spearmanr(data[x], data[y])\n",
    "    if xlim == 'a'  and  ylim=='a':\n",
    "        if per[0] > 0:\n",
    "            xlim = data[x].max() - data[x].std()\n",
    "            ylim = data[y].min()\n",
    "    \n",
    "        else:\n",
    "            xlim = data[x].min() \n",
    "            ylim = data[y].min() + data[y].std()\n",
    "        \n",
    "    sns.lmplot(x=x, y=y, data=data, scatter_kws={\"s\": 6})\n",
    "    per = stats.spearmanr(data[x], data[y])\n",
    "    plt.title(title) \n",
    "    plt.text(xlim, ylim+0.1, 'Spearman corr {} \\np_value {:e}'.format(round(per[0],3),per[1]), horizontalalignment='left', size='large', color='black')\n",
    "    if x == 'PEBP1':\n",
    "        plt.xlabel('RKIP')\n",
    "    if y == 'PEBP1':\n",
    "        plt.ylabel('RKIP')\n",
    "\n",
    "    plt.show()\n"
   ]
  },
  {
   "cell_type": "code",
   "execution_count": null,
   "metadata": {},
   "outputs": [],
   "source": []
  },
  {
   "cell_type": "code",
   "execution_count": null,
   "metadata": {},
   "outputs": [],
   "source": [
    "import gseapy\n",
    "def SigScore(dataset):\n",
    "\n",
    "    dat = gseapy.ssgsea(data= dataset, gene_sets= \"Gene_Signatures/GenSig_RKIP_Metastasis.gmt\", outdir = 'test', min_size = 5)\n",
    "    dataset  = dataset.reindex(sorted(dataset.columns), axis=1)\n",
    "    GenSig_RKIP_Metastasis_scores = pd.read_csv('test/gseapy.gene_set.ssgsea.report.csv', index_col=0)\n",
    "    GenSig_RKIP_Metastasis_scores = GenSig_RKIP_Metastasis_scores.sort_values(by = 'Name', ascending = True)\n",
    "    dataset.loc['GenSig_RKIP_Metastasis_scores',:] = GenSig_RKIP_Metastasis_scores['NES']\n",
    "\n",
    "    dat = gseapy.ssgsea(data= dataset, gene_sets= \"Gene_Signatures/Tumor_KS_Epi.gmt\", outdir = 'test', min_size = 5)\n",
    "    dataset  = dataset.reindex(sorted(dataset.columns), axis=1)\n",
    "    GenSig_Tumor_KS_Epi = pd.read_csv('test/gseapy.gene_set.ssgsea.report.csv', index_col=0)\n",
    "    GenSig_Tumor_KS_Epi = GenSig_Tumor_KS_Epi.sort_values(by = 'Name', ascending = True)\n",
    "    dataset.loc['KS_Epithelial_Gene_Signature',:] = GenSig_Tumor_KS_Epi['NES']\n",
    "\n",
    "    dat = gseapy.ssgsea(data= dataset, gene_sets= \"Gene_Signatures/Tumor_KS_Mes.gmt\", outdir = 'test', min_size = 5)\n",
    "    dataset  = dataset.reindex(sorted(dataset.columns), axis=1)\n",
    "    GenSig_Tumor_KS_Mes = pd.read_csv('test/gseapy.gene_set.ssgsea.report.csv', index_col=0)\n",
    "    GenSig_Tumor_KS_Mes = GenSig_Tumor_KS_Mes.sort_values(by = 'Name', ascending = True)\n",
    "    dataset.loc['KS_Mesenchymal_Gene_Signature',:] = GenSig_Tumor_KS_Mes['NES']\n",
    "\n",
    "    dat = gseapy.ssgsea(data= dataset, gene_sets= \"Gene_Signatures/Hallmark_OXPHOS.gmt\", outdir = 'test', min_size = 5)\n",
    "    dataset  = dataset.reindex(sorted(dataset.columns), axis=1)\n",
    "    GenSig_Hallmark_OXPHOS = pd.read_csv('test/gseapy.gene_set.ssgsea.report.csv', index_col=0)\n",
    "    GenSig_Hallmark_OXPHOS = GenSig_Hallmark_OXPHOS.sort_values(by = 'Name', ascending = True)\n",
    "    dataset.loc['Hallmark_OXPHOS',:] = GenSig_Hallmark_OXPHOS['NES']\n",
    "\n",
    "    dat = gseapy.ssgsea(data= dataset, gene_sets= \"Gene_Signatures/Hallmark_Glycolysis.gmt\", outdir = 'test', min_size = 5)\n",
    "    dataset  = dataset.reindex(sorted(dataset.columns), axis=1)\n",
    "    GenSig_Hallmark_Glycolysis = pd.read_csv('test/gseapy.gene_set.ssgsea.report.csv', index_col=0)\n",
    "    GenSig_Hallmark_Glycolysis = GenSig_Hallmark_Glycolysis.sort_values(by = 'Name', ascending = True)\n",
    "    dataset.loc['Hallmark_Glycolysis',:] = GenSig_Hallmark_Glycolysis['NES']\n",
    "\n",
    "    dat = gseapy.ssgsea(data= dataset, gene_sets= \"Gene_Signatures/GenSig_PD-L1.gmt\", outdir = 'test', min_size = 5)\n",
    "    dataset  = dataset.reindex(sorted(dataset.columns), axis=1)\n",
    "    GenSig_PDL1 = pd.read_csv('test/gseapy.gene_set.ssgsea.report.csv', index_col=0)\n",
    "    GenSig_PDL1 = GenSig_PDL1.sort_values(by = 'Name', ascending = True)\n",
    "    dataset.loc['PD-L1_Gene_Signature',:] = GenSig_PDL1['NES']\n",
    "\n",
    "    dat = gseapy.ssgsea(data= dataset, gene_sets= \"Gene_Signatures/GenSig_FAO.gmt\", outdir = 'test', min_size = 5)\n",
    "    dataset  = dataset.reindex(sorted(dataset.columns), axis=1)\n",
    "    GenSig_FAO = pd.read_csv('test/gseapy.gene_set.ssgsea.report.csv', index_col=0)\n",
    "    GenSig_FAO = GenSig_FAO.sort_values(by = 'Name', ascending = True)\n",
    "    dataset.loc['FAO_Gene_Signature',:] = GenSig_FAO['NES']\n",
    "\n",
    "    dat = gseapy.ssgsea(data= dataset, gene_sets= \"Gene_Signatures/BACH1_Metastasis.gmt\", outdir = 'test', min_size = 5)\n",
    "    dataset  = dataset.reindex(sorted(dataset.columns), axis=1)\n",
    "    GenSig_BACH1_Metastasis_scores = pd.read_csv('test/gseapy.gene_set.ssgsea.report.csv', index_col=0)\n",
    "    GenSig_BACH1_Metastasis_scores = GenSig_BACH1_Metastasis_scores.sort_values(by = 'Name', ascending = True)\n",
    "    dataset.loc['GenSig_BACH1_Metastasis_scores',:] = GenSig_BACH1_Metastasis_scores['NES']\n",
    "\n",
    "    dat = gseapy.ssgsea(data= dataset, gene_sets= \"Gene_Signatures/GenSig_HIF1.gmt\", outdir = 'test', min_size = 5)\n",
    "    dataset  = dataset.reindex(sorted(dataset.columns), axis=1)\n",
    "    GenSig_HIF1 = pd.read_csv('test/gseapy.gene_set.ssgsea.report.csv', index_col=0)\n",
    "    GenSig_HIF1 = GenSig_HIF1.sort_values(by = 'Name', ascending = True)\n",
    "    dataset.loc['HIF1_Gene_Signature',:] = GenSig_HIF1['NES']\n",
    "\n",
    "\n",
    "\n",
    "    dat = gseapy.ssgsea(data= dataset, gene_sets= \"Gene_Signatures/NRF2_Meta_GenSig_Colorectal.gmt\", outdir = 'test', min_size = 5)\n",
    "    dataset  = dataset.reindex(sorted(dataset.columns), axis=1)\n",
    "    GenSig_NRF2_scores = pd.read_csv('test/gseapy.gene_set.ssgsea.report.csv', index_col=0)\n",
    "    GenSig_NRF2_scores = GenSig_NRF2_scores.sort_values(by = 'Name', ascending = True)\n",
    "    dataset.loc['NRF2_Gene_Signature',:] = GenSig_NRF2_scores['NES']\n",
    "\n",
    "    dat = gseapy.ssgsea(data= dataset, gene_sets= \"Gene_Signatures/GenSig_Ferroptosis_6_Mphag_bladder.gmt\", outdir = 'test', min_size = 5)\n",
    "    dataset  = dataset.reindex(sorted(dataset.columns), axis=1)\n",
    "    GenSig_Ferroptosis_6 = pd.read_csv('test/gseapy.gene_set.ssgsea.report.csv', index_col=0)\n",
    "    GenSig_Ferroptosis_6 = GenSig_Ferroptosis_6.sort_values(by = 'Name', ascending = True)\n",
    "    dataset.loc['GenSig_Ferroptosis_6',:] = GenSig_Ferroptosis_6['NES']\n",
    "\n",
    "    dat = gseapy.ssgsea(data= dataset, gene_sets= \"Gene_Signatures/GenSig_Ferroptosis_10_LBC.gmt\", outdir = 'test', min_size = 5)\n",
    "    dataset  = dataset.reindex(sorted(dataset.columns), axis=1)\n",
    "    GenSig_Ferroptosis_10_LBC = pd.read_csv('test/gseapy.gene_set.ssgsea.report.csv', index_col=0)\n",
    "    GenSig_Ferroptosis_10_LBC = GenSig_Ferroptosis_10_LBC.sort_values(by = 'Name', ascending = True)\n",
    "    dataset.loc['GenSig_Ferroptosis_10_LBC',:] = GenSig_Ferroptosis_10_LBC['NES']\n",
    "\n",
    "    dat = gseapy.ssgsea(data= dataset, gene_sets= \"Gene_Signatures/GenSig_Ferroptosis_Immune_45.gmt\", outdir = 'test', min_size = 5)\n",
    "    dataset  = dataset.reindex(sorted(dataset.columns), axis=1)\n",
    "    GenSig_Ferroptosis_Immune_45 = pd.read_csv('test/gseapy.gene_set.ssgsea.report.csv', index_col=0)\n",
    "    GenSig_Ferroptosis_Immune_45 = GenSig_Ferroptosis_Immune_45.sort_values(by = 'Name', ascending = True)\n",
    "    dataset.loc['GenSig_Ferroptosis_Immune_45',:] = GenSig_Ferroptosis_Immune_45['NES']\n",
    "\n",
    "\n",
    "    return dataset\n",
    "\n"
   ]
  },
  {
   "cell_type": "code",
   "execution_count": null,
   "metadata": {},
   "outputs": [],
   "source": [
    "GSE6532 = SigScore(GSE6532)\n",
    "GSE9195 = SigScore(GSE9195)\n",
    "GSE17705 = SigScore(GSE17705)\n",
    "GSE24202 = SigScore(GSE24202)\n",
    "GSE27473 = SigScore(GSE27473)\n",
    "GSE43495  = SigScore(GSE43495 )\n",
    "GSE67916 = SigScore(GSE67916)\n"
   ]
  },
  {
   "cell_type": "code",
   "execution_count": null,
   "metadata": {},
   "outputs": [],
   "source": []
  },
  {
   "attachments": {},
   "cell_type": "markdown",
   "metadata": {},
   "source": [
    "Figure 2"
   ]
  },
  {
   "cell_type": "code",
   "execution_count": null,
   "metadata": {},
   "outputs": [],
   "source": [
    "def corr_table(data, y,i):\n",
    "    Corr_Tab.loc['RKIP vs RKIP_Metastasis', y]  = stats.spearmanr(data.T['PEBP1'], data.T['GenSig_RKIP_Metastasis_scores'])[i]\n",
    "    Corr_Tab.loc['BACH1 vs BACH1_Metastasis', y]  = stats.spearmanr(data.T['BACH1'], data.T['GenSig_BACH1_Metastasis_scores'])[i]\n",
    "\n",
    "    Corr_Tab.loc['RKIP vs PDL1_GenSig', y]  = stats.spearmanr(data.T['PEBP1'], data.T['PD-L1_Gene_Signature'])[i]\n",
    "    Corr_Tab.loc['BACH1 vs PDL1_GenSig', y]  = stats.spearmanr(data.T['BACH1'], data.T['PD-L1_Gene_Signature'])[i]\n",
    " \n",
    "    Corr_Tab.loc['RKIP_Metastasis vs PDL1_GenSig', y]  = stats.spearmanr(data.T['GenSig_RKIP_Metastasis_scores'], data.T['PD-L1_Gene_Signature'])[i]\n",
    "    Corr_Tab.loc['BACH1_Metastasis vs PDL1_GenSig', y]  = stats.spearmanr(data.T['GenSig_BACH1_Metastasis_scores'], data.T['PD-L1_Gene_Signature'])[i]\n",
    "\n",
    "    Corr_Tab.loc['RKIP_Metastasis vs PDL1_GenSig', y]  = stats.spearmanr(data.T['GenSig_RKIP_Metastasis_scores'], data.T['PD-L1_Gene_Signature'])[i]\n",
    "    Corr_Tab.loc['BACH1_Metastasis vs PDL1_GenSig', y]  = stats.spearmanr(data.T['GenSig_BACH1_Metastasis_scores'], data.T['PD-L1_Gene_Signature'])[i]\n",
    "   \n",
    "    Corr_Tab.loc['RKIP_Metastasis vs OXPHOS_GenSig', y]  = stats.spearmanr(data.T['GenSig_RKIP_Metastasis_scores'], data.T['Hallmark_OXPHOS'])[i]\n",
    "    Corr_Tab.loc['BACH1_Metastasis vs OXPHOS_GenSig', y]  = stats.spearmanr(data.T['GenSig_BACH1_Metastasis_scores'], data.T['Hallmark_OXPHOS'])[i]\n",
    " \n",
    "    Corr_Tab.loc['RKIP_Metastasis vs FAO_GenSig', y]  = stats.spearmanr(data.T['GenSig_RKIP_Metastasis_scores'], data.T['FAO_Gene_Signature'])[i]\n",
    "    Corr_Tab.loc['BACH1_Metastasis vs FAO_GenSig', y]  = stats.spearmanr(data.T['GenSig_BACH1_Metastasis_scores'], data.T['FAO_Gene_Signature'])[i]\n",
    "\n",
    "    Corr_Tab.loc['RKIP_Metastasis vs Glycolysis_GenSig', y]  = stats.spearmanr(data.T['GenSig_RKIP_Metastasis_scores'], data.T['Hallmark_Glycolysis'])[i]\n",
    "    Corr_Tab.loc['BACH1_Metastasis vs Glycolysis_GenSig', y]  = stats.spearmanr(data.T['GenSig_BACH1_Metastasis_scores'], data.T['Hallmark_Glycolysis'])[i]\n",
    "\n",
    "    Corr_Tab.loc['RKIP_Metastasis vs HIF1_GenSig', y]  = stats.spearmanr(data.T['GenSig_RKIP_Metastasis_scores'], data.T['HIF1_Gene_Signature'])[i]\n",
    "    Corr_Tab.loc['BACH1_Metastasis vs HIF1_GenSig', y]  = stats.spearmanr(data.T['GenSig_BACH1_Metastasis_scores'], data.T['HIF1_Gene_Signature'])[i]\n",
    "\n",
    "    Corr_Tab.loc['RKIP vs NRF2', y]  = stats.spearmanr( data.T['PEBP1'], data.T['NFE2L2'])[i]\n",
    "    Corr_Tab.loc['BACH1 vs NRF2', y]  = stats.spearmanr( data.T['BACH1'], data.T['NFE2L2'])[i]\n",
    "\n",
    "    Corr_Tab.loc['RKIP vs NRF2_Gene_Signature', y]  = stats.spearmanr( data.T['PEBP1'], data.T['NRF2_Gene_Signature'])[i]\n",
    "    Corr_Tab.loc['BACH1 vs NRF2_Gene_Signature', y]  = stats.spearmanr( data.T['BACH1'], data.T['NRF2_Gene_Signature'])[i]\n",
    "\n",
    "    Corr_Tab.loc['RKIP vs GenSig_Ferroptosis_6', y]  = stats.spearmanr( data.T['PEBP1'], data.T['GenSig_Ferroptosis_6'])[i]\n",
    "    Corr_Tab.loc['BACH1 vs GenSig_Ferroptosis_6', y]  = stats.spearmanr( data.T['BACH1'], data.T['GenSig_Ferroptosis_6'])[i]\n",
    "\n",
    "    Corr_Tab.loc['RKIP vs GenSig_Ferroptosis_10_LBC', y]  = stats.spearmanr( data.T['PEBP1'], data.T['GenSig_Ferroptosis_10_LBC'])[i]\n",
    "    Corr_Tab.loc['BACH1 vs GenSig_Ferroptosis_10_LBC', y]  = stats.spearmanr( data.T['BACH1'], data.T['GenSig_Ferroptosis_10_LBC'])[i]\n",
    "\n",
    "    Corr_Tab.loc['RKIP vs GenSig_Ferroptosis_Immune_45', y]  = stats.spearmanr( data.T['PEBP1'], data.T['GenSig_Ferroptosis_Immune_45'])[i]\n",
    "    Corr_Tab.loc['BACH1 vs GenSig_Ferroptosis_Immune_45', y]  = stats.spearmanr( data.T['BACH1'], data.T['GenSig_Ferroptosis_Immune_45'])[i]\n",
    "\n",
    "    \n",
    "    Corr_Tab.loc['RKIP_Metastasis vs BACH1_Metastasis', y]  = stats.spearmanr(data.T['GenSig_RKIP_Metastasis_scores'], data.T['GenSig_BACH1_Metastasis_scores'])[i]\n",
    "\n",
    "\n"
   ]
  },
  {
   "cell_type": "code",
   "execution_count": null,
   "metadata": {},
   "outputs": [],
   "source": [
    "def corr_table1(data, y,i):\n",
    "\n",
    "    Corr_Tab.loc['RKIP vs RKIP_Metastasis', y]  = stats.spearmanr(data.T['PEBP1'], data.T['GenSig_RKIP_Metastasis_scores'])[i]\n",
    "    Corr_Tab.loc['BACH1 vs BACH1_Metastasis', y]  = stats.spearmanr(data.T['BACH1'], data.T['GenSig_BACH1_Metastasis_scores'])[i]\n",
    " \n",
    "    Corr_Tab.loc['RKIP vs PDL1_GenSig', y]  = stats.spearmanr(data.T['PEBP1'], data.T['PD-L1_Gene_Signature'])[i]\n",
    "    Corr_Tab.loc['BACH1 vs PDL1_GenSig', y]  = stats.spearmanr(data.T['BACH1'], data.T['PD-L1_Gene_Signature'])[i]\n",
    "\n",
    "    Corr_Tab.loc['RKIP vs PDL1_GenSig', y]  = stats.spearmanr(data.T['PEBP1'], data.T['PD-L1_Gene_Signature'])[i]\n",
    "    Corr_Tab.loc['BACH1 vs PDL1_GenSig', y]  = stats.spearmanr(data.T['BACH1'], data.T['PD-L1_Gene_Signature'])[i]\n",
    "   \n",
    "    Corr_Tab.loc['RKIP vs OXPHOS_GenSig', y]  = stats.spearmanr(data.T['PEBP1'], data.T['Hallmark_OXPHOS'])[i]\n",
    "    Corr_Tab.loc['BACH1 vs OXPHOS_GenSig', y]  = stats.spearmanr(data.T['BACH1'], data.T['Hallmark_OXPHOS'])[i]\n",
    " \n",
    "    Corr_Tab.loc['RKIP vs FAO_GenSig', y]  = stats.spearmanr(data.T['PEBP1'], data.T['FAO_Gene_Signature'])[i]\n",
    "    Corr_Tab.loc['BACH1 vs FAO_GenSig', y]  = stats.spearmanr(data.T['BACH1'], data.T['FAO_Gene_Signature'])[i]\n",
    "\n",
    "    Corr_Tab.loc['RKIP vs Glycolysis_GenSig', y]  = stats.spearmanr(data.T['PEBP1'], data.T['Hallmark_Glycolysis'])[i]\n",
    "    Corr_Tab.loc['BACH1 vs Glycolysis_GenSig', y]  = stats.spearmanr(data.T['BACH1'], data.T['Hallmark_Glycolysis'])[i]\n",
    "\n",
    "    Corr_Tab.loc['RKIP vs HIF1_GenSig', y]  = stats.spearmanr(data.T['PEBP1'], data.T['HIF1_Gene_Signature'])[i]\n",
    "    Corr_Tab.loc['BACH1 vs HIF1_GenSig', y]  = stats.spearmanr(data.T['BACH1'], data.T['HIF1_Gene_Signature'])[i]\n",
    "\n",
    "    Corr_Tab.loc['RKIP_Metastasis vs BACH1_Metastasis', y]  = stats.spearmanr(data.T['GenSig_RKIP_Metastasis_scores'], data.T['GenSig_BACH1_Metastasis_scores'])[i]\n",
    "\n",
    "    \n"
   ]
  },
  {
   "cell_type": "code",
   "execution_count": null,
   "metadata": {},
   "outputs": [],
   "source": [
    "\n",
    "Corr_Tab=pd.DataFrame()"
   ]
  },
  {
   "cell_type": "code",
   "execution_count": null,
   "metadata": {},
   "outputs": [],
   "source": [
    "corr_table(GSE6532,'GSE6532',1)\n",
    "corr_table(GSE9195,'GSE9195',1)\n",
    "corr_table(GSE17705,'GSE17705',1)\n",
    "corr_table(GSE24202,'GSE24202',1)\n",
    "corr_table(GSE27473,'GSE27473',1)\n",
    "corr_table(GSE43495,'GSE43495',1)\n",
    "corr_table(GSE67916,'GSE67916',1)\n",
    "Corr_Tab_Star=Corr_Tab.copy()"
   ]
  },
  {
   "cell_type": "code",
   "execution_count": null,
   "metadata": {},
   "outputs": [],
   "source": [
    "corr_table1(GSE6532,'GSE6532',1)\n",
    "corr_table1(GSE9195,'GSE9195',1)\n",
    "corr_table1(GSE17705,'GSE17705',1)\n",
    "corr_table1(GSE24202,'GSE24202',1)\n",
    "corr_table1(GSE27473,'GSE27473',1)\n",
    "corr_table1(GSE43495,'GSE43495',1)\n",
    "corr_table1(GSE67916,'GSE67916',1)\n",
    "Corr_Tab_Star=Corr_Tab.copy()"
   ]
  },
  {
   "cell_type": "code",
   "execution_count": null,
   "metadata": {},
   "outputs": [],
   "source": [
    "Corr_Tab"
   ]
  },
  {
   "cell_type": "code",
   "execution_count": null,
   "metadata": {},
   "outputs": [],
   "source": [
    "corr_table(GSE6532,'GSE6532',0)\n",
    "corr_table(GSE9195,'GSE9195',0)\n",
    "corr_table(GSE17705,'GSE17705',0)\n",
    "corr_table(GSE24202,'GSE24202',0)\n",
    "corr_table(GSE27473,'GSE27473',0)\n",
    "corr_table(GSE43495,'GSE43495',0)\n",
    "corr_table(GSE67916,'GSE67916',0)\n",
    "\n"
   ]
  },
  {
   "cell_type": "code",
   "execution_count": null,
   "metadata": {},
   "outputs": [],
   "source": [
    "Corr_Tab_Star_cp=Corr_Tab_Star.copy()"
   ]
  },
  {
   "cell_type": "code",
   "execution_count": null,
   "metadata": {},
   "outputs": [],
   "source": [
    "Corr_Tab_Star_cp"
   ]
  },
  {
   "cell_type": "code",
   "execution_count": null,
   "metadata": {},
   "outputs": [],
   "source": [
    "for i in range(len(Corr_Tab_Star.columns)):\n",
    "    for j in range(len(Corr_Tab_Star.index)):\n",
    "        \n",
    "        if Corr_Tab_Star_cp.iloc[j,i] < 0.05 :\n",
    "            Corr_Tab_Star.iloc[j,i] = '**'\n",
    "        \n",
    "        elif Corr_Tab_Star_cp.iloc[j,i] < 0.1 :\n",
    "            Corr_Tab_Star.iloc[j,i] = '*'\n",
    "        \n",
    "\n",
    "        else:\n",
    "            Corr_Tab_Star.iloc[j,i] = ''\n",
    "        \n"
   ]
  },
  {
   "attachments": {},
   "cell_type": "markdown",
   "metadata": {},
   "source": [
    "Figure E (i)"
   ]
  },
  {
   "cell_type": "code",
   "execution_count": null,
   "metadata": {},
   "outputs": [],
   "source": [
    "fig_2g_spear = Corr_Tab.loc[['RKIP vs RKIP_Metastasis','BACH1 vs BACH1_Metastasis','RKIP_Metastasis vs BACH1_Metastasis'],['GSE6532','GSE9195','GSE17705','GSE24202','GSE43495','GSE67916']]\n",
    "fig_2g_spear_star = Corr_Tab_Star.loc[['RKIP vs RKIP_Metastasis','BACH1 vs BACH1_Metastasis','RKIP_Metastasis vs BACH1_Metastasis'],['GSE6532','GSE9195','GSE17705','GSE24202','GSE43495','GSE67916']]\n",
    "fig_2g_spear.index = [  'RKIP vs RPMS (GS)' , 'BACH1 vs BPMS (GS)', 'RPMS (GS) vs BPMS (GS)' ]\n",
    "\n",
    "plt.figure(figsize=(25,20))\n",
    "\n",
    "plt.rcParams['figure.dpi']= 1000\n",
    "ax = sns.heatmap(fig_2g_spear, linewidths = 1,  cmap=\"coolwarm\", square = True, fmt=\"\",vmax = 0.8, vmin = -0.8, annot = fig_2g_spear_star\n",
    "            ,cbar_kws={'orientation': 'horizontal', 'pad' : 0.29, 'aspect': 25},  annot_kws={'size': 60} )\n",
    "cbar = ax.collections[0].colorbar\n",
    "cbar.ax.tick_params(labelsize=50)\n",
    "plt.tick_params(axis='both', which='major', labelsize=60)\n",
    "#plt.xticks( rotation=50, horizontalalignment='right',fontname='Arial', labelsize=24)\n",
    "plt.tick_params(axis='both', labelsize=60 )\n",
    "plt.yticks( rotation=360, horizontalalignment='right',fontname='Arial')\n",
    "plt.xticks( rotation=50, horizontalalignment='right')\n",
    "#plt.txt('Gene/Pathway',3 labelpad = 20)"
   ]
  },
  {
   "cell_type": "code",
   "execution_count": null,
   "metadata": {},
   "outputs": [],
   "source": [
    "fig_2g_spear = Corr_Tab.loc[['RKIP vs PDL1_GenSig','BACH1 vs PDL1_GenSig','RKIP vs GenSig_Ferroptosis_Immune_45','BACH1 vs GenSig_Ferroptosis_Immune_45'],['GSE6532','GSE9195','GSE17705','GSE24202','GSE43495','GSE67916']]\n",
    "fig_2g_spear_star = Corr_Tab_Star.loc[['RKIP vs PDL1_GenSig','BACH1 vs PDL1_GenSig','RKIP vs GenSig_Ferroptosis_Immune_45','BACH1 vs GenSig_Ferroptosis_Immune_45'],['GSE6532','GSE9195','GSE17705','GSE24202','GSE43495','GSE67916']]\n",
    "fig_2g_spear.index = [  'RKIP vs PD-L1 (GS)' , 'BACH1 vs PD-L1 (GS)','RKIP vs Ferroptosis (GS)','BACH1 vs Ferroptosis (GS)']\n",
    "\n",
    "plt.figure(figsize=(27,22))\n",
    "#sns.set(rc={'figure.figsize':(10,10)})\n",
    "#plt.title('ER+ve Breast Cancer Datasets (Spearman coefficients)')\n",
    "\n",
    "ax = sns.heatmap(fig_2g_spear, linewidths = 1,  cmap=\"coolwarm\", square = True, fmt=\"\",vmax = 0.8, vmin = -0.8, annot = fig_2g_spear_star\n",
    "            ,cbar_kws={'orientation': 'horizontal', 'pad' : 0.29, 'aspect': 25},  annot_kws={'size': 60} )\n",
    "#cbar = ax.collections[0].colorbar\n",
    "#cbar.ax.tick_params(labelsize=50)\n",
    "plt.tick_params(axis='both', which='major', labelsize=60)\n",
    "#plt.xticks( rotation=50, horizontalalignment='right',fontname='Arial', labelsize=24)\n",
    "plt.tick_params(axis='both', labelsize=60 )\n",
    "plt.yticks( rotation=360, horizontalalignment='right',fontname='Arial')\n",
    "plt.xticks( rotation=50, horizontalalignment='right')\n",
    "#plt.txt('Gene/Pathway',  labelpad = 20)"
   ]
  },
  {
   "attachments": {},
   "cell_type": "markdown",
   "metadata": {},
   "source": [
    "Figure 2 E (ii)"
   ]
  },
  {
   "cell_type": "code",
   "execution_count": null,
   "metadata": {},
   "outputs": [],
   "source": [
    "fig_2h_spear = Corr_Tab.loc[['RKIP_Metastasis vs PDL1_GenSig','BACH1_Metastasis vs PDL1_GenSig','RKIP vs GenSig_Ferroptosis_Immune_45','BACH1 vs GenSig_Ferroptosis_Immune_45'],['GSE6532','GSE9195','GSE17705','GSE24202','GSE43495','GSE67916']]\n",
    "fig_2h_spear_star = Corr_Tab_Star.loc[['RKIP_Metastasis vs PDL1_GenSig','BACH1_Metastasis vs PDL1_GenSig','RKIP vs GenSig_Ferroptosis_Immune_45','BACH1 vs GenSig_Ferroptosis_Immune_45'],['GSE6532','GSE9195','GSE17705','GSE24202','GSE43495','GSE67916']]\n",
    "fig_2h_spear.index = [  'RPMS (GS) vs PDL1 (GS)' , 'BPMS (GS) vs PDL1 (GS)','RKIP vs Ferroptosis (GS)','BACH1 vs Ferroptosis (GS)']\n",
    "\n",
    "plt.figure(figsize=(27,22))\n",
    "#sns.set(rc={'figure.figsize':(10,10)})\n",
    "#plt.title('ER+ve Breast Cancer Datasets (Spearman coefficients)')\n",
    "\n",
    "ax = sns.heatmap(fig_2h_spear, linewidths = 1,  cmap=\"coolwarm\", square = True, fmt=\"\",vmax = 0.8, vmin = -0.8, annot = fig_2h_spear_star\n",
    "            ,cbar_kws={'orientation': 'horizontal', 'pad' : 0.29, 'aspect': 25},  annot_kws={'size': 60} )\n",
    "cbar = ax.collections[0].colorbar\n",
    "cbar.ax.tick_params(labelsize=50)\n",
    "plt.tick_params(axis='both', which='major', labelsize=60)\n",
    "#plt.xticks( rotation=50, horizontalalignment='right',fontname='Arial', labelsize=24)\n",
    "plt.tick_params(axis='both', labelsize=60 )\n",
    "plt.yticks( rotation=360, horizontalalignment='right',fontname='Arial')\n",
    "plt.xticks( rotation=50, horizontalalignment='right')\n",
    "#plt.txt('Gene/Pathway',  labelpad = 20)"
   ]
  },
  {
   "attachments": {},
   "cell_type": "markdown",
   "metadata": {},
   "source": [
    "Figure 2E (ii)"
   ]
  },
  {
   "attachments": {},
   "cell_type": "markdown",
   "metadata": {},
   "source": [
    "Figure 2E (iii) "
   ]
  },
  {
   "cell_type": "code",
   "execution_count": null,
   "metadata": {},
   "outputs": [],
   "source": [
    "fig_2j_spear = Corr_Tab.loc[['RKIP_Metastasis vs OXPHOS_GenSig','BACH1_Metastasis vs OXPHOS_GenSig','RKIP_Metastasis vs FAO_GenSig','BACH1_Metastasis vs FAO_GenSig','RKIP_Metastasis vs Glycolysis_GenSig','BACH1_Metastasis vs Glycolysis_GenSig',\n",
    "                             ],['GSE6532','GSE9195','GSE17705','GSE24202','GSE43495','GSE67916']]\n",
    "fig_2j_spear_star = Corr_Tab_Star.loc[['RKIP_Metastasis vs OXPHOS_GenSig','BACH1_Metastasis vs OXPHOS_GenSig','RKIP_Metastasis vs FAO_GenSig','BACH1_Metastasis vs FAO_GenSig','RKIP_Metastasis vs Glycolysis_GenSig','BACH1_Metastasis vs Glycolysis_GenSig',\n",
    "                                       ],['GSE6532','GSE9195','GSE17705','GSE24202','GSE43495','GSE67916']]\n",
    "fig_2j_spear.index = [ 'RPMS (GS) vs OXPHOS (GS)','BPMS (GS) vs OXPHOS (GS)','RPMS (GS) vs FAO (GS)','BPMS (GS) vs FAO (GS)','RPMS (GS) vs Glycolysis (GS)','BPMS (GS) vs Glycolysis (GS)',\n",
    "                             ]\n",
    "\n",
    "plt.figure(figsize=(25,20))\n",
    "plt.rcParams['figure.dpi']= 500\n",
    "#sns.set(rc={'figure.figsize':(10,10)})\n",
    "#plt.title('ER+ve Breast Cancer Datasets (Spearman coefficients)')\n",
    "\n",
    "ax = sns.heatmap(fig_2j_spear, linewidths = 1,  cmap=\"coolwarm\", square = True, fmt=\"\",vmax = 0.8, vmin = -0.8, annot = fig_2j_spear_star\n",
    "            ,cbar_kws={'orientation': 'vertical', 'pad' : 0.13, 'aspect': 25},  annot_kws={'size': 45} )\n",
    "cbar = ax.collections[0].colorbar\n",
    "cbar.ax.tick_params(labelsize=35)\n",
    "plt.tick_params(axis='both', which='major', labelsize=55)\n",
    "#plt.xticks( rotation=50, horizontalalignment='right',fontname='Arial', labelsize=24)\n",
    "plt.tick_params(axis='both', labelsize=55 )\n",
    "plt.yticks( rotation=360, horizontalalignment='right',fontname='Arial')\n",
    "plt.xticks( rotation=50, horizontalalignment='right')\n",
    "#plt.txt('Gene/Pathway',  labelpad = 20)"
   ]
  }
 ],
 "metadata": {
  "kernelspec": {
   "display_name": "base",
   "language": "python",
   "name": "python3"
  },
  "language_info": {
   "codemirror_mode": {
    "name": "ipython",
    "version": 3
   },
   "file_extension": ".py",
   "mimetype": "text/x-python",
   "name": "python",
   "nbconvert_exporter": "python",
   "pygments_lexer": "ipython3",
   "version": "3.11.4"
  },
  "orig_nbformat": 4,
  "vscode": {
   "interpreter": {
    "hash": "d47d9269cffa2cf13049e19e7e2c2cdbc3e0a106bf3d85d87066843337b02bbd"
   }
  }
 },
 "nbformat": 4,
 "nbformat_minor": 2
}
