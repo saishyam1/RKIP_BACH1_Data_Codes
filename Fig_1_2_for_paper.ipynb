{
 "cells": [
  {
   "cell_type": "code",
   "execution_count": null,
   "metadata": {},
   "outputs": [],
   "source": [
    "import pandas as pd\n",
    "import numpy as np\n",
    "import seaborn as sns\n",
    "import matplotlib.pyplot as plt \n",
    "from sklearn.preprocessing import StandardScaler\n",
    "import scipy\n",
    "from scipy import stats\n",
    "import os\n"
   ]
  },
  {
   "cell_type": "code",
   "execution_count": null,
   "metadata": {},
   "outputs": [],
   "source": [
    "def corr_scatter(data, x, y, title): \n",
    "    \n",
    "    xlim = data.loc[:,x].min() \n",
    "    #print(xlim)\n",
    "    ylim = data.loc[:,y].max() - data.loc[:,y].std()\n",
    "    #print(ylim)\n",
    "    sns.lmplot(x=x, y=y, data=data, scatter_kws={\"s\": 6})\n",
    "    per = stats.pearsonr(data[x], data[y])\n",
    "    plt.title(title) \n",
    "    plt.text(xlim, ylim, 'Pearson corr {} \\np_value {:e}'.format(round(per[0],3),per[1]), horizontalalignment='left', size='large', color='black')\n",
    "    if x == 'PEBP1':\n",
    "        plt.xlabel('RKIP')\n",
    "    if y == 'PEBP1':\n",
    "        plt.ylabel('RKIP')\n",
    "\n",
    "    plt.show()\n"
   ]
  },
  {
   "cell_type": "code",
   "execution_count": null,
   "metadata": {},
   "outputs": [],
   "source": [
    "def flotify(data):\n",
    "    c = data.columns\n",
    "    for i in c:\n",
    "        data[i] = data[i].astype('float')\n",
    "\n",
    "\n",
    "def intersection(lst1, lst2):\n",
    "    return list(set(lst1) & set(lst2))\n",
    "\n",
    "def ind_change(data):\n",
    "    ind = list(data.index)\n",
    "    indn = []\n",
    "    for i in ind:\n",
    "        indn.append(i.strip())\n",
    "    indn\n",
    "    data.index = indn\n",
    "    return data\n",
    "\n",
    "\n",
    "\n",
    "\n",
    "def KS_Score_Finder(Dataset):\n",
    "    a = pd.DataFrame([[0]*len(Dataset.T)])\n",
    "    a.columns = Dataset.columns\n",
    "    a.index = ['KS_Score']\n",
    "    a.loc['KS_Mes_Score'] = 0 \n",
    "    a.loc['KS_Mes_p_Value'] = 0 \n",
    "    a.loc['KS_Epi_Score'] = 0 \n",
    "    a.loc['KS_Epi_p_value'] = 0 \n",
    "\n",
    "    for i in Dataset.columns:\n",
    "        KS_MesGrt = scipy.stats.ks_2samp(Dataset.loc[intersection(Dataset.index, KS_Tumor_Mes),].loc[:,i],Dataset.loc[intersection(Dataset.index, KS_Tumor_Epi),].loc[:,i], alternative='greater')\n",
    "        KS_EpiGrt = scipy.stats.ks_2samp(Dataset.loc[intersection(Dataset.index, KS_Tumor_Epi),].loc[:,i],Dataset.loc[intersection(Dataset.index, KS_Tumor_Mes),].loc[:,i], alternative='greater')\n",
    "        a.loc['KS_Mes_Score',i] = KS_MesGrt[0]\n",
    "        a.loc['KS_Mes_p_Value',i] = KS_MesGrt[1]\n",
    "        a.loc['KS_Epi_Score',i] = KS_EpiGrt[0]\n",
    "        a.loc['KS_Epi_p_value',i] = KS_EpiGrt[1]\n",
    "        #print(i)\n",
    "\n",
    "\n",
    "    for i in Dataset.columns:\n",
    "        #print(i)\n",
    "        if a.loc['KS_Mes_p_Value',i] < 0.05:\n",
    "            a.loc['KS_Score',i] = -1*a.loc['KS_Mes_Score',i]\n",
    "        \n",
    "        elif a.loc['KS_Epi_p_value',i] < 0.05:\n",
    "            a.loc['KS_Score',i] = a.loc['KS_Epi_Score',i]\n",
    "        \n",
    "        elif a.loc['KS_Epi_Score',i] > a.loc['KS_Mes_Score',i]:\n",
    "            a.loc['KS_Score',i] = a.loc['KS_Epi_Score',i]\n",
    "        \n",
    "        else: \n",
    "            a.loc['KS_Score',i] = -1*a.loc['KS_Mes_Score',i]\n",
    "        \n",
    "    return a"
   ]
  },
  {
   "cell_type": "code",
   "execution_count": null,
   "metadata": {},
   "outputs": [],
   "source": [
    "KS_Tumor_Epi = list(pd.read_csv('Tumor_KS_Epi.gmt', sep='\\t'))[2:]\n",
    "KS_Tumor_Mes = list(pd.read_csv('Tumor_KS_Mes.gmt', sep='\\t'))[2:]\n"
   ]
  },
  {
   "cell_type": "code",
   "execution_count": null,
   "metadata": {},
   "outputs": [],
   "source": [
    "def GS76_Score_TPM_input(data):\n",
    "    li = sorted(list(pd.read_csv('76GS_Genes_original.txt', sep = '\\t').T.loc['Gene',:]))\n",
    "    #print(li)\n",
    "    genes_in_dataset = data.index\n",
    "    filt = intersection(li, genes_in_dataset)\n",
    "    #print(len(filt))\n",
    "    \n",
    "    weights = []\n",
    "    filtered_list = data.loc[filt,].sort_index()\n",
    "    weight = pd.DataFrame([[0]*len(filt)])\n",
    "    weight.columns = filtered_list.index\n",
    "    #print(weight)\n",
    "    \n",
    "\n",
    "    for i in filtered_list.index:\n",
    "        if i !='CDH1':\n",
    "            weight.loc[0,i]= stats.pearsonr(filtered_list.loc['CDH1',], filtered_list.loc[i,])[0]\n",
    "            #print(weights)\n",
    "        elif i == 'CDH1':\n",
    "            weight.loc[0,i]=0\n",
    "    #print(len(weights))\n",
    "\n",
    "    #weighted_array = np.array(weights) \n",
    "    GS76_score = ind_change(filtered_list).T@weight.T\n",
    "    GS76_Centered = (GS76_score - GS76_score.mean()).T\n",
    "\n",
    "\n",
    "    for i in data.columns:\n",
    "        data.loc['76GS_Score',i] = GS76_Centered.loc[0,i] \n",
    "\n",
    "    return data\n"
   ]
  },
  {
   "cell_type": "code",
   "execution_count": null,
   "metadata": {},
   "outputs": [],
   "source": [
    "import gseapy\n",
    "def SigScore(dataset):\n",
    "\n",
    "    dat = gseapy.ssgsea(data= dataset, gene_sets= \"GenSig_RKIP_Metastasis.gmt\", outdir = 'test', min_size = 5)\n",
    "    dataset  = dataset.reindex(sorted(dataset.columns), axis=1)\n",
    "    GenSig_RKIP_Metastasis_scores = pd.read_csv('test/gseapy.gene_set.ssgsea.report.csv', index_col=0)\n",
    "    GenSig_RKIP_Metastasis_scores = GenSig_RKIP_Metastasis_scores.sort_values(by = 'Name', ascending = True)\n",
    "    dataset.loc['GenSig_RKIP_Metastasis_scores',:] = GenSig_RKIP_Metastasis_scores['NES']\n",
    "\n",
    "    dat = gseapy.ssgsea(data= dataset, gene_sets= \"Tumor_KS_Epi.gmt\", outdir = 'test', min_size = 5)\n",
    "    dataset  = dataset.reindex(sorted(dataset.columns), axis=1)\n",
    "    GenSig_Tumor_KS_Epi = pd.read_csv('test/gseapy.gene_set.ssgsea.report.csv', index_col=0)\n",
    "    GenSig_Tumor_KS_Epi = GenSig_Tumor_KS_Epi.sort_values(by = 'Name', ascending = True)\n",
    "    dataset.loc['KS_Epithelial_Gene_Signature',:] = GenSig_Tumor_KS_Epi['NES']\n",
    "\n",
    "    dat = gseapy.ssgsea(data= dataset, gene_sets= \"Tumor_KS_Mes.gmt\", outdir = 'test', min_size = 5)\n",
    "    dataset  = dataset.reindex(sorted(dataset.columns), axis=1)\n",
    "    GenSig_Tumor_KS_Mes = pd.read_csv('test/gseapy.gene_set.ssgsea.report.csv', index_col=0)\n",
    "    GenSig_Tumor_KS_Mes = GenSig_Tumor_KS_Mes.sort_values(by = 'Name', ascending = True)\n",
    "    dataset.loc['KS_Mesenchymal_Gene_Signature',:] = GenSig_Tumor_KS_Mes['NES']\n",
    "\n",
    "    dat = gseapy.ssgsea(data= dataset, gene_sets= \"Hallmark_OXPHOS.gmt\", outdir = 'test', min_size = 5)\n",
    "    dataset  = dataset.reindex(sorted(dataset.columns), axis=1)\n",
    "    GenSig_Hallmark_OXPHOS = pd.read_csv('test/gseapy.gene_set.ssgsea.report.csv', index_col=0)\n",
    "    GenSig_Hallmark_OXPHOS = GenSig_Hallmark_OXPHOS.sort_values(by = 'Name', ascending = True)\n",
    "    dataset.loc['Hallmark_OXPHOS',:] = GenSig_Hallmark_OXPHOS['NES']\n",
    "\n",
    "    dat = gseapy.ssgsea(data= dataset, gene_sets= \"Hallmark_Glycolysis.gmt\", outdir = 'test', min_size = 5)\n",
    "    dataset  = dataset.reindex(sorted(dataset.columns), axis=1)\n",
    "    GenSig_Hallmark_Glycolysis = pd.read_csv('test/gseapy.gene_set.ssgsea.report.csv', index_col=0)\n",
    "    GenSig_Hallmark_Glycolysis = GenSig_Hallmark_Glycolysis.sort_values(by = 'Name', ascending = True)\n",
    "    dataset.loc['Hallmark_Glycolysis',:] = GenSig_Hallmark_Glycolysis['NES']\n",
    "\n",
    "    dat = gseapy.ssgsea(data= dataset, gene_sets= \"GenSig_PD-L1.gmt\", outdir = 'test', min_size = 5)\n",
    "    dataset  = dataset.reindex(sorted(dataset.columns), axis=1)\n",
    "    GenSig_PDL1 = pd.read_csv('test/gseapy.gene_set.ssgsea.report.csv', index_col=0)\n",
    "    GenSig_PDL1 = GenSig_PDL1.sort_values(by = 'Name', ascending = True)\n",
    "    dataset.loc['PD-L1_Gene_Signature',:] = GenSig_PDL1['NES']\n",
    "\n",
    "    dat = gseapy.ssgsea(data= dataset, gene_sets= \"GenSig_FAO.gmt\", outdir = 'test', min_size = 5)\n",
    "    dataset  = dataset.reindex(sorted(dataset.columns), axis=1)\n",
    "    GenSig_FAO = pd.read_csv('test/gseapy.gene_set.ssgsea.report.csv', index_col=0)\n",
    "    GenSig_FAO = GenSig_FAO.sort_values(by = 'Name', ascending = True)\n",
    "    dataset.loc['FAO_Gene_Signature',:] = GenSig_FAO['NES']\n",
    "\n",
    "    dat = gseapy.ssgsea(data= dataset, gene_sets= \"BACH1_Metastasis.gmt\", outdir = 'test', min_size = 5)\n",
    "    dataset  = dataset.reindex(sorted(dataset.columns), axis=1)\n",
    "    GenSig_BACH1_Metastasis_scores = pd.read_csv('test/gseapy.gene_set.ssgsea.report.csv', index_col=0)\n",
    "    GenSig_BACH1_Metastasis_scores = GenSig_BACH1_Metastasis_scores.sort_values(by = 'Name', ascending = True)\n",
    "    dataset.loc['GenSig_BACH1_Metastasis_scores',:] = GenSig_BACH1_Metastasis_scores['NES']\n",
    "\n",
    "    dat = gseapy.ssgsea(data= dataset, gene_sets= \"GenSig_Ferroptosis_Immune_45.gmt\", outdir = 'test', min_size = 5)\n",
    "    dataset  = dataset.reindex(sorted(dataset.columns), axis=1)\n",
    "    GenSig_Ferroptosis_Immune_45 = pd.read_csv('test/gseapy.gene_set.ssgsea.report.csv', index_col=0)\n",
    "    GenSig_Ferroptosis_Immune_45 = GenSig_Ferroptosis_Immune_45.sort_values(by = 'Name', ascending = True)\n",
    "    dataset.loc['GenSig_Ferroptosis_Immune_45',:] = GenSig_Ferroptosis_Immune_45['NES']\n",
    "\n",
    "    return dataset\n"
   ]
  },
  {
   "cell_type": "code",
   "execution_count": null,
   "metadata": {},
   "outputs": [],
   "source": [
    "'''import gseapy\n",
    "def SigScore2(dataset):\n",
    "\n",
    "    dat = gseapy.ssgsea(data= dataset, gene_sets= \"NRF2_Meta_GenSig_Colorectal.gmt\", outdir = 'test', min_size = 5)\n",
    "    dataset  = dataset.reindex(sorted(dataset.columns), axis=1)\n",
    "    GenSig_NRF2_scores = pd.read_csv('test/gseapy.gene_set.ssgsea.report.csv', index_col=0)\n",
    "    GenSig_NRF2_scores = GenSig_NRF2_scores.sort_values(by = 'Name', ascending = True)\n",
    "    dataset.loc['NRF2_Gene_Signature',:] = GenSig_NRF2_scores['NES']\n",
    "\n",
    "    dat = gseapy.ssgsea(data= dataset, gene_sets= \"GenSig_Ferroptosis_6_Mphag_bladder.gmt\", outdir = 'test', min_size = 5)\n",
    "    dataset  = dataset.reindex(sorted(dataset.columns), axis=1)\n",
    "    GenSig_Ferroptosis_6 = pd.read_csv('test/gseapy.gene_set.ssgsea.report.csv', index_col=0)\n",
    "    GenSig_Ferroptosis_6 = GenSig_Ferroptosis_6.sort_values(by = 'Name', ascending = True)\n",
    "    dataset.loc['GenSig_Ferroptosis_6',:] = GenSig_Ferroptosis_6['NES']\n",
    "\n",
    "    dat = gseapy.ssgsea(data= dataset, gene_sets= \"GenSig_Ferroptosis_10_LBC.gmt\", outdir = 'test', min_size = 5)\n",
    "    dataset  = dataset.reindex(sorted(dataset.columns), axis=1)\n",
    "    GenSig_Ferroptosis_10_LBC = pd.read_csv('test/gseapy.gene_set.ssgsea.report.csv', index_col=0)\n",
    "    GenSig_Ferroptosis_10_LBC = GenSig_Ferroptosis_10_LBC.sort_values(by = 'Name', ascending = True)\n",
    "    dataset.loc['GenSig_Ferroptosis_10_LBC',:] = GenSig_Ferroptosis_10_LBC['NES']\n",
    "\n",
    "    dat = gseapy.ssgsea(data= dataset, gene_sets= \"GenSig_Ferroptosis_Immune_45.gmt\", outdir = 'test', min_size = 5)\n",
    "    dataset  = dataset.reindex(sorted(dataset.columns), axis=1)\n",
    "    GenSig_Ferroptosis_Immune_45 = pd.read_csv('test/gseapy.gene_set.ssgsea.report.csv', index_col=0)\n",
    "    GenSig_Ferroptosis_Immune_45 = GenSig_Ferroptosis_Immune_45.sort_values(by = 'Name', ascending = True)\n",
    "    dataset.loc['GenSig_Ferroptosis_Immune_45',:] = GenSig_Ferroptosis_Immune_45['NES']\n",
    "\n",
    "    return dataset\n",
    "'''"
   ]
  },
  {
   "cell_type": "code",
   "execution_count": null,
   "metadata": {},
   "outputs": [],
   "source": [
    "TCGA_BRCA_scored= pd.read_csv('Data_Figure1_2/TCGA_BRCA.csv', index_col=0)"
   ]
  },
  {
   "cell_type": "code",
   "execution_count": null,
   "metadata": {},
   "outputs": [],
   "source": [
    "TCGA_ACC_scored = pd.read_csv('Data_Figure1_2/TCGA_ACC.csv', index_col=0)\n",
    "TCGA_BLCA_scored = pd.read_csv('Data_Figure1_2/TCGA_BLCA.csv', index_col=0)\n",
    "TCGA_BRCA_scored= pd.read_csv('Data_Figure1_2/TCGA_BRCA.csv', index_col=0)\n",
    "TCGA_CESC_scored =pd.read_csv('Data_Figure1_2/TCGA_CESC.csv', index_col=0)\n",
    "TCGA_CHOL_scored= pd.read_csv('Data_Figure1_2/TCGA_CHOL.csv', index_col=0)\n",
    "TCGA_COAD_scored= pd.read_csv('Data_Figure1_2/TCGA_COAD.csv', index_col=0)\n",
    "TCGA_COADREAD_scored = pd.read_csv('Data_Figure1_2/TCGA_COADREAD.csv', index_col=0)\n",
    "TCGA_ESCA_scored= pd.read_csv('Data_Figure1_2/TCGA_ESCA.csv', index_col=0)\n",
    "TCGA_GBM_scored= pd.read_csv('Data_Figure1_2/TCGA_GBM.csv', index_col=0)\n",
    "TCGA_GBMLGG_scored= pd.read_csv('Data_Figure1_2/TCGA_GBMLGG.csv', index_col=0)\n",
    "TCGA_HNSC_scored= pd.read_csv('Data_Figure1_2/TCGA_HNSC.csv', index_col=0)\n",
    "TCGA_KICH_scored= pd.read_csv('Data_Figure1_2/TCGA_KICH.csv', index_col=0)\n",
    "TCGA_KIRC_scored= pd.read_csv('Data_Figure1_2/TCGA_KIRC.csv', index_col=0)\n",
    "TCGA_KIRP_scored= pd.read_csv('Data_Figure1_2/TCGA_KIRP.csv', index_col=0)\n",
    "TCGA_LAML_scored= pd.read_csv('Data_Figure1_2/TCGA_LAML.csv', index_col=0)\n",
    "TCGA_LGG_scored= pd.read_csv('Data_Figure1_2/TCGA_LGG.csv', index_col=0)\n",
    "TCGA_LIHC_scored= pd.read_csv('Data_Figure1_2/TCGA_LIHC.csv', index_col=0)\n",
    "TCGA_LUAD_scored= pd.read_csv('Data_Figure1_2/TCGA_LUAD.csv', index_col=0)\n",
    "TCGA_LUNG_scored= pd.read_csv('Data_Figure1_2/TCGA_LUNG.csv', index_col=0)\n",
    "TCGA_LUSC_scored= pd.read_csv('Data_Figure1_2/TCGA_LUSC.csv', index_col=0)\n",
    "TCGA_MESO_scored= pd.read_csv('Data_Figure1_2/TCGA_MESO.csv', index_col=0)\n",
    "TCGA_OV_scored= pd.read_csv('Data_Figure1_2/TCGA_OV.csv', index_col=0)\n",
    "TCGA_PAAD_scored= pd.read_csv('Data_Figure1_2/TCGA_PAAD.csv', index_col=0)\n",
    "TCGA_PCPG_scored= pd.read_csv('Data_Figure1_2/TCGA_PCPG.csv', index_col=0)\n",
    "TCGA_PRAD_scored= pd.read_csv('Data_Figure1_2/TCGA_PRAD.csv', index_col=0)\n",
    "TCGA_READ_scored= pd.read_csv('Data_Figure1_2/TCGA_READ.csv', index_col=0)\n",
    "TCGA_SARC_scored= pd.read_csv('Data_Figure1_2/TCGA_SARC.csv', index_col=0)\n",
    "TCGA_SKCM_scored= pd.read_csv('Data_Figure1_2/TCGA_SKCM.csv', index_col=0)\n",
    "TCGA_STAD_scored= pd.read_csv('Data_Figure1_2/TCGA_STAD.csv', index_col=0)\n",
    "TCGA_TGCT_scored= pd.read_csv('Data_Figure1_2/TCGA_TCGT.csv', index_col=0)\n",
    "TCGA_THCA_scored= pd.read_csv('Data_Figure1_2/TCGA_THCA.csv', index_col=0)\n",
    "TCGA_THYM_scored= pd.read_csv('Data_Figure1_2/TCGA_THYM.csv', index_col=0)\n",
    "TCGA_UCEC_scored= pd.read_csv('Data_Figure1_2/TCGA_UCEC.csv', index_col=0)\n",
    "TCGA_UCS_scored= pd.read_csv('Data_Figure1_2/TCGA_USC.csv', index_col=0)\n",
    "TCGA_UVM_scored= pd.read_csv('Data_Figure1_2/TCGA_UVM.csv', index_col=0)"
   ]
  },
  {
   "attachments": {},
   "cell_type": "markdown",
   "metadata": {},
   "source": [
    "Figure 2"
   ]
  },
  {
   "attachments": {},
   "cell_type": "markdown",
   "metadata": {},
   "source": [
    "Figure S2"
   ]
  },
  {
   "cell_type": "code",
   "execution_count": null,
   "metadata": {},
   "outputs": [],
   "source": [
    "def corr_scatter(data, x, y, title, xlim='A',ylim='A', dpi=100 , xlabel='A', ylabel='A'): \n",
    "    per = stats.spearmanr(data[x], data[y])\n",
    "    if xlim == \"A\":\n",
    "        if per[0]>0:\n",
    "            xlim = data.loc[:,x].min() \n",
    "        else:\n",
    "            xlim = data.loc[:,x].max() - data.loc[:,x].mean() \n",
    "        \n",
    "    if ylim == \"A\":\n",
    "        if per[0]>0:\n",
    "            ylim = data.loc[:,y].max() \n",
    "        else:\n",
    "            ylim = data.loc[:,y].min() \n",
    "\n",
    "    print(xlim)\n",
    "#    if ylim == \"A\":\n",
    "#        ylim = data.loc[:,y].max() - data.loc[:,y].std()\n",
    "    print(ylim)\n",
    "    plt.rcParams['figure.dpi']= dpi\n",
    "    sns.lmplot(x=x, y=y, data=data, scatter_kws={\"s\": 6 })\n",
    "    per = stats.spearmanr(data[x], data[y])\n",
    "    plt.title(title)\n",
    "    \n",
    "    if per[1] <0.0001:\n",
    "        \n",
    "        plt.text(xlim, ylim, 'Spearman corr {} \\n p_value < 1e-04'.format(round(per[0],3)), horizontalalignment='left', size=13, color='Black', fontname='Arial')\n",
    "    else:\n",
    "        plt.text(xlim, ylim, 'Spearman corr {} \\n p_value {}'.format(round(per[0],2),round(per[1],3)), horizontalalignment='left', size=13, color='Black',  fontname='Arial')\n",
    "    \n",
    "    plt.ylabel(y,fontsize=14, fontweight='bold', fontname='Arial')\n",
    "    plt.xlabel(x,fontsize=14, fontweight='bold',fontname='Arial')\n",
    "    \n",
    "    if x == 'PEBP1':\n",
    "        plt.xlabel('RKIP',fontsize=14)\n",
    "    if y == 'PEBP1':\n",
    "        plt.ylabel('RKIP',fontsize=14)\n",
    "\n",
    "    if x == 'CD274':\n",
    "        plt.xlabel('PDL1',fontsize=14)\n",
    "    if y == 'CD274':\n",
    "        plt.ylabel('PDL1',fontsize=14)\n",
    "\n",
    "    plt.xticks(fontsize=14)\n",
    "    plt.yticks(fontsize=14)\n",
    "\n",
    "    if xlabel != 'A':\n",
    "        plt.xlabel(xlabel, fontsize=14) \n",
    "    if ylabel != 'A':\n",
    "        plt.ylabel(ylabel, fontsize=14) \n",
    "\n",
    "    plt.show()\n"
   ]
  },
  {
   "cell_type": "code",
   "execution_count": null,
   "metadata": {},
   "outputs": [],
   "source": []
  },
  {
   "attachments": {},
   "cell_type": "markdown",
   "metadata": {},
   "source": [
    "S2A (ii) and (v)"
   ]
  },
  {
   "cell_type": "code",
   "execution_count": null,
   "metadata": {},
   "outputs": [],
   "source": [
    "corr_scatter(TCGA_BRCA_scored.T, 'PEBP1', 'VIM','',10,11, dpi=100)\n",
    "corr_scatter(TCGA_BRCA_scored.T, 'BACH1', 'VIM','', 6,17, dpi=100)"
   ]
  },
  {
   "attachments": {},
   "cell_type": "markdown",
   "metadata": {},
   "source": [
    "S2A (iii) and (vi)"
   ]
  },
  {
   "cell_type": "code",
   "execution_count": null,
   "metadata": {},
   "outputs": [],
   "source": [
    "corr_scatter(TCGA_BRCA_scored.T, 'PEBP1', 'OVOL2', '', 10,2,dpi=100)\n",
    "corr_scatter(TCGA_BRCA_scored.T, 'BACH1', 'OVOL2','',6,2, dpi=100)"
   ]
  },
  {
   "attachments": {},
   "cell_type": "markdown",
   "metadata": {},
   "source": [
    "S2A (i) and (iv)"
   ]
  },
  {
   "cell_type": "code",
   "execution_count": null,
   "metadata": {},
   "outputs": [],
   "source": [
    "corr_scatter(TCGA_BRCA_scored.T, 'BACH1', 'SNAI2', '',6,12,100)\n",
    "corr_scatter(TCGA_BRCA_scored.T, 'PEBP1', 'SNAI2', '',10,4,100)\n"
   ]
  },
  {
   "cell_type": "code",
   "execution_count": null,
   "metadata": {},
   "outputs": [],
   "source": []
  },
  {
   "cell_type": "code",
   "execution_count": null,
   "metadata": {},
   "outputs": [],
   "source": [
    "'''corr_scatter(TCGA_BRCA_scored.T, 'PEBP1', 'CDH1', '',1, dpi=100)\n",
    "corr_scatter(TCGA_BRCA_scored.T, 'BACH1', 'CDH1', '',1,dpi=100)'''\n",
    "'''corr_scatter(TCGA_BRCA_scored.T, 'PEBP1', 'KLF4', '', 10,5,dpi=100)\n",
    "corr_scatter(TCGA_BRCA_scored.T, 'BACH1', 'KLF4','',6,13, dpi=100)'''\n",
    "'''corr_scatter(TCGA_BRCA_scored.T, 'PEBP1', 'ELF3', '', 10,2,dpi=100)\n",
    "corr_scatter(TCGA_BRCA_scored.T, 'BACH1', 'ELF3','',6,2, dpi=100)'''\n",
    "'''corr_scatter(TCGA_BRCA_scored.T, 'PEBP1', 'TWIST1', '', 10,2,dpi=100)\n",
    "corr_scatter(TCGA_BRCA_scored.T, 'BACH1', 'TWIST1','',6,12, dpi=100)'''\n",
    "'''corr_scatter(TCGA_BRCA_scored.T, 'PEBP1', 'GRHL2', '', 10,2,dpi=100)\n",
    "corr_scatter(TCGA_BRCA_scored.T, 'BACH1', 'GRHL2','',6,2, dpi=100)'''\n",
    "'''corr_scatter(TCGA_BRCA_scored.T, 'PEBP1', 'ESR2', '',10.2,7,100)\n",
    "corr_scatter(TCGA_BRCA_scored.T, 'BACH1', 'ESR2', '',6,7,100)'''"
   ]
  },
  {
   "cell_type": "code",
   "execution_count": null,
   "metadata": {},
   "outputs": [],
   "source": [
    "'''TCGA_BRCA_scored.T[TCGA_BRCA_scored.T.loc[: , 'ESR1'] > 8.9]'''"
   ]
  },
  {
   "cell_type": "code",
   "execution_count": null,
   "metadata": {},
   "outputs": [],
   "source": [
    "def EM_kde_plot(Network, EM_upper , EM_lower ):\n",
    "    plt.figure(figsize=(20, 30))\n",
    "    #sns.set_palette(palette)\n",
    "    sns.displot(Network, x=\"ESR1\", fill=True, bins = 120 ,kde = True, color = 'red')\n",
    "    plt.rcParams['figure.dpi']= 100\n",
    "\n",
    "    plt.axvline(x = EM_lower, color = 'black', linestyle = ':')\n",
    "    plt.axvline(x = EM_upper, color = 'black', linestyle = ':')\n",
    "\n",
    "    plt.xticks(fontsize = 14, fontname='Arial')\n",
    "    plt.yticks(fontsize = 14, fontname='Arial')\n",
    "    plt.xlabel('ESR1',fontsize = 14, fontname='Arial',  fontweight='bold')\n",
    "\n",
    "    plt.ylabel('Frequency',fontsize = 14, fontname='Arial',  fontweight='bold')"
   ]
  },
  {
   "cell_type": "code",
   "execution_count": null,
   "metadata": {},
   "outputs": [],
   "source": [
    "'''EM_kde_plot(TCGA_BRCA_scored.T, 8.9,0 )\n",
    "\n",
    "corr_scatter(TCGA_BRCA_scored.T[TCGA_BRCA_scored.T.loc[: , 'ESR1'] > 8.9], 'PEBP1', 'ESR1', '',10.3,9,200)\n",
    "corr_scatter(TCGA_BRCA_scored.T[TCGA_BRCA_scored.T.loc[: , 'ESR1'] > 8.9], 'BACH1', 'ESR1', '',5.7,9,200)\n",
    "corr_scatter(TCGA_BRCA_scored.T, 'PEBP1', 'BACH1', '',10, 6, 200)'''"
   ]
  },
  {
   "cell_type": "code",
   "execution_count": null,
   "metadata": {},
   "outputs": [],
   "source": []
  },
  {
   "attachments": {},
   "cell_type": "markdown",
   "metadata": {},
   "source": [
    "Figure 2B"
   ]
  },
  {
   "cell_type": "code",
   "execution_count": null,
   "metadata": {},
   "outputs": [],
   "source": [
    "corr_scatter(TCGA_BRCA_scored.T, 'PEBP1', 'ESR1', '',9.8,15, 1000)\n",
    "corr_scatter(TCGA_BRCA_scored.T, 'BACH1', 'ESR1', '',5.8,3, 1000)"
   ]
  },
  {
   "attachments": {},
   "cell_type": "markdown",
   "metadata": {},
   "source": [
    "Figure 2B"
   ]
  },
  {
   "cell_type": "code",
   "execution_count": null,
   "metadata": {},
   "outputs": [],
   "source": [
    "corr_scatter(TCGA_BRCA_scored.T, 'BACH1', 'ZEB1', '',5.8,12, 150)\n",
    "corr_scatter(TCGA_BRCA_scored.T, 'PEBP1', 'ZEB1', '',10,5, 150)"
   ]
  },
  {
   "attachments": {},
   "cell_type": "markdown",
   "metadata": {},
   "source": [
    "Figure 2C"
   ]
  },
  {
   "cell_type": "code",
   "execution_count": null,
   "metadata": {},
   "outputs": [],
   "source": [
    "corr_scatter(TCGA_BRCA_scored.T, 'BACH1', 'GenSig_BACH1_Metastasis_scores', '', dpi=150, xlabel='BACH1', ylabel='BACH1 Pathway Metastasis Signature ')\n",
    "\n",
    "corr_scatter(TCGA_BRCA_scored.T, 'PEBP1', 'GenSig_RKIP_Metastasis_scores', '', 9.8, 0.6,dpi=150, xlabel='RKIP', ylabel='RKIP Pathway Metastasis Signature')"
   ]
  },
  {
   "attachments": {},
   "cell_type": "markdown",
   "metadata": {},
   "source": [
    "Figure 2D"
   ]
  },
  {
   "cell_type": "code",
   "execution_count": null,
   "metadata": {},
   "outputs": [],
   "source": [
    "\n",
    "corr_scatter(TCGA_BRCA_scored.T, 'PD-L1_Gene_Signature', 'GenSig_BACH1_Metastasis_scores', '', 0.2,-0.8 ,dpi=1000, xlabel = 'PD-L1 Gene Signature' , ylabel = 'BACH1 Pathway Metastasis Signature' )\n",
    "corr_scatter(TCGA_BRCA_scored.T, 'PD-L1_Gene_Signature', 'GenSig_RKIP_Metastasis_scores', '',0.2,0.6, dpi=1000, xlabel = 'PD-L1 Gene Signature' ,  ylabel = 'RKIP Pathway Metastasis Signature' )\n"
   ]
  },
  {
   "cell_type": "code",
   "execution_count": null,
   "metadata": {},
   "outputs": [],
   "source": [
    "TCGA_BRCA_scored"
   ]
  },
  {
   "cell_type": "code",
   "execution_count": null,
   "metadata": {},
   "outputs": [],
   "source": [
    "'''corr_scatter(TCGA_BRCA_scored.T, 'PEBP1', 'CD274', '',9.8,1)\n",
    "corr_scatter(TCGA_BRCA_scored.T, 'BACH1', 'CD274', '',6,8)\n",
    "corr_scatter(TCGA_BRCA_scored.T, 'GenSig_BACH1_Metastasis_scores','BACH1', '')\n",
    "corr_scatter(TCGA_BRCA_scored.T, 'GenSig_BACH1_Metastasis_scores','PEBP1', '', -0.8, 10 )\n",
    "corr_scatter(TCGA_BRCA_scored.T, 'GenSig_RKIP_Metastasis_scores','PEBP1', '', 0.6, 10 )\n",
    "corr_scatter(TCGA_BRCA_scored.T, 'GenSig_RKIP_Metastasis_scores','BACH1', '', 1.2, 6 )\n",
    "corr_scatter(TCGA_BRCA_scored.T, 'PD-L1_Gene_Signature','GenSig_BACH1_Metastasis_scores', '', -0.3, 0.15 )\n",
    "corr_scatter(TCGA_BRCA_scored.T, 'PD-L1_Gene_Signature','GenSig_RKIP_Metastasis_scores', '', -0.3, 1.55 )\n",
    "corr_scatter(TCGA_BRCA_scored.T, 'PD-L1_Gene_Signature','GenSig_RKIP_Metastasis_scores', '', -0.3, 1.55 )'''"
   ]
  },
  {
   "cell_type": "code",
   "execution_count": null,
   "metadata": {},
   "outputs": [],
   "source": [
    "TCGA_ACC_scored = SigScore(TCGA_ACC_scored)\n",
    "TCGA_BLCA_scored = SigScore(TCGA_BLCA_scored)\n",
    "TCGA_BRCA_scored = SigScore(TCGA_BRCA_scored)\n",
    "TCGA_CESC_scored = SigScore(TCGA_CESC_scored)\n",
    "TCGA_CHOL_scored = SigScore(TCGA_CHOL_scored)\n",
    "TCGA_COAD_scored = SigScore(TCGA_COAD_scored)\n",
    "TCGA_COADREAD_scored = SigScore(TCGA_COADREAD_scored)\n",
    "TCGA_ESCA_scored = SigScore(TCGA_ESCA_scored)\n",
    "TCGA_GBM_scored = SigScore(TCGA_GBM_scored)\n",
    "TCGA_GBMLGG_scored = SigScore(TCGA_GBMLGG_scored)\n",
    "TCGA_HNSC_scored = SigScore(TCGA_HNSC_scored)\n",
    "TCGA_KICH_scored = SigScore(TCGA_KICH_scored)\n",
    "TCGA_KIRC_scored = SigScore(TCGA_KIRC_scored)\n",
    "TCGA_KIRP_scored = SigScore(TCGA_KIRP_scored)\n",
    "TCGA_LAML_scored = SigScore(TCGA_LAML_scored)\n",
    "TCGA_LGG_scored = SigScore(TCGA_LGG_scored)\n",
    "TCGA_LIHC_scored = SigScore(TCGA_LIHC_scored)\n",
    "TCGA_LUAD_scored = SigScore(TCGA_LUAD_scored)\n",
    "TCGA_LUNG_scored = SigScore(TCGA_LUNG_scored)\n",
    "TCGA_LUSC_scored = SigScore(TCGA_LUSC_scored)\n",
    "TCGA_MESO_scored = SigScore(TCGA_MESO_scored)\n",
    "TCGA_OV_scored = SigScore(TCGA_OV_scored)\n",
    "TCGA_PAAD_scored = SigScore(TCGA_PAAD_scored)\n",
    "TCGA_PCPG_scored = SigScore(TCGA_PCPG_scored)\n",
    "TCGA_PRAD_scored = SigScore(TCGA_PRAD_scored)\n",
    "TCGA_READ_scored = SigScore(TCGA_READ_scored)\n",
    "TCGA_SARC_scored = SigScore(TCGA_SARC_scored)\n",
    "TCGA_SKCM_scored = SigScore(TCGA_SKCM_scored)\n",
    "TCGA_STAD_scored = SigScore(TCGA_STAD_scored)\n",
    "TCGA_TGCT_scored = SigScore(TCGA_TGCT_scored)\n",
    "TCGA_THCA_scored = SigScore(TCGA_THCA_scored)\n",
    "TCGA_THYM_scored = SigScore(TCGA_THYM_scored)\n",
    "TCGA_UCEC_scored = SigScore(TCGA_UCEC_scored)\n",
    "TCGA_UCS_scored = SigScore(TCGA_UCS_scored)\n",
    "TCGA_UVM_scored = SigScore(TCGA_UVM_scored)"
   ]
  },
  {
   "cell_type": "code",
   "execution_count": null,
   "metadata": {},
   "outputs": [],
   "source": [
    "'''TCGA_ACC_scored = SigScore2(TCGA_ACC_scored)\n",
    "TCGA_BLCA_scored = SigScore2(TCGA_BLCA_scored)\n",
    "TCGA_BRCA_scored = SigScore2(TCGA_BRCA_scored)\n",
    "TCGA_CESC_scored = SigScore2(TCGA_CESC_scored)\n",
    "TCGA_CHOL_scored = SigScore2(TCGA_CHOL_scored)\n",
    "TCGA_COAD_scored = SigScore2(TCGA_COAD_scored)\n",
    "TCGA_COADREAD_scored = SigScore2(TCGA_COADREAD_scored)\n",
    "TCGA_ESCA_scored = SigScore2(TCGA_ESCA_scored)\n",
    "TCGA_GBM_scored = SigScore2(TCGA_GBM_scored)\n",
    "TCGA_GBMLGG_scored = SigScore2(TCGA_GBMLGG_scored)\n",
    "TCGA_HNSC_scored = SigScore2(TCGA_HNSC_scored)\n",
    "TCGA_KICH_scored = SigScore2(TCGA_KICH_scored)\n",
    "TCGA_KIRC_scored = SigScore2(TCGA_KIRC_scored)\n",
    "TCGA_KIRP_scored = SigScore2(TCGA_KIRP_scored)\n",
    "TCGA_LAML_scored = SigScore2(TCGA_LAML_scored)\n",
    "TCGA_LGG_scored = SigScore2(TCGA_LGG_scored)\n",
    "TCGA_LIHC_scored = SigScore2(TCGA_LIHC_scored)\n",
    "TCGA_LUAD_scored = SigScore2(TCGA_LUAD_scored)\n",
    "TCGA_LUNG_scored = SigScore2(TCGA_LUNG_scored)\n",
    "TCGA_LUSC_scored = SigScore2(TCGA_LUSC_scored)\n",
    "TCGA_MESO_scored = SigScore2(TCGA_MESO_scored)\n",
    "TCGA_OV_scored = SigScore2(TCGA_OV_scored)\n",
    "TCGA_PAAD_scored = SigScore2(TCGA_PAAD_scored)\n",
    "TCGA_PCPG_scored = SigScore2(TCGA_PCPG_scored)\n",
    "TCGA_PRAD_scored = SigScore2(TCGA_PRAD_scored)\n",
    "TCGA_READ_scored = SigScore2(TCGA_READ_scored)\n",
    "TCGA_SARC_scored = SigScore2(TCGA_SARC_scored)\n",
    "TCGA_SKCM_scored = SigScore2(TCGA_SKCM_scored)\n",
    "TCGA_STAD_scored = SigScore2(TCGA_STAD_scored)\n",
    "TCGA_TGCT_scored = SigScore2(TCGA_TGCT_scored)\n",
    "TCGA_THCA_scored = SigScore2(TCGA_THCA_scored)\n",
    "TCGA_THYM_scored = SigScore2(TCGA_THYM_scored)\n",
    "TCGA_UCEC_scored = SigScore2(TCGA_UCEC_scored)\n",
    "TCGA_UCS_scored = SigScore2(TCGA_UCS_scored)\n",
    "TCGA_UVM_scored = SigScore2(TCGA_UVM_scored)'''"
   ]
  },
  {
   "cell_type": "code",
   "execution_count": null,
   "metadata": {},
   "outputs": [],
   "source": [
    "'''\n",
    "\n",
    "(SigScore(TCGA_ACC_scored)).to_csv('Data_Figure1_2/TCGA_ACC.csv')\n",
    "(SigScore(TCGA_BLCA_scored)).to_csv('Data_Figure1_2/TCGA_BLCA.csv')\n",
    "(SigScore(TCGA_BRCA_scored)).to_csv('Data_Figure1_2/TCGA_BRCA.csv')\n",
    "(SigScore(TCGA_CESC_scored)).to_csv('Data_Figure1_2/TCGA_CESC.csv')\n",
    "(SigScore(TCGA_CHOL_scored)).to_csv('Data_Figure1_2/TCGA_CHOL.csv')\n",
    "(SigScore(TCGA_COAD_scored)).to_csv('Data_Figure1_2/TCGA_COAD.csv')\n",
    "(SigScore(TCGA_COADREAD_scored)).to_csv('Data_Figure1_2/TCGA_COADREAD.csv')\n",
    "(SigScore(TCGA_ESCA_scored)).to_csv('Data_Figure1_2/TCGA_ESCA.csv')\n",
    "(SigScore(TCGA_GBM_scored)).to_csv('Data_Figure1_2/TCGA_GBM.csv')\n",
    "(SigScore(TCGA_GBMLGG_scored)).to_csv('Data_Figure1_2/TCGA_GBMLGG.csv')\n",
    "(SigScore(TCGA_HNSC_scored)).to_csv('Data_Figure1_2/TCGA_HNSC.csv')\n",
    "(SigScore(TCGA_KICH_scored)).to_csv('Data_Figure1_2/TCGA_KICH.csv')\n",
    "(SigScore(TCGA_KIRC_scored)).to_csv('Data_Figure1_2/TCGA_KIRC.csv')\n",
    "(SigScore(TCGA_KIRP_scored)).to_csv('Data_Figure1_2/TCGA_KIRP.csv')\n",
    "(SigScore(TCGA_LAML_scored)).to_csv('Data_Figure1_2/TCGA_LAML.csv')\n",
    "(SigScore(TCGA_LGG_scored)).to_csv('Data_Figure1_2/TCGA_LGG.csv')\n",
    "(SigScore(TCGA_LIHC_scored)).to_csv('Data_Figure1_2/TCGA_LIHC.csv')\n",
    "(SigScore(TCGA_LUAD_scored)).to_csv('Data_Figure1_2/TCGA_LUAD.csv')\n",
    "(SigScore(TCGA_LUNG_scored)).to_csv('Data_Figure1_2/TCGA_LUNG.csv')\n",
    "(SigScore(TCGA_LUSC_scored)).to_csv('Data_Figure1_2/TCGA_LUSC.csv')\n",
    "(SigScore(TCGA_MESO_scored)).to_csv('Data_Figure1_2/TCGA_MESO.csv')\n",
    "(SigScore(TCGA_OV_scored)).to_csv('Data_Figure1_2/TCGA_OV.csv')\n",
    "(SigScore(TCGA_PAAD_scored)).to_csv('Data_Figure1_2/TCGA_PAAD.csv')\n",
    "(SigScore(TCGA_PCPG_scored)).to_csv('Data_Figure1_2/TCGA_PCPG.csv')\n",
    "(SigScore(TCGA_PRAD_scored)).to_csv('Data_Figure1_2/TCGA_PRAD.csv')\n",
    "(SigScore(TCGA_READ_scored)).to_csv('Data_Figure1_2/TCGA_READ.csv')\n",
    "(SigScore(TCGA_SARC_scored)).to_csv('Data_Figure1_2/TCGA_SARC.csv')\n",
    "(SigScore(TCGA_SKCM_scored)).to_csv('Data_Figure1_2/TCGA_SKCM.csv')\n",
    "(SigScore(TCGA_STAD_scored)).to_csv('Data_Figure1_2/TCGA_STAD.csv')\n",
    "(SigScore(TCGA_TGCT_scored)).to_csv('Data_Figure1_2/TCGA_TCGT.csv')\n",
    "(SigScore(TCGA_THCA_scored)).to_csv('Data_Figure1_2/TCGA_THCA.csv')\n",
    "(SigScore(TCGA_THYM_scored)).to_csv('Data_Figure1_2/TCGA_THYM.csv')\n",
    "(SigScore(TCGA_UCEC_scored)).to_csv('Data_Figure1_2/TCGA_UCEC.csv')\n",
    "(SigScore2(TCGA_UCS_scored)).to_csv('Data_Figure1_2/TCGA_USC.csv')\n",
    "(SigScore2(TCGA_UVM_scored)).to_csv('Data_Figure1_2/TCGA_UVM.csv')\n",
    "'''\n"
   ]
  },
  {
   "cell_type": "code",
   "execution_count": null,
   "metadata": {},
   "outputs": [],
   "source": [
    "'''TCGA_BLCA_scored = SigScore2(TCGA_BLCA_scored)\n",
    "TCGA_BLCA_scored.tail(20)\n",
    "#corr_scatter(TCGA_BLCA_scored.T, 'GenSig_Ferroptosis_Immune_45','GenSig_RKIP_Metastasis_scores',)\n",
    "corr_scatter(TCGA_BLCA_scored.T, 'BACH1','NFE2L2','')'''"
   ]
  },
  {
   "cell_type": "code",
   "execution_count": null,
   "metadata": {},
   "outputs": [],
   "source": []
  },
  {
   "cell_type": "code",
   "execution_count": null,
   "metadata": {},
   "outputs": [],
   "source": []
  },
  {
   "cell_type": "code",
   "execution_count": null,
   "metadata": {},
   "outputs": [],
   "source": [
    "(SigScore(TCGA_ACC_scored)).to_csv('Data_Figure1_2/TCGA_ACC.csv')\n",
    "(SigScore(TCGA_BLCA_scored)).to_csv('Data_Figure1_2/TCGA_BLCA.csv')\n",
    "(SigScore(TCGA_BRCA_scored)).to_csv('Data_Figure1_2/TCGA_BRCA.csv')\n",
    "(SigScore(TCGA_CESC_scored)).to_csv('Data_Figure1_2/TCGA_CESC.csv')\n",
    "(SigScore(TCGA_CHOL_scored)).to_csv('Data_Figure1_2/TCGA_CHOL.csv')\n",
    "(SigScore(TCGA_COAD_scored)).to_csv('Data_Figure1_2/TCGA_COAD.csv')\n",
    "(SigScore(TCGA_COADREAD_scored)).to_csv('Data_Figure1_2/TCGA_COADREAD.csv')\n",
    "(SigScore(TCGA_ESCA_scored)).to_csv('Data_Figure1_2/TCGA_ESCA.csv')\n",
    "(SigScore(TCGA_GBM_scored)).to_csv('Data_Figure1_2/TCGA_GBM.csv')\n",
    "(SigScore(TCGA_GBMLGG_scored)).to_csv('Data_Figure1_2/TCGA_GBMLGG.csv')\n",
    "(SigScore(TCGA_HNSC_scored)).to_csv('Data_Figure1_2/TCGA_HNSC.csv')\n",
    "(SigScore(TCGA_KICH_scored)).to_csv('Data_Figure1_2/TCGA_KICH.csv')\n",
    "(SigScore(TCGA_KIRC_scored)).to_csv('Data_Figure1_2/TCGA_KIRC.csv')\n",
    "(SigScore(TCGA_KIRP_scored)).to_csv('Data_Figure1_2/TCGA_KIRP.csv')\n",
    "(SigScore(TCGA_LAML_scored)).to_csv('Data_Figure1_2/TCGA_LAML.csv')\n",
    "(SigScore(TCGA_LGG_scored)).to_csv('Data_Figure1_2/TCGA_LGG.csv')\n",
    "(SigScore(TCGA_LIHC_scored)).to_csv('Data_Figure1_2/TCGA_LIHC.csv')\n",
    "(SigScore(TCGA_LUAD_scored)).to_csv('Data_Figure1_2/TCGA_LUAD.csv')\n",
    "(SigScore(TCGA_LUNG_scored)).to_csv('Data_Figure1_2/TCGA_LUNG.csv')\n",
    "(SigScore(TCGA_LUSC_scored)).to_csv('Data_Figure1_2/TCGA_LUSC.csv')\n",
    "(SigScore(TCGA_MESO_scored)).to_csv('Data_Figure1_2/TCGA_MESO.csv')\n",
    "(SigScore(TCGA_OV_scored)).to_csv('Data_Figure1_2/TCGA_OV.csv')\n",
    "(SigScore(TCGA_PAAD_scored)).to_csv('Data_Figure1_2/TCGA_PAAD.csv')\n",
    "(SigScore(TCGA_PCPG_scored)).to_csv('Data_Figure1_2/TCGA_PCPG.csv')\n",
    "(SigScore(TCGA_PRAD_scored)).to_csv('Data_Figure1_2/TCGA_PRAD.csv')\n",
    "(SigScore(TCGA_READ_scored)).to_csv('Data_Figure1_2/TCGA_READ.csv')\n",
    "(SigScore(TCGA_SARC_scored)).to_csv('Data_Figure1_2/TCGA_SARC.csv')\n",
    "(SigScore(TCGA_SKCM_scored)).to_csv('Data_Figure1_2/TCGA_SKCM.csv')\n",
    "(SigScore(TCGA_STAD_scored)).to_csv('Data_Figure1_2/TCGA_STAD.csv')\n",
    "(SigScore(TCGA_TGCT_scored)).to_csv('Data_Figure1_2/TCGA_TCGT.csv')\n",
    "(SigScore(TCGA_THCA_scored)).to_csv('Data_Figure1_2/TCGA_THCA.csv')\n",
    "(SigScore(TCGA_THYM_scored)).to_csv('Data_Figure1_2/TCGA_THYM.csv')\n",
    "(SigScore(TCGA_UCEC_scored)).to_csv('Data_Figure1_2/TCGA_UCEC.csv')\n",
    "(SigScore2(TCGA_UCS_scored)).to_csv('Data_Figure1_2/TCGA_USC.csv')\n",
    "(SigScore2(TCGA_UVM_scored)).to_csv('Data_Figure1_2/TCGA_UVM.csv')"
   ]
  },
  {
   "cell_type": "code",
   "execution_count": null,
   "metadata": {},
   "outputs": [],
   "source": []
  },
  {
   "cell_type": "code",
   "execution_count": null,
   "metadata": {},
   "outputs": [],
   "source": []
  },
  {
   "cell_type": "code",
   "execution_count": null,
   "metadata": {},
   "outputs": [],
   "source": [
    "'''Corr_Tab_Gly = pd.DataFrame([[0]*17]*35).T\n",
    "\n",
    "Corr_Tab_Gly.index = ['RKIP vs BACH1','RKIP vs PDL1 Signature' , 'BACH1 vs PDL1 Signature', 'RKIP vs Hallmark Glycolysis', 'BACH1 vs Hallmark Glycolysis', 'RKIP vs FAO Gene Signature', 'BACH1 vs FAO Gene Signature', 'RKIP vs Hallmark OXPHOS', 'BACH1 vs Hallmark OXPHOS', 'RKIP vs KS_Score (Tumor)', 'BACH1 vs KS_Score (Tumor)', 'RKIP vs KS_Epithelial_Gene_Signature', 'BACH1 vs KS_Epithelial_Gene_Signature','RKIP vs KS_Mesenchymal_Gene_Signature', 'BACH1 vs KS_Mesenchymal_Gene_Signature','RKIP vs ESR1','BACH1 vs ESR1']\n",
    "Corr_Tab_Gly.columns = ['TCGA_ACC', 'TCGA_BLCA', 'TCGA_BRCA', 'TCGA_CESC','TCGA_CHOL', 'TCGA_COAD','TCGA_COADREAD','TCGA_ESCA','TCGA_GBM','TCGA_GBMLGG','TCGA_HNSC','TCGA_KICH','TCGA_KIRC','TCGA_KIRP','TCGA_LAML','TCGA_LGG','TCGA_LIHC','TCGA_LUAD','TCGA_LUNG','TCGA_LUSC','TCGA_MESO','TCGA_OV','TCGA_PAAD','TCGA_PCPG','TCGA_PRAD','TCGA_READ','TCGA_SARC','TCGA_SKCM','TCGA_STAD','TCGA_TGCT','TCGA_THCA','TCGA_THYM','TCGA_UCEC','TCGA_UCS','TCGA_UVM']\n",
    "Corr_Tab_Gly'''"
   ]
  },
  {
   "cell_type": "code",
   "execution_count": null,
   "metadata": {},
   "outputs": [],
   "source": [
    "'''tcga_datasets = [TCGA_ACC_scored,TCGA_BLCA_scored, TCGA_BRCA_scored, TCGA_CESC_scored, \n",
    "TCGA_CHOL_scored,TCGA_COAD_scored,TCGA_COADREAD_scored,TCGA_ESCA_scored,TCGA_GBM_scored ,TCGA_GBMLGG_scored, TCGA_HNSC_scored ,\n",
    "TCGA_KICH_scored ,TCGA_KIRC_scored,TCGA_KIRP_scored ,TCGA_LAML_scored,\n",
    "TCGA_LGG_scored,TCGA_LIHC_scored,TCGA_LUAD_scored ,TCGA_LUNG_scored ,\n",
    "TCGA_LUSC_scored ,TCGA_MESO_scored ,TCGA_OV_scored,TCGA_PAAD_scored, \n",
    "TCGA_PCPG_scored ,TCGA_PRAD_scored ,TCGA_READ_scored ,TCGA_SARC_scored ,\n",
    "TCGA_SKCM_scored ,TCGA_STAD_scored ,TCGA_TGCT_scored ,TCGA_THCA_scored,\n",
    "TCGA_THYM_scored ,TCGA_UCEC_scored,TCGA_UCS_scored ,TCGA_UVM_scored ] \n",
    "\n",
    "tcga_labels = Corr_Tab_Gly.columns'''\n",
    "\n"
   ]
  },
  {
   "cell_type": "code",
   "execution_count": null,
   "metadata": {},
   "outputs": [],
   "source": [
    "'''def corr_table(data, y):\n",
    "    Corr_Tab_Gly.loc['RKIP vs BACH1', y]  = stats.pearsonr(data['PEBP1'], data['BACH1'])[0]\n",
    "    Corr_Tab_Gly.loc['RKIP vs PDL1 Signature', y]  = stats.pearsonr(data['PEBP1'], data['PD-L1_Gene_Signature'])[0]\n",
    "    Corr_Tab_Gly.loc['BACH1 vs PDL1 Signature', y]  = stats.pearsonr(data['BACH1'], data['PD-L1_Gene_Signature'])[0]\n",
    "    Corr_Tab_Gly.loc['RKIP vs Hallmark Glycolysis', y]  = stats.pearsonr(data['PEBP1'], data['Hallmark_Glycolysis'])[0]\n",
    "    Corr_Tab_Gly.loc['BACH1 vs Hallmark Glycolysis', y]  = stats.pearsonr( data['BACH1'], data['Hallmark_Glycolysis'])[0]\n",
    "    Corr_Tab_Gly.loc['RKIP vs FAO Gene Signature', y]  = stats.pearsonr(data['PEBP1'], data['FAO_Gene_Signature'])[0]\n",
    "    Corr_Tab_Gly.loc['BACH1 vs FAO Gene Signature', y]  = stats.pearsonr(data['BACH1'], data['FAO_Gene_Signature'])[0]\n",
    "    Corr_Tab_Gly.loc['RKIP vs Hallmark OXPHOS', y]  = stats.pearsonr(data['PEBP1'], data['Hallmark_OXPHOS'])[0]\n",
    "    Corr_Tab_Gly.loc['BACH1 vs Hallmark OXPHOS', y]  = stats.pearsonr(data['BACH1'], data['Hallmark_OXPHOS'])[0]\n",
    "    Corr_Tab_Gly.loc['RKIP vs KS_Score (Tumor)', y]  = stats.pearsonr( data['PEBP1'], data['KS_Score (Tumor)'])[0]\n",
    "    Corr_Tab_Gly.loc['BACH1 vs KS_Score (Tumor)', y]  = stats.pearsonr(data['BACH1'], data['KS_Score (Tumor)'])[0]\n",
    "    Corr_Tab_Gly.loc['RKIP vs KS_Epithelial_Gene_Signature', y]  = stats.pearsonr(data['PEBP1'], data['KS_Epithelial_Gene_Signature'])[0]\n",
    "    Corr_Tab_Gly.loc['BACH1 vs KS_Epithelial_Gene_Signature', y]  = stats.pearsonr(data['BACH1'], data['KS_Epithelial_Gene_Signature'])[0]\n",
    "    Corr_Tab_Gly.loc['RKIP vs KS_Mesenchymal_Gene_Signature', y]  = stats.pearsonr(data['PEBP1'], data['KS_Mesenchymal_Gene_Signature'])[0]\n",
    "    Corr_Tab_Gly.loc['BACH1 vs KS_Mesenchymal_Gene_Signature', y]  = stats.pearsonr( data['BACH1'], data['KS_Mesenchymal_Gene_Signature'])[0]\n",
    "    Corr_Tab_Gly.loc['RKIP vs ESR1', y]  = stats.pearsonr(data['PEBP1'], data['ESR1'])[0]\n",
    "    Corr_Tab_Gly.loc['BACH1 vs ESR1', y]  = stats.pearsonr( data['BACH1'], data['ESR1'])[0]'''"
   ]
  },
  {
   "cell_type": "code",
   "execution_count": null,
   "metadata": {},
   "outputs": [],
   "source": [
    "'''\n",
    "for i in range(len(tcga_datasets)) :\n",
    "    corr_table(tcga_datasets[i].T, tcga_labels[i])'''"
   ]
  },
  {
   "cell_type": "code",
   "execution_count": null,
   "metadata": {},
   "outputs": [],
   "source": [
    "'''plt.figure(figsize=(22,12))\n",
    "#sns.set(rc={'figure.figsize':(10,10)})\n",
    "plt.title('Pan Cancer Analysis (Spearman Co-efficients)')\n",
    "sns.heatmap(round(Corr_Tab_Gly,2), linewidths = 1,  cmap=\"coolwarm\", square = True, fmt=\"\",vmax = 0.9, vmin =-0.9, annot = True\n",
    "            ,cbar_kws={'orientation': 'horizontal', 'pad' : 0.15, 'aspect': 40} )\n",
    "#plt.ylabel('Gene/Pathway',  labelpad = 20)'''"
   ]
  },
  {
   "cell_type": "code",
   "execution_count": null,
   "metadata": {},
   "outputs": [],
   "source": [
    "'''def corr_table_p_value(data, y, Corr_Tab_Gly ):\n",
    "    Corr_Tab_Gly.loc['RKIP vs BACH1', y]  = stats.pearsonr(data['PEBP1'], data['BACH1'])[1]\n",
    "    Corr_Tab_Gly.loc['RKIP vs PDL1 Signature', y]  = stats.pearsonr(data['PEBP1'], data['PD-L1_Gene_Signature'])[1]\n",
    "    Corr_Tab_Gly.loc['BACH1 vs PDL1 Signature', y]  = stats.pearsonr(data['BACH1'], data['PD-L1_Gene_Signature'])[1]\n",
    "    Corr_Tab_Gly.loc['RKIP vs Hallmark Glycolysis', y]  = stats.pearsonr(data['PEBP1'], data['Hallmark_Glycolysis'])[1]\n",
    "    Corr_Tab_Gly.loc['BACH1 vs Hallmark Glycolysis', y]  = stats.pearsonr( data['BACH1'], data['Hallmark_Glycolysis'])[1]\n",
    "    Corr_Tab_Gly.loc['RKIP vs FAO Gene Signature', y]  = stats.pearsonr(data['PEBP1'], data['FAO_Gene_Signature'])[1]\n",
    "    Corr_Tab_Gly.loc['BACH1 vs FAO Gene Signature', y]  = stats.pearsonr(data['BACH1'], data['FAO_Gene_Signature'])[1]\n",
    "\n",
    "    Corr_Tab_Gly.loc['RKIP vs Hallmark OXPHOS', y]  = stats.pearsonr(data['PEBP1'], data['Hallmark_OXPHOS'])[1]\n",
    "    Corr_Tab_Gly.loc['BACH1 vs Hallmark OXPHOS', y]  = stats.pearsonr(data['BACH1'], data['Hallmark_OXPHOS'])[1]\n",
    "    Corr_Tab_Gly.loc['RKIP vs KS_Score (Tumor)', y]  = stats.pearsonr( data['PEBP1'], data['KS_Score (Tumor)'])[1]\n",
    "    Corr_Tab_Gly.loc['BACH1 vs KS_Score (Tumor)', y]  = stats.pearsonr(data['BACH1'], data['KS_Score (Tumor)'])[1]\n",
    "    Corr_Tab_Gly.loc['RKIP vs KS_Epithelial_Gene_Signature', y]  = stats.pearsonr(data['PEBP1'], data['KS_Epithelial_Gene_Signature'])[1]\n",
    "    Corr_Tab_Gly.loc['BACH1 vs KS_Epithelial_Gene_Signature', y]  = stats.pearsonr(data['BACH1'], data['KS_Epithelial_Gene_Signature'])[1]\n",
    "    Corr_Tab_Gly.loc['RKIP vs KS_Mesenchymal_Gene_Signature', y]  = stats.pearsonr(data['PEBP1'], data['KS_Mesenchymal_Gene_Signature'])[1]\n",
    "    Corr_Tab_Gly.loc['BACH1 vs KS_Mesenchymal_Gene_Signature', y]  = stats.pearsonr( data['BACH1'], data['KS_Mesenchymal_Gene_Signature'])[1]\n",
    "    Corr_Tab_Gly.loc['RKIP vs ESR1', y]  = stats.pearsonr(data['PEBP1'], data['ESR1'])[1]\n",
    "    Corr_Tab_Gly.loc['BACH1 vs ESR1', y]  = stats.pearsonr( data['BACH1'], data['ESR1'])[1]'''\n",
    "\n",
    "'''Star_Corr_Tab_Gly = Corr_Tab_Gly.copy()\n",
    "Star_Corr_Tab_Gly'''\n",
    "\n",
    "'''\n",
    "for i in range(len(tcga_datasets)) :\n",
    "    corr_table_p_value(tcga_datasets[i].T, tcga_labels[i],Star_Corr_Tab_Gly )\n",
    "    Star_Corr_Tab_Gly'''\n"
   ]
  },
  {
   "cell_type": "code",
   "execution_count": null,
   "metadata": {},
   "outputs": [],
   "source": [
    "'''for i in range(len(Star_Corr_Tab_Gly.columns)):\n",
    "    for j in range(len(Star_Corr_Tab_Gly.index)):\n",
    "        \n",
    "        if Star_Corr_Tab_Gly.iloc[j,i] < 0.05 :\n",
    "            Star_Corr_Tab_Gly.iloc[j,i] = '*'\n",
    "        else:\n",
    "            Star_Corr_Tab_Gly.iloc[j,i] =\n",
    "            \n",
    "            Star_Corr_Tab_Gly'''\n",
    "        \n",
    "'''\n",
    "\n"
   ]
  },
  {
   "cell_type": "code",
   "execution_count": null,
   "metadata": {},
   "outputs": [],
   "source": [
    "'''selected_rows_for_plot=['RKIP vs BACH1','RKIP vs KS_Mesenchymal_Gene_Signature','BACH1 vs KS_Mesenchymal_Gene_Signature',\n",
    "                  'RKIP vs KS_Epithelial_Gene_Signature','BACH1 vs KS_Epithelial_Gene_Signature','RKIP vs KS_Score (Tumor)','BACH1 vs KS_Score (Tumor)']'''"
   ]
  },
  {
   "cell_type": "code",
   "execution_count": null,
   "metadata": {},
   "outputs": [],
   "source": [
    "'''labelled=round(Corr_Tab_Gly.loc[selected_rows_for_plot,:],2)\n",
    "labelled.index=['RKIP vs BACH1', 'RKIP vs KS_Mes_GenSig',\n",
    "       'BACH1 vs KS_Mes_GenSig',\n",
    "       'RKIP vs KS_Epi_GenSig',\n",
    "       'BACH1 vs KS_Epi_GenSig', 'RKIP vs KS_Score (Tumor)',\n",
    "       'BACH1 vs KS_Score (Tumor)']'''"
   ]
  },
  {
   "cell_type": "code",
   "execution_count": null,
   "metadata": {},
   "outputs": [],
   "source": [
    "'''plt.figure(figsize=(30,20))\n",
    "#sns.set(rc={'figure.figsize':(10,10)})\n",
    "plt.title('Correlations of RKIP and BACH1 with metabolism gene signature across cancers (Spearman Co-efficients)')\n",
    "sns.heatmap(labelled.T, linewidths = 1,  cmap=\"coolwarm\", square = True, fmt=\"\",vmax = 0.8, vmin =-0.8, annot = Star_Corr_Tab_Gly.loc[selected_rows_for_plot,:].T\n",
    "            ,cbar_kws={'orientation': 'vertical', 'pad' : 0.23, 'aspect': 40} )\n",
    "#plt.ylabel('Gene/Pathway',  labelpad = 20)'''"
   ]
  },
  {
   "cell_type": "code",
   "execution_count": null,
   "metadata": {},
   "outputs": [],
   "source": []
  },
  {
   "attachments": {},
   "cell_type": "markdown",
   "metadata": {},
   "source": [
    "Fig 1b"
   ]
  },
  {
   "cell_type": "code",
   "execution_count": null,
   "metadata": {},
   "outputs": [],
   "source": [
    "'''score_table_pdl1 = round(Corr_Tab_Gly,2).loc[['RKIP vs PDL1 Signature','BACH1 vs PDL1 Signature'],:]\n",
    "star_table_pdl1 = Star_Corr_Tab_Gly.loc[['RKIP vs PDL1 Signature','BACH1 vs PDL1 Signature'],:]'''"
   ]
  },
  {
   "cell_type": "code",
   "execution_count": null,
   "metadata": {},
   "outputs": [],
   "source": [
    "'''score_table_pdl1.index =['RKIP vs PDL1 GenSig', 'BACH1 vs PDL1 GenSig']'''"
   ]
  },
  {
   "cell_type": "code",
   "execution_count": null,
   "metadata": {},
   "outputs": [],
   "source": [
    "'''plt.figure(figsize=(15,8))\n",
    "#sns.set(rc={'figure.figsize':(10,10)})\n",
    "plt.title('Correlations of RKIP and BACH1 with PDL1 gene signature across cancers (Spearman Co-efficients)')\n",
    "\n",
    "sns.heatmap(score_table_pdl1, linewidths = 1,  cmap=\"coolwarm\", square = True, fmt=\"\",vmax = 0.8, vmin =-0.8, annot = star_table_pdl1,\n",
    "            cbar_kws={'orientation': 'horizontal', 'pad' : 0.23, 'aspect': 40} )\n",
    "plt.tick_params(labelsize=10)\n",
    "#plt.ylabel('Gene/Pathway',  labelpad = 20)'''"
   ]
  },
  {
   "cell_type": "code",
   "execution_count": null,
   "metadata": {},
   "outputs": [],
   "source": []
  },
  {
   "attachments": {},
   "cell_type": "markdown",
   "metadata": {},
   "source": [
    "fig 1c"
   ]
  },
  {
   "attachments": {},
   "cell_type": "markdown",
   "metadata": {},
   "source": []
  },
  {
   "cell_type": "code",
   "execution_count": null,
   "metadata": {},
   "outputs": [],
   "source": [
    "#selected_rows_for_plot_Meta_plot=['RKIP vs Hallmark OXPHOS','BACH1 vs Hallmark OXPHOS','RKIP vs FAO Gene Signature','BACH1 vs FAO Gene Signature','RKIP vs Hallmark Glycolysis','BACH1 vs Hallmark Glycolysis']"
   ]
  },
  {
   "cell_type": "code",
   "execution_count": null,
   "metadata": {},
   "outputs": [],
   "source": [
    "#score_table_meta = round(Corr_Tab_Gly,2).loc[selected_rows_for_plot_Meta_plot,:]\n",
    "#star_table_meta = Star_Corr_Tab_Gly.loc[selected_rows_for_plot_Meta_plot,:]"
   ]
  },
  {
   "cell_type": "code",
   "execution_count": null,
   "metadata": {},
   "outputs": [],
   "source": [
    "##score_table_meta.index"
   ]
  },
  {
   "cell_type": "code",
   "execution_count": null,
   "metadata": {},
   "outputs": [],
   "source": [
    "'''\n",
    "score_table_meta.index=['RKIP vs OXPHOS_GenSig', 'BACH1 vs OXPHOS_GenSig',\n",
    "       'RKIP vs FAO_GenSig', 'BACH1 vs FAO_GenSig',\n",
    "       'RKIP vs Glycolysis_GenSig', 'BACH1 vs Glycolysis_GenSig']'''"
   ]
  },
  {
   "cell_type": "code",
   "execution_count": null,
   "metadata": {},
   "outputs": [],
   "source": [
    "'''plt.figure(figsize=(15,8))\n",
    "#sns.set(rc={'figure.figsize':(10,10)})\n",
    "plt.title('Pan Cancer Analysis (Spearman Co-efficients)')\n",
    "sns.heatmap(score_table_meta, linewidths = 1,  cmap=\"coolwarm\", square = True, fmt=\"\",vmax = 1, vmin =-1, annot = star_table_meta\n",
    "            ,cbar_kws={'orientation': 'horizontal', 'pad' : 0.23, 'aspect': 40} )\n",
    "#plt.ylabel('Gene/Pathway',  labelpad = 20)'''"
   ]
  },
  {
   "cell_type": "code",
   "execution_count": null,
   "metadata": {},
   "outputs": [],
   "source": []
  },
  {
   "cell_type": "code",
   "execution_count": null,
   "metadata": {},
   "outputs": [],
   "source": [
    "'''def corr_table(data, y):\n",
    "    Corr_Tab_Gly.loc['RKIP vs BACH1', y]  = stats.pearsonr(data['PEBP1'], data['BACH1'])[0]\n",
    "    Corr_Tab_Gly.loc['RKIP vs PDL1 Signature', y]  = stats.pearsonr(data['PEBP1'], data['PD-L1_Gene_Signature'])[0]\n",
    "    Corr_Tab_Gly.loc['BACH1 vs PDL1 Signature', y]  = stats.pearsonr(data['BACH1'], data['PD-L1_Gene_Signature'])[0]\n",
    "    Corr_Tab_Gly.loc['RKIP vs Hallmark Glycolysis', y]  = stats.pearsonr(data['PEBP1'], data['Hallmark_Glycolysis'])[0]\n",
    "    Corr_Tab_Gly.loc['BACH1 vs Hallmark Glycolysis', y]  = stats.pearsonr( data['BACH1'], data['Hallmark_Glycolysis'])[0]\n",
    "    Corr_Tab_Gly.loc['RKIP vs FAO Gene Signature', y]  = stats.pearsonr(data['PEBP1'], data['FAO_Gene_Signature'])[0]\n",
    "    Corr_Tab_Gly.loc['BACH1 vs FAO Gene Signature', y]  = stats.pearsonr(data['BACH1'], data['FAO_Gene_Signature'])[0]\n",
    "    Corr_Tab_Gly.loc['RKIP vs Hallmark OXPHOS', y]  = stats.pearsonr(data['PEBP1'], data['Hallmark_OXPHOS'])[0]\n",
    "    Corr_Tab_Gly.loc['BACH1 vs Hallmark OXPHOS', y]  = stats.pearsonr(data['BACH1'], data['Hallmark_OXPHOS'])[0]\n",
    "    Corr_Tab_Gly.loc['RKIP vs KS_Score (Tumor)', y]  = stats.pearsonr( data['PEBP1'], data['KS_Score (Tumor)'])[0]\n",
    "    Corr_Tab_Gly.loc['BACH1 vs KS_Score (Tumor)', y]  = stats.pearsonr(data['BACH1'], data['KS_Score (Tumor)'])[0]\n",
    "    Corr_Tab_Gly.loc['RKIP vs KS_Epithelial_Gene_Signature', y]  = stats.pearsonr(data['PEBP1'], data['KS_Epithelial_Gene_Signature'])[0]\n",
    "    Corr_Tab_Gly.loc['BACH1 vs KS_Epithelial_Gene_Signature', y]  = stats.pearsonr(data['BACH1'], data['KS_Epithelial_Gene_Signature'])[0]\n",
    "    Corr_Tab_Gly.loc['RKIP vs KS_Mesenchymal_Gene_Signature', y]  = stats.pearsonr(data['PEBP1'], data['KS_Mesenchymal_Gene_Signature'])[0]\n",
    "    Corr_Tab_Gly.loc['BACH1 vs KS_Mesenchymal_Gene_Signature', y]  = stats.pearsonr( data['BACH1'], data['KS_Mesenchymal_Gene_Signature'])[0]\n",
    "    Corr_Tab_Gly.loc['RKIP vs ESR1', y]  = stats.pearsonr(data['PEBP1'], data['ESR1'])[0]\n",
    "    Corr_Tab_Gly.loc['BACH1 vs ESR1', y]  = stats.pearsonr( data['BACH1'], data['ESR1'])[0]'''"
   ]
  },
  {
   "cell_type": "code",
   "execution_count": null,
   "metadata": {},
   "outputs": [],
   "source": [
    "'''Corr_Tab_Gly = pd.DataFrame([[0]*23]*35).T\n",
    "\n",
    "Corr_Tab_Gly.index = ['RKIP vs BACH1','RKIP vs PDL1 Signature' , 'BACH1 vs PDL1 Signature', 'RKIP vs Hallmark Glycolysis', 'BACH1 vs Hallmark Glycolysis', 'RKIP vs FAO Gene Signature', 'BACH1 vs FAO Gene Signature', 'RKIP vs Hallmark OXPHOS', 'BACH1 vs Hallmark OXPHOS', 'RKIP vs KS_Score (Tumor)', 'BACH1 vs KS_Score (Tumor)', 'RKIP vs KS_Epithelial_Gene_Signature', 'BACH1 vs KS_Epithelial_Gene_Signature','RKIP vs KS_Mesenchymal_Gene_Signature', 'BACH1 vs KS_Mesenchymal_Gene_Signature','RKIP vs ESR1','BACH1 vs ESR1','BACH1 vs 76GS_Score','RKIP vs 76GS_Score' ,'76GS_Score vs KS_Score (Tumor)','Hallmark_OXPHOS vs Hallmark_Glycolysis', 'FAO_Gene_Signature vs Hallmark_OXPHOS','FAO_Gene_Signature vs Hallmark_Glycolysis']\n",
    "Corr_Tab_Gly.columns = ['TCGA_ACC', 'TCGA_BLCA', 'TCGA_BRCA', 'TCGA_CESC','TCGA_CHOL', 'TCGA_COAD','TCGA_COADREAD','TCGA_ESCA','TCGA_GBM','TCGA_GBMLGG','TCGA_HNSC','TCGA_KICH','TCGA_KIRC','TCGA_KIRP','TCGA_LAML','TCGA_LGG','TCGA_LIHC','TCGA_LUAD','TCGA_LUNG','TCGA_LUSC','TCGA_MESO','TCGA_OV','TCGA_PAAD','TCGA_PCPG','TCGA_PRAD','TCGA_READ','TCGA_SARC','TCGA_SKCM','TCGA_STAD','TCGA_TGCT','TCGA_THCA','TCGA_THYM','TCGA_UCEC','TCGA_UCS','TCGA_UVM']\n",
    "Corr_Tab_Gly'''"
   ]
  },
  {
   "cell_type": "code",
   "execution_count": null,
   "metadata": {},
   "outputs": [],
   "source": [
    "'''def corr_table(data, y):\n",
    "    Corr_Tab_Gly.loc['RKIP vs BACH1', y]  = stats.spearmanr(data['PEBP1'], data['BACH1'])[0]\n",
    "    Corr_Tab_Gly.loc['RKIP vs PDL1 Signature', y]  = stats.spearmanr(data['PEBP1'], data['PD-L1_Gene_Signature'])[0]\n",
    "    Corr_Tab_Gly.loc['BACH1 vs PDL1 Signature', y]  = stats.spearmanr(data['BACH1'], data['PD-L1_Gene_Signature'])[0]\n",
    "    Corr_Tab_Gly.loc['RKIP vs Hallmark Glycolysis', y]  = stats.spearmanr(data['PEBP1'], data['Hallmark_Glycolysis'])[0]\n",
    "    Corr_Tab_Gly.loc['BACH1 vs Hallmark Glycolysis', y]  = stats.spearmanr( data['BACH1'], data['Hallmark_Glycolysis'])[0]\n",
    "    Corr_Tab_Gly.loc['RKIP vs FAO Gene Signature', y]  = stats.spearmanr(data['PEBP1'], data['FAO_Gene_Signature'])[0]\n",
    "    Corr_Tab_Gly.loc['BACH1 vs FAO Gene Signature', y]  = stats.spearmanr(data['BACH1'], data['FAO_Gene_Signature'])[0]\n",
    "    Corr_Tab_Gly.loc['RKIP vs Hallmark OXPHOS', y]  = stats.spearmanr(data['PEBP1'], data['Hallmark_OXPHOS'])[0]\n",
    "    Corr_Tab_Gly.loc['BACH1 vs Hallmark OXPHOS', y]  = stats.spearmanr(data['BACH1'], data['Hallmark_OXPHOS'])[0]\n",
    "    Corr_Tab_Gly.loc['RKIP vs KS_Score (Tumor)', y]  = stats.spearmanr( data['PEBP1'], data['KS_Score (Tumor)'])[0]\n",
    "    Corr_Tab_Gly.loc['BACH1 vs KS_Score (Tumor)', y]  = stats.spearmanr(data['BACH1'], data['KS_Score (Tumor)'])[0]\n",
    "    Corr_Tab_Gly.loc['RKIP vs KS_Epithelial_Gene_Signature', y]  = stats.spearmanr(data['PEBP1'], data['KS_Epithelial_Gene_Signature'])[0]\n",
    "    Corr_Tab_Gly.loc['BACH1 vs KS_Epithelial_Gene_Signature', y]  = stats.spearmanr(data['BACH1'], data['KS_Epithelial_Gene_Signature'])[0]\n",
    "    Corr_Tab_Gly.loc['RKIP vs KS_Mesenchymal_Gene_Signature', y]  = stats.spearmanr(data['PEBP1'], data['KS_Mesenchymal_Gene_Signature'])[0]\n",
    "    Corr_Tab_Gly.loc['BACH1 vs KS_Mesenchymal_Gene_Signature', y]  = stats.spearmanr( data['BACH1'], data['KS_Mesenchymal_Gene_Signature'])[0]\n",
    "    Corr_Tab_Gly.loc['RKIP vs ESR1', y]  = stats.spearmanr(data['PEBP1'], data['ESR1'])[0]\n",
    "    Corr_Tab_Gly.loc['BACH1 vs ESR1', y]  = stats.spearmanr(data['BACH1'], data['ESR1'])[0]\n",
    "    Corr_Tab_Gly.loc['BACH1 vs 76GS_Score', y]  = stats.spearmanr( data['BACH1'], data['76GS_Score'])[0]\n",
    "    Corr_Tab_Gly.loc['RKIP vs 76GS_Score', y]  = stats.spearmanr( data['PEBP1'], data['76GS_Score'])[0]\n",
    "    Corr_Tab_Gly.loc['76GS_Score vs KS_Score (Tumor)', y]  = stats.spearmanr( data['76GS_Score'], data['KS_Score (Tumor)'])[0]\n",
    "    Corr_Tab_Gly.loc['Hallmark_OXPHOS vs Hallmark_Glycolysis', y]  = stats.spearmanr( data['Hallmark_OXPHOS'], data['Hallmark_Glycolysis'])[0]\n",
    "    Corr_Tab_Gly.loc['FAO_Gene_Signature vs Hallmark_OXPHOS', y]  = stats.spearmanr( data['FAO_Gene_Signature'], data['Hallmark_OXPHOS'])[0]\n",
    "    Corr_Tab_Gly.loc['FAO_Gene_Signature vs Hallmark_Glycolysis', y]  = stats.spearmanr( data['FAO_Gene_Signature'], data['Hallmark_Glycolysis'])[0]'''"
   ]
  },
  {
   "cell_type": "code",
   "execution_count": null,
   "metadata": {},
   "outputs": [],
   "source": [
    "'''\n",
    "for i in range(len(tcga_datasets)) :\n",
    "    corr_table(tcga_datasets[i].T, tcga_labels[i])\n",
    "'''"
   ]
  },
  {
   "cell_type": "code",
   "execution_count": null,
   "metadata": {},
   "outputs": [],
   "source": [
    "'''Corr_Tab_Gly_star=Corr_Tab_Gly.copy()\n",
    "Corr_Tab_Gly_star'''"
   ]
  },
  {
   "cell_type": "code",
   "execution_count": null,
   "metadata": {},
   "outputs": [],
   "source": []
  },
  {
   "cell_type": "code",
   "execution_count": null,
   "metadata": {},
   "outputs": [],
   "source": [
    "Corr_Tab_Gly = pd.DataFrame([[0]*23]*35).T\n",
    "\n",
    "Corr_Tab_Gly.index = ['RKIP vs BACH1','RKIP vs PDL1 Signature' , 'BACH1 vs PDL1 Signature', 'RKIP vs Hallmark Glycolysis', 'BACH1 vs Hallmark Glycolysis', 'RKIP vs FAO Gene Signature', 'BACH1 vs FAO Gene Signature', 'RKIP vs Hallmark OXPHOS', 'BACH1 vs Hallmark OXPHOS', 'RKIP vs KS_Score (Tumor)', 'BACH1 vs KS_Score (Tumor)', 'RKIP vs KS_Epithelial_Gene_Signature', 'BACH1 vs KS_Epithelial_Gene_Signature','RKIP vs KS_Mesenchymal_Gene_Signature', 'BACH1 vs KS_Mesenchymal_Gene_Signature','RKIP vs ESR1','BACH1 vs ESR1','BACH1 vs 76GS_Score','RKIP vs 76GS_Score' ,'76GS_Score vs KS_Score (Tumor)','Hallmark_OXPHOS vs Hallmark_Glycolysis', 'FAO_Gene_Signature vs Hallmark_OXPHOS','FAO_Gene_Signature vs Hallmark_Glycolysis']\n",
    "Corr_Tab_Gly.columns = ['TCGA_ACC', 'TCGA_BLCA', 'TCGA_BRCA', 'TCGA_CESC','TCGA_CHOL', 'TCGA_COAD','TCGA_COADREAD','TCGA_ESCA','TCGA_GBM','TCGA_GBMLGG','TCGA_HNSC','TCGA_KICH','TCGA_KIRC','TCGA_KIRP','TCGA_LAML','TCGA_LGG','TCGA_LIHC','TCGA_LUAD','TCGA_LUNG','TCGA_LUSC','TCGA_MESO','TCGA_OV','TCGA_PAAD','TCGA_PCPG','TCGA_PRAD','TCGA_READ','TCGA_SARC','TCGA_SKCM','TCGA_STAD','TCGA_TGCT','TCGA_THCA','TCGA_THYM','TCGA_UCEC','TCGA_UCS','TCGA_UVM']\n",
    "Corr_Tab_Gly\n"
   ]
  },
  {
   "cell_type": "code",
   "execution_count": null,
   "metadata": {},
   "outputs": [],
   "source": [
    "tcga_datasets = [TCGA_ACC_scored,TCGA_BLCA_scored, TCGA_BRCA_scored, TCGA_CESC_scored, \n",
    "TCGA_CHOL_scored,TCGA_COAD_scored,TCGA_COADREAD_scored,TCGA_ESCA_scored,TCGA_GBM_scored ,TCGA_GBMLGG_scored, TCGA_HNSC_scored ,\n",
    "TCGA_KICH_scored ,TCGA_KIRC_scored,TCGA_KIRP_scored ,TCGA_LAML_scored,\n",
    "TCGA_LGG_scored,TCGA_LIHC_scored,TCGA_LUAD_scored ,TCGA_LUNG_scored ,\n",
    "TCGA_LUSC_scored ,TCGA_MESO_scored ,TCGA_OV_scored,TCGA_PAAD_scored, \n",
    "TCGA_PCPG_scored ,TCGA_PRAD_scored ,TCGA_READ_scored ,TCGA_SARC_scored ,\n",
    "TCGA_SKCM_scored ,TCGA_STAD_scored ,TCGA_TGCT_scored ,TCGA_THCA_scored,\n",
    "TCGA_THYM_scored ,TCGA_UCEC_scored,TCGA_UCS_scored ,TCGA_UVM_scored ] \n",
    "\n",
    "tcga_labels = Corr_Tab_Gly.columns\n",
    "\n"
   ]
  },
  {
   "cell_type": "code",
   "execution_count": null,
   "metadata": {},
   "outputs": [],
   "source": [
    "def corr_table(Corr_Tab_Gly, data, y,i):\n",
    "    Corr_Tab_Gly.loc['RKIP vs BACH1', y]  = stats.spearmanr(data['PEBP1'], data['BACH1'])[i]\n",
    "    Corr_Tab_Gly.loc['RKIP vs PDL1 Signature', y]  = stats.spearmanr(data['PEBP1'], data['PD-L1_Gene_Signature'])[i]\n",
    "    Corr_Tab_Gly.loc['BACH1 vs PDL1 Signature', y]  = stats.spearmanr(data['BACH1'], data['PD-L1_Gene_Signature'])[i]\n",
    "    Corr_Tab_Gly.loc['RKIP vs Hallmark Glycolysis', y]  = stats.spearmanr(data['PEBP1'], data['Hallmark_Glycolysis'])[i]\n",
    "    Corr_Tab_Gly.loc['BACH1 vs Hallmark Glycolysis', y]  = stats.spearmanr( data['BACH1'], data['Hallmark_Glycolysis'])[i]\n",
    "    Corr_Tab_Gly.loc['RKIP vs FAO Gene Signature', y]  = stats.spearmanr(data['PEBP1'], data['FAO_Gene_Signature'])[i]\n",
    "    Corr_Tab_Gly.loc['BACH1 vs FAO Gene Signature', y]  = stats.spearmanr(data['BACH1'], data['FAO_Gene_Signature'])[i]\n",
    "    Corr_Tab_Gly.loc['RKIP vs Hallmark OXPHOS', y]  = stats.spearmanr(data['PEBP1'], data['Hallmark_OXPHOS'])[i]\n",
    "    Corr_Tab_Gly.loc['BACH1 vs Hallmark OXPHOS', y]  = stats.spearmanr(data['BACH1'], data['Hallmark_OXPHOS'])[i]\n",
    "    Corr_Tab_Gly.loc['RKIP vs KS_Score (Tumor)', y]  = stats.spearmanr( data['PEBP1'], data['KS_Score (Tumor)'])[i]\n",
    "    Corr_Tab_Gly.loc['BACH1 vs KS_Score (Tumor)', y]  = stats.spearmanr(data['BACH1'], data['KS_Score (Tumor)'])[i]\n",
    "    Corr_Tab_Gly.loc['RKIP vs KS_Epithelial_Gene_Signature', y]  = stats.spearmanr(data['PEBP1'], data['KS_Epithelial_Gene_Signature'])[i]\n",
    "    Corr_Tab_Gly.loc['BACH1 vs KS_Epithelial_Gene_Signature', y]  = stats.spearmanr(data['BACH1'], data['KS_Epithelial_Gene_Signature'])[i]\n",
    "    Corr_Tab_Gly.loc['RKIP vs KS_Mesenchymal_Gene_Signature', y]  = stats.spearmanr(data['PEBP1'], data['KS_Mesenchymal_Gene_Signature'])[i]\n",
    "    Corr_Tab_Gly.loc['BACH1 vs KS_Mesenchymal_Gene_Signature', y]  = stats.spearmanr( data['BACH1'], data['KS_Mesenchymal_Gene_Signature'])[i]\n",
    "    Corr_Tab_Gly.loc['RKIP vs ESR1', y]  = stats.spearmanr(data['PEBP1'], data['ESR1'])[i]\n",
    "    Corr_Tab_Gly.loc['BACH1 vs ESR1', y]  = stats.spearmanr(data['BACH1'], data['ESR1'])[i]\n",
    "    Corr_Tab_Gly.loc['BACH1 vs 76GS_Score', y]  = stats.spearmanr( data['BACH1'], data['76GS_Score'])[i]\n",
    "    Corr_Tab_Gly.loc['RKIP vs 76GS_Score', y]  = stats.spearmanr( data['PEBP1'], data['76GS_Score'])[i]\n",
    "    Corr_Tab_Gly.loc['76GS_Score vs KS_Score (Tumor)', y]  = stats.spearmanr( data['76GS_Score'], data['KS_Score (Tumor)'])[i]\n",
    "    Corr_Tab_Gly.loc['Hallmark_OXPHOS vs Hallmark_Glycolysis', y]  = stats.spearmanr( data['Hallmark_OXPHOS'], data['Hallmark_Glycolysis'])[i]\n",
    "    Corr_Tab_Gly.loc['FAO_Gene_Signature vs Hallmark_OXPHOS', y]  = stats.spearmanr( data['FAO_Gene_Signature'], data['Hallmark_OXPHOS'])[i]\n",
    "    Corr_Tab_Gly.loc['FAO_Gene_Signature vs Hallmark_Glycolysis', y]  = stats.spearmanr( data['FAO_Gene_Signature'], data['Hallmark_Glycolysis'])[i]\n",
    "    Corr_Tab_Gly.loc['BACH1_Metastasis_GenSig vs RKIP', y]  = stats.spearmanr( data['GenSig_BACH1_Metastasis_scores'], data['PEBP1'])[i]\n",
    "    Corr_Tab_Gly.loc['BACH1_Metastasis_GenSig vs BACH1', y]  = stats.spearmanr( data['GenSig_BACH1_Metastasis_scores'], data['BACH1'])[i]\n",
    "    Corr_Tab_Gly.loc['RKIP_Metastasis_GenSig vs RKIP', y]  = stats.spearmanr( data['GenSig_RKIP_Metastasis_scores'], data['PEBP1'])[i]\n",
    "    Corr_Tab_Gly.loc['RKIP_Metastasis_GenSig vs BACH1', y]  = stats.spearmanr( data['GenSig_RKIP_Metastasis_scores'], data['BACH1'])[i]\n",
    "    Corr_Tab_Gly.loc['RKIP_Metastasis_GenSig vs BACH1_Metastasis_GenSig', y]  = stats.spearmanr( data['GenSig_RKIP_Metastasis_scores'], data['GenSig_BACH1_Metastasis_scores'])[i]\n",
    "    Corr_Tab_Gly.loc['RKIP vs CD274(PDL1)', y]  = stats.spearmanr( data['PEBP1'], data['CD274'])[i]\n",
    "    Corr_Tab_Gly.loc['BACH1 vs CD274(PDL1)', y]  = stats.spearmanr( data['BACH1'], data['CD274'])[i]\n",
    "    \n",
    "    #Corr_Tab_Gly.loc['RKIP vs NRF2', y]  = stats.spearmanr( data['PEBP1'], data['NFE2L2'])[i]\n",
    "    #Corr_Tab_Gly.loc['BACH1 vs NRF2', y]  = stats.spearmanr( data['BACH1'], data['NFE2L2'])[i]\n",
    "    \n",
    "    #Corr_Tab_Gly.loc['RKIP vs NRF2_Gene_Signature', y]  = stats.spearmanr( data['PEBP1'], data['NRF2_Gene_Signature'])[i]\n",
    "    #Corr_Tab_Gly.loc['BACH1 vs NRF2_Gene_Signature', y]  = stats.spearmanr( data['BACH1'], data['NRF2_Gene_Signature'])[i]\n",
    "    #Corr_Tab_Gly.loc['NRF2 vs NRF2_Gene_Signature', y]  = stats.spearmanr( data['BACH1'], data['NFE2L2'])[i]\n",
    "\n",
    "    #Corr_Tab_Gly.loc['RKIP vs GenSig_Ferroptosis_6', y]  = stats.spearmanr( data['PEBP1'], data['GenSig_Ferroptosis_6'])[i]\n",
    "    #Corr_Tab_Gly.loc['BACH1 vs GenSig_Ferroptosis_6', y]  = stats.spearmanr( data['BACH1'], data['GenSig_Ferroptosis_6'])[i]\n",
    "    #Corr_Tab_Gly.loc['NRF2 vs GenSig_Ferroptosis_6', y]  = stats.spearmanr( data['NFE2L2'], data['GenSig_Ferroptosis_6'])[i]\n",
    "\n",
    "    #Corr_Tab_Gly.loc['RKIP vs GenSig_Ferroptosis_10_LBC', y]  = stats.spearmanr( data['PEBP1'], data['GenSig_Ferroptosis_10_LBC'])[i]\n",
    "    #Corr_Tab_Gly.loc['BACH1 vs GenSig_Ferroptosis_10_LBC', y]  = stats.spearmanr( data['BACH1'], data['GenSig_Ferroptosis_10_LBC'])[i]\n",
    "    #Corr_Tab_Gly.loc['NRF2 vs GenSig_Ferroptosis_10_LBC', y]  = stats.spearmanr( data['NFE2L2'], data['GenSig_Ferroptosis_10_LBC'])[i]\n",
    "\n",
    "\n",
    "    Corr_Tab_Gly.loc['RKIP vs GenSig_Ferroptosis_Immune_45', y]  = stats.spearmanr( data['PEBP1'], data['GenSig_Ferroptosis_Immune_45'])[i]\n",
    "    Corr_Tab_Gly.loc['BACH1 vs GenSig_Ferroptosis_Immune_45', y]  = stats.spearmanr( data['BACH1'], data['GenSig_Ferroptosis_Immune_45'])[i]\n",
    "    Corr_Tab_Gly.loc['NEF2 vs GenSig_Ferroptosis_Immune_45', y]  = stats.spearmanr( data['NFE2L2'], data['GenSig_Ferroptosis_Immune_45'])[i]\n",
    "\n",
    "    Corr_Tab_Gly.loc['RKIP vs VIM', y]  = stats.spearmanr( data['PEBP1'], data['VIM'])[i]\n",
    "    Corr_Tab_Gly.loc['RKIP vs SNAI2', y]  = stats.spearmanr( data['PEBP1'], data['SNAI2'])[i]\n",
    "    Corr_Tab_Gly.loc['RKIP vs OVOL2', y]  = stats.spearmanr( data['PEBP1'], data['OVOL2'])[i]\n",
    "\n",
    "    \n",
    "    Corr_Tab_Gly.loc['BACH1 vs VIM', y]  = stats.spearmanr( data['BACH1'], data['VIM'])[i]\n",
    "    Corr_Tab_Gly.loc['BACH1 vs SNAI2', y]  = stats.spearmanr( data['BACH1'], data['SNAI2'])[i]\n",
    "    Corr_Tab_Gly.loc['BACH1 vs OVOL2', y]  = stats.spearmanr( data['BACH1'], data['OVOL2'])[i]"
   ]
  },
  {
   "cell_type": "code",
   "execution_count": null,
   "metadata": {},
   "outputs": [],
   "source": [
    "\n",
    "for i in range(len(tcga_datasets)):\n",
    "    corr_table(Corr_Tab_Gly, tcga_datasets[i].T, tcga_labels[i], 1)\n"
   ]
  },
  {
   "cell_type": "code",
   "execution_count": null,
   "metadata": {},
   "outputs": [],
   "source": [
    "Corr_Tab_Gly_star = Corr_Tab_Gly.copy()"
   ]
  },
  {
   "cell_type": "code",
   "execution_count": null,
   "metadata": {},
   "outputs": [],
   "source": [
    "\n",
    "for i in range(len(tcga_datasets)):\n",
    "    corr_table(Corr_Tab_Gly, tcga_datasets[i].T, tcga_labels[i], 0)\n"
   ]
  },
  {
   "cell_type": "code",
   "execution_count": null,
   "metadata": {},
   "outputs": [],
   "source": [
    "Corr_Tab_Gly"
   ]
  },
  {
   "cell_type": "code",
   "execution_count": null,
   "metadata": {},
   "outputs": [],
   "source": []
  },
  {
   "attachments": {},
   "cell_type": "markdown",
   "metadata": {},
   "source": [
    "Supplementary Figure 2 (Heatmap of scatterplot data)"
   ]
  },
  {
   "cell_type": "code",
   "execution_count": null,
   "metadata": {},
   "outputs": [],
   "source": [
    "Corr_Tab_Gly.loc[['RKIP vs VIM','RKIP vs SNAI2','RKIP vs OVOL2','BACH1 vs VIM','BACH1 vs SNAI2','BACH1 vs OVOL2'],'TCGA_BRCA']\n",
    "table_s2=pd.DataFrame(columns=['VIM','SNAI2','OVOL2'], index=['RKIP','BACH1'])\n",
    "table_s2.loc['RKIP',:]= np.array(Corr_Tab_Gly.loc[['RKIP vs VIM','RKIP vs SNAI2','RKIP vs OVOL2'],'TCGA_BRCA'].T)\n",
    "table_s2.loc['BACH1',:]= np.array(Corr_Tab_Gly.loc[['BACH1 vs VIM','BACH1 vs SNAI2','BACH1 vs OVOL2'],'TCGA_BRCA'].T)\n",
    "table_s2=table_s2.astype(float)\n"
   ]
  },
  {
   "cell_type": "code",
   "execution_count": null,
   "metadata": {},
   "outputs": [],
   "source": [
    "Corr_Tab_Gly_star.loc[['RKIP vs VIM','RKIP vs SNAI2','RKIP vs OVOL2','BACH1 vs VIM','BACH1 vs SNAI2','BACH1 vs OVOL2'],'TCGA_BRCA']\n",
    "#Corr_Tab_Gly_star=Corr_Tab_Gly_star.T\n",
    "table_s2_star=pd.DataFrame(columns=['VIM','SNAI2','OVOL2'], index=['RKIP','BACH1'])\n",
    "table_s2_star=table_s2_star.T\n",
    "table_s2_star.loc[:,'RKIP']= np.array(Corr_Tab_Gly_star.loc[['RKIP vs VIM','RKIP vs SNAI2','RKIP vs OVOL2'],'TCGA_BRCA'])\n",
    "table_s2_star.loc[:,'BACH1']= np.array(Corr_Tab_Gly_star.loc[['BACH1 vs VIM','BACH1 vs SNAI2','BACH1 vs OVOL2'],'TCGA_BRCA'])\n",
    "table_s2_star=table_s2_star.T\n",
    "table_s2_star"
   ]
  },
  {
   "cell_type": "code",
   "execution_count": null,
   "metadata": {},
   "outputs": [],
   "source": [
    "table_s2_stared=table_s2_star.copy()\n",
    "table_s2_stared"
   ]
  },
  {
   "cell_type": "code",
   "execution_count": null,
   "metadata": {},
   "outputs": [],
   "source": [
    "for i in range(len(table_s2_star.columns)):\n",
    "    for j in range(len(table_s2_star.index)):\n",
    "        \n",
    "        if table_s2_stared.iloc[j,i] < 0.05 :\n",
    "            table_s2_stared.iloc[j,i] = '*'\n",
    "        else:\n",
    "            table_s2_stared.iloc[j,i] = ''\n",
    "\n",
    "table_s2_stared\n"
   ]
  },
  {
   "cell_type": "code",
   "execution_count": null,
   "metadata": {},
   "outputs": [],
   "source": [
    "table_s2=table_s2.astype(float)\n",
    "table_s2"
   ]
  },
  {
   "cell_type": "code",
   "execution_count": null,
   "metadata": {},
   "outputs": [],
   "source": [
    "table_s2_stared.T"
   ]
  },
  {
   "cell_type": "code",
   "execution_count": null,
   "metadata": {},
   "outputs": [],
   "source": [
    "plt.figure(figsize=(25,20))\n",
    "plt.rcParams['figure.dpi']= 500\n",
    "ax = sns.heatmap(table_s2, linewidths = 1,  cmap=\"coolwarm\", square = True, fmt=\"\",vmax = 0.8, vmin = -0.8, annot = table_s2_stared\n",
    "            ,cbar_kws={'orientation': 'horizontal', 'pad' : 0.35 , 'aspect': 16, 'fraction' : 0.08},  \n",
    "            annot_kws={'size': 100, 'verticalalignment':'center', 'horizontalalignment':'center'} )\n",
    "plt.tick_params(axis='both', labelsize=80 )\n",
    "cbar = ax.collections[0].colorbar\n",
    "plt.xticks( rotation = 50, horizontalalignment='right')\n",
    "plt.yticks( rotation = 0, horizontalalignment='right')\n",
    "cbar.ax.tick_params(labelsize = 60)\n",
    "\n"
   ]
  },
  {
   "cell_type": "code",
   "execution_count": null,
   "metadata": {},
   "outputs": [],
   "source": [
    "table_s2.T.loc[:,'RKIP']=Corr_Tab_Gly_star.loc[['RKIP vs VIM','RKIP vs SNAI2','RKIP vs OVOL2'],'TCGA_BRCA']"
   ]
  },
  {
   "cell_type": "code",
   "execution_count": null,
   "metadata": {},
   "outputs": [],
   "source": [
    "np.array(Corr_Tab_Gly_star.loc[['RKIP vs VIM','RKIP vs SNAI2','RKIP vs OVOL2'],'TCGA_BRCA'])"
   ]
  },
  {
   "cell_type": "code",
   "execution_count": null,
   "metadata": {},
   "outputs": [],
   "source": [
    "(Corr_Tab_Gly.T.loc[:,'RKIP vs KS_Epithelial_Gene_Signature'] > 0).value_counts()"
   ]
  },
  {
   "cell_type": "code",
   "execution_count": null,
   "metadata": {},
   "outputs": [],
   "source": [
    "(Corr_Tab_Gly_star.T[Corr_Tab_Gly.T.loc[:,'RKIP vs KS_Epithelial_Gene_Signature'] > 0].loc[:,'RKIP vs KS_Epithelial_Gene_Signature']< 0.05).value_counts()"
   ]
  },
  {
   "cell_type": "code",
   "execution_count": null,
   "metadata": {},
   "outputs": [],
   "source": []
  },
  {
   "cell_type": "code",
   "execution_count": null,
   "metadata": {},
   "outputs": [],
   "source": [
    "(Corr_Tab_Gly.T.loc[:,'BACH1 vs KS_Mesenchymal_Gene_Signature'] > 0).value_counts()\n",
    "(Corr_Tab_Gly_star.T[Corr_Tab_Gly.T.loc[:,'BACH1 vs KS_Mesenchymal_Gene_Signature'] > 0].loc[:,'BACH1 vs KS_Mesenchymal_Gene_Signature']< 0.05).value_counts()\n",
    "(Corr_Tab_Gly_star.T[Corr_Tab_Gly.T.loc[:,'RKIP vs KS_Mesenchymal_Gene_Signature'] < 0].loc[:,'RKIP vs KS_Mesenchymal_Gene_Signature']< 0.05).value_counts()\n",
    "(Corr_Tab_Gly.T.loc[:,'RKIP vs KS_Mesenchymal_Gene_Signature'] < 0).value_counts()\n",
    "(Corr_Tab_Gly.T.loc[:,'RKIP vs KS_Score (Tumor)'] < 0).value_counts()\n",
    "(Corr_Tab_Gly.T.loc[:,'BACH1 vs KS_Epithelial_Gene_Signature'] < 0).value_counts()\n",
    "(Corr_Tab_Gly_star.T[Corr_Tab_Gly.T.loc[:,'BACH1 vs KS_Epithelial_Gene_Signature'] < 0].loc[:,'BACH1 vs KS_Epithelial_Gene_Signature']< 0.05).value_counts()\n",
    "(Corr_Tab_Gly_star.T[Corr_Tab_Gly.T.loc[:,'RKIP vs KS_Score (Tumor)'] < 0].loc[:,'RKIP vs KS_Score (Tumor)']< 0.05).value_counts()\n",
    "(Corr_Tab_Gly.T.loc[:,'BACH1 vs KS_Score (Tumor)'] > 0).value_counts()\n",
    "(Corr_Tab_Gly_star.T[Corr_Tab_Gly.T.loc[:,'BACH1 vs KS_Score (Tumor)'] > 0].loc[:,'BACH1 vs KS_Score (Tumor)']< 0.05).value_counts()"
   ]
  },
  {
   "cell_type": "code",
   "execution_count": null,
   "metadata": {},
   "outputs": [],
   "source": []
  },
  {
   "cell_type": "code",
   "execution_count": null,
   "metadata": {},
   "outputs": [],
   "source": [
    "for i in range(len(Corr_Tab_Gly_star.columns)):\n",
    "    for j in range(len(Corr_Tab_Gly_star.index)):\n",
    "        \n",
    "        if Corr_Tab_Gly_star.iloc[j,i] < 0.05 :\n",
    "            Corr_Tab_Gly_star.iloc[j,i] = '*'\n",
    "        else:\n",
    "            Corr_Tab_Gly_star.iloc[j,i] = ''\n",
    "        \n"
   ]
  },
  {
   "cell_type": "code",
   "execution_count": null,
   "metadata": {},
   "outputs": [],
   "source": [
    "Corr_Tab_Gly"
   ]
  },
  {
   "attachments": {},
   "cell_type": "markdown",
   "metadata": {},
   "source": []
  },
  {
   "cell_type": "code",
   "execution_count": null,
   "metadata": {},
   "outputs": [],
   "source": [
    "plt.figure(figsize=(35,30))\n",
    "#sns.set(rc={'figure.figsize':(10,10)})\n",
    "plt.title('Pan Cancer Analysis (Spearman Co-efficients)')\n",
    "sns.heatmap(Corr_Tab_Gly, linewidths = 1,  cmap=\"coolwarm\", square = True, fmt=\"\",vmax = 1, vmin =-1, annot = Corr_Tab_Gly_star\n",
    "            ,cbar_kws={'orientation': 'horizontal', 'pad' : 0.23, 'aspect': 40} )\n",
    "#plt.ylabel('Gene/Pathway',  labelpad = 20)"
   ]
  },
  {
   "cell_type": "code",
   "execution_count": null,
   "metadata": {},
   "outputs": [],
   "source": [
    "plt.figure(figsize=(35,25))\n",
    "#sns.set(rc={'figure.figsize':(10,10)})\n",
    "plt.title('Pan Cancer Analysis (Spearman Co-efficients)')\n",
    "sns.heatmap(Corr_Tab_Gly, linewidths = 1,  cmap=\"coolwarm\", square = True, fmt=\"\",vmax = 1, vmin =-1, annot = Corr_Tab_Gly_star\n",
    "            ,cbar_kws={'orientation': 'horizontal', 'pad' : 0.23, 'aspect': 40} )\n",
    "#plt.ylabel('Gene/Pathway',  labelpad = 20)"
   ]
  },
  {
   "cell_type": "code",
   "execution_count": null,
   "metadata": {},
   "outputs": [],
   "source": [
    "Corr_Tab_Gly.columns = ['ACC', 'BLCA', 'BRCA', 'CESC', 'CHOL',\n",
    "       'COAD', 'COADREAD', 'ESCA', 'GBM', 'GBMLGG',\n",
    "       'HNSC', 'KICH', 'KIRC', 'KIRP', 'LAML',\n",
    "       'LGG', 'LIHC', 'LUAD', 'LUNG', 'LUSC',\n",
    "       'MESO', 'OV', 'PAAD', 'PCPG', 'PRAD',\n",
    "       'READ', 'SARC', 'SKCM', 'STAD', 'TGCT',\n",
    "       'THCA', 'THYM', 'UCEC', 'UCS', 'UVM']"
   ]
  },
  {
   "cell_type": "code",
   "execution_count": null,
   "metadata": {},
   "outputs": [],
   "source": [
    "plt.figure(figsize=(35,25))\n",
    "#sns.set(rc={'figure.figsize':(10,10)})\n",
    "plt.title('Pan Cancer Analysis (Spearman Co-efficients)')\n",
    "sns.heatmap(Corr_Tab_Gly, linewidths = 1,  cmap=\"coolwarm\", square = True, fmt=\"\",vmax = 1, vmin =-1, annot = Corr_Tab_Gly_star\n",
    "            ,cbar_kws={'orientation': 'horizontal', 'pad' : 0.23, 'aspect': 40} )\n",
    "#plt.ylabel('Gene/Pathway',  labelpad = 20)"
   ]
  },
  {
   "attachments": {},
   "cell_type": "markdown",
   "metadata": {},
   "source": [
    "Figure 1A\n"
   ]
  },
  {
   "cell_type": "code",
   "execution_count": null,
   "metadata": {},
   "outputs": [],
   "source": [
    "'''fig_1_spear = Corr_Tab_Gly.loc[['RKIP vs BACH1','BACH1 vs KS_Mesenchymal_Gene_Signature','RKIP vs KS_Mesenchymal_Gene_Signature','BACH1 vs KS_Epithelial_Gene_Signature','RKIP vs KS_Epithelial_Gene_Signature','BACH1 vs KS_Score (Tumor)','RKIP vs KS_Score (Tumor)'],:]\n",
    "fig_1_spear_star = Corr_Tab_Gly_star.loc[['RKIP vs BACH1','BACH1 vs KS_Mesenchymal_Gene_Signature','RKIP vs KS_Mesenchymal_Gene_Signature','BACH1 vs KS_Epithelial_Gene_Signature','RKIP vs KS_Epithelial_Gene_Signature','BACH1 vs KS_Score (Tumor)','RKIP vs KS_Score (Tumor)'],:]\n",
    "fig_1_spear.index = ['RKIP vs BACH1','BACH1 vs KS_Mes (GS)','RKIP vs KS_Mes (GS)','BACH1 vs KS_Epi (GS)','RKIP vs KS_Epi (GS)','BACH1 vs KS_Score (Tumor)','RKIP vs KS_Score (Tumor)']\n",
    "\n",
    "plt.figure(figsize=(30,20))\n",
    "plt.rcParams['figure.dpi']= 1000\n",
    "#sns.set(rc={'figure.figsize':(10,10)})\n",
    "\n",
    "#plt.title('Correlations of RKIP and BACH1 with KS Gene Signatures (Spearman coefficients)', size=20)\n",
    "ax = sns.heatmap(fig_1_spear.T, linewidths = 1,  cmap=\"coolwarm\", square = True, fmt=\"\",vmax = 0.7, vmin =-0.7, annot = fig_1_spear_star.T\n",
    "            ,cbar_kws={'orientation': 'vertical', 'pad' : 0.03, 'aspect': 40}, annot_kws={'size': 25} )\n",
    "cbar = ax.collections[0].colorbar\n",
    "cbar.ax.tick_params(labelsize=20)\n",
    "#plt.ylabel('Gene/Pathway',  labelpad = 20)\n",
    "plt.tick_params(axis='both', labelsize=20)\n",
    "plt.xticks(rotation = 90 )'''"
   ]
  },
  {
   "cell_type": "code",
   "execution_count": null,
   "metadata": {},
   "outputs": [],
   "source": [
    "fig_1_spear = Corr_Tab_Gly.loc[['RKIP vs BACH1','BACH1 vs KS_Mesenchymal_Gene_Signature','RKIP vs KS_Mesenchymal_Gene_Signature','BACH1 vs KS_Epithelial_Gene_Signature','RKIP vs KS_Epithelial_Gene_Signature','BACH1 vs KS_Score (Tumor)','RKIP vs KS_Score (Tumor)'],:]\n",
    "fig_1_spear_star = Corr_Tab_Gly_star.loc[['RKIP vs BACH1','BACH1 vs KS_Mesenchymal_Gene_Signature','RKIP vs KS_Mesenchymal_Gene_Signature','BACH1 vs KS_Epithelial_Gene_Signature','RKIP vs KS_Epithelial_Gene_Signature','BACH1 vs KS_Score (Tumor)','RKIP vs KS_Score (Tumor)'],:]\n",
    "fig_1_spear.index = ['RKIP vs BACH1','BACH1 vs KS_Mes (GS)','RKIP vs KS_Mes (GS)','BACH1 vs KS_Epi (GS)','RKIP vs KS_Epi (GS)','BACH1 vs KS_Score (Tumor)','RKIP vs KS_Score (Tumor)']\n",
    "\n",
    "plt.figure(figsize=(25,21))\n",
    "plt.rcParams['figure.dpi']= 500\n",
    "#sns.set(rc={'figure.figsize':(10,10)})\n",
    "\n",
    "#plt.title('Correlations of RKIP and BACH1 with KS Gene Signatures (Spearman coefficients)', size=20)\n",
    "ax = sns.heatmap(fig_1_spear, linewidths = 1,  cmap=\"coolwarm\", square = True, fmt=\"\",vmax = 0.9, vmin =-0.9, annot = fig_1_spear_star\n",
    "            ,cbar_kws={'orientation': 'horizontal', 'pad' : 0.13, 'aspect': 40}, annot_kws={'size': 25} )\n",
    "cbar = ax.collections[0].colorbar\n",
    "cbar.ax.tick_params(labelsize=22)\n",
    "#plt.ylabel('Gene/Pathway',  labelpad = 20)\n",
    "plt.tick_params(axis='both', labelsize=23)\n",
    "plt.xticks(rotation = 90 )"
   ]
  },
  {
   "attachments": {},
   "cell_type": "markdown",
   "metadata": {},
   "source": [
    "Figure 1A"
   ]
  },
  {
   "cell_type": "code",
   "execution_count": null,
   "metadata": {},
   "outputs": [],
   "source": [
    "fig_1_spear = Corr_Tab_Gly.loc[['RKIP vs BACH1','BACH1 vs KS_Mesenchymal_Gene_Signature','RKIP vs KS_Mesenchymal_Gene_Signature','BACH1 vs KS_Epithelial_Gene_Signature','RKIP vs KS_Epithelial_Gene_Signature','BACH1 vs KS_Score (Tumor)','RKIP vs KS_Score (Tumor)'],:]\n",
    "fig_1_spear_star = Corr_Tab_Gly_star.loc[['RKIP vs BACH1','BACH1 vs KS_Mesenchymal_Gene_Signature','RKIP vs KS_Mesenchymal_Gene_Signature','BACH1 vs KS_Epithelial_Gene_Signature','RKIP vs KS_Epithelial_Gene_Signature','BACH1 vs KS_Score (Tumor)','RKIP vs KS_Score (Tumor)'],:]\n",
    "fig_1_spear.index = ['RKIP vs BACH1','BACH1 vs KS_Mes (GS)','RKIP vs KS_Mes (GS)','BACH1 vs KS_Epi (GS)','RKIP vs KS_Epi (GS)','BACH1 vs KS_Score (Tumor)','RKIP vs KS_Score (Tumor)']\n",
    "\n",
    "plt.figure(figsize=(30,20))\n",
    "plt.rcParams['figure.dpi']= 1000\n",
    "#sns.set(rc={'figure.figsize':(10,10)})\n",
    "\n",
    "#plt.title('Correlations of RKIP and BACH1 with KS Gene Signatures (Spearman coefficients)', size=20)\n",
    "ax = sns.heatmap(fig_1_spear, linewidths = 1,  cmap=\"coolwarm\", square = True, fmt=\"\",vmax = 0.7, vmin =-0.7, annot = fig_1_spear_star\n",
    "            ,cbar_kws={'orientation': 'horizontal', 'pad' : 0.13, 'aspect': 40}, annot_kws={'size': 23} )\n",
    "cbar = ax.collections[0].colorbar\n",
    "cbar.ax.tick_params(labelsize=22)\n",
    "#plt.ylabel('Gene/Pathway',  labelpad = 20)\n",
    "plt.tick_params(axis='both', labelsize=22)\n",
    "plt.xticks(rotation = 90 )\n",
    "#plt.xlabel('Cancer Type', labelsize=22 )"
   ]
  },
  {
   "cell_type": "code",
   "execution_count": null,
   "metadata": {},
   "outputs": [],
   "source": [
    "fig_1_spear = Corr_Tab_Gly.loc[['RKIP vs BACH1','BACH1 vs KS_Mesenchymal_Gene_Signature','RKIP vs KS_Mesenchymal_Gene_Signature','BACH1 vs KS_Epithelial_Gene_Signature','RKIP vs KS_Epithelial_Gene_Signature'],:]\n",
    "fig_1_spear_star = Corr_Tab_Gly_star.loc[['RKIP vs BACH1','BACH1 vs KS_Mesenchymal_Gene_Signature','RKIP vs KS_Mesenchymal_Gene_Signature','BACH1 vs KS_Epithelial_Gene_Signature','RKIP vs KS_Epithelial_Gene_Signature'],:]\n",
    "fig_1_spear.index = ['RKIP vs BACH1','BACH1 vs KS_Mes (GS)','RKIP vs KS_Mes (GS)','BACH1 vs KS_Epi (GS)','RKIP vs KS_Epi (GS)']\n",
    "\n",
    "plt.figure(figsize=(30,20))\n",
    "plt.rcParams['figure.dpi']= 1000\n",
    "#sns.set(rc={'figure.figsize':(10,10)})\n",
    "\n",
    "#plt.title('Correlations of RKIP and BACH1 with KS Gene Signatures (Spearman coefficients)', size=20)\n",
    "ax = sns.heatmap(fig_1_spear, linewidths = 1,  cmap=\"coolwarm\", square = True, fmt=\"\",vmax = 0.7, vmin =-0.7, annot = fig_1_spear_star\n",
    "            ,cbar_kws={'orientation': 'horizontal', 'pad' : 0.15, 'aspect': 40}, annot_kws={'size': 23} )\n",
    "cbar = ax.collections[0].colorbar\n",
    "cbar.ax.tick_params(labelsize=25)\n",
    "#plt.ylabel('Gene/Pathway',  labelpad = 20)\n",
    "plt.tick_params(axis='both', labelsize=25)\n",
    "plt.xticks(rotation = 90 )"
   ]
  },
  {
   "attachments": {},
   "cell_type": "markdown",
   "metadata": {},
   "source": []
  },
  {
   "cell_type": "code",
   "execution_count": null,
   "metadata": {},
   "outputs": [],
   "source": [
    "'''fig_1b_spear = Corr_Tab_Gly.loc[[ 'RKIP vs Hallmark OXPHOS' , 'BACH1 vs Hallmark OXPHOS','RKIP vs FAO Gene Signature','BACH1 vs FAO Gene Signature','RKIP vs Hallmark Glycolysis','BACH1 vs Hallmark Glycolysis'],:]\n",
    "fig_1b_spear_star = Corr_Tab_Gly_star.loc[[ 'RKIP vs Hallmark OXPHOS' , 'BACH1 vs Hallmark OXPHOS','RKIP vs FAO Gene Signature','BACH1 vs FAO Gene Signature','RKIP vs Hallmark Glycolysis','BACH1 vs Hallmark Glycolysis'],:]\n",
    "fig_1b_spear.index = ['RKIP vs OXPHOS (GS)' , 'BACH1 vs OXPHOS (GS)','RKIP vs FAO (GS)','BACH1 vs FAO (GS)','RKIP vs Glycolysis (GS)','BACH1 vs Glycolysis (GS)']\n",
    "\n",
    "plt.figure(figsize=(30,20))\n",
    "plt.rcParams['figure.dpi']= 1000\n",
    "#sns.set(rc={'figure.figsize':(10,10)})\n",
    "\n",
    "#plt.title('Correlations of RKIP and BACH1 with Metabolism Gene Signatures across cancers (Spearman coefficients)', size=17)\n",
    "ax = sns.heatmap(fig_1b_spear.T, linewidths = 1,  cmap=\"coolwarm\", square = True, fmt=\"\",vmax = 0.9, vmin =-0.9, annot = fig_1b_spear_star.T\n",
    "            ,cbar_kws={'orientation': 'vertical', 'pad' : 0.03, 'aspect': 40}, annot_kws={'size': 25} )\n",
    "\n",
    "\n",
    "cbar = ax.collections[0].colorbar\n",
    "cbar.ax.tick_params(labelsize=20)\n",
    "#plt.ylabel('Gene/Pathway',  labelpad = 20)\n",
    "plt.tick_params(axis='both', labelsize=20 )\n",
    "plt.xticks(rotation = 90 )'''\n",
    "\n",
    "'''fig_1b_spear = Corr_Tab_Gly.loc[[ 'RKIP vs Hallmark OXPHOS' , 'BACH1 vs Hallmark OXPHOS','RKIP vs FAO Gene Signature','BACH1 vs FAO Gene Signature','RKIP vs Hallmark Glycolysis','BACH1 vs Hallmark Glycolysis'],:]\n",
    "fig_1b_spear_star = Corr_Tab_Gly_star.loc[[ 'RKIP vs Hallmark OXPHOS' , 'BACH1 vs Hallmark OXPHOS','RKIP vs FAO Gene Signature','BACH1 vs FAO Gene Signature','RKIP vs Hallmark Glycolysis','BACH1 vs Hallmark Glycolysis'],:]\n",
    "fig_1b_spear.index = ['RKIP vs OXPHOS (GS)' , 'BACH1 vs OXPHOS (GS)','RKIP vs FAO (GS)','BACH1 vs FAO (GS)','RKIP vs Glycolysis (GS)','BACH1 vs Glycolysis (GS)']\n",
    "\n",
    "plt.figure(figsize=(30,20))\n",
    "plt.rcParams['figure.dpi']= 1000\n",
    "#sns.set(rc={'figure.figsize':(10,10)})\n",
    "\n",
    "#plt.title('Correlations of RKIP and BACH1 with Metabolism Gene Signatures across cancers (Spearman coefficients)', size=17)\n",
    "ax = sns.heatmap(fig_1b_spear, linewidths = 1,  cmap=\"coolwarm\", square = True, fmt=\"\",vmax = 0.9, vmin =-0.9, annot = fig_1b_spear_star\n",
    "            ,cbar_kws={'orientation': 'horizontal', 'pad' : 0.14, 'aspect': 40}, annot_kws={'size': 25} )\n",
    "\n",
    "\n",
    "cbar = ax.collections[0].colorbar\n",
    "cbar.ax.tick_params(labelsize=23)\n",
    "#plt.ylabel('Gene/Pathway',  labelpad = 20)\n",
    "plt.tick_params(axis='both', labelsize=23 )\n",
    "plt.xticks(rotation = 90 )'''"
   ]
  },
  {
   "attachments": {},
   "cell_type": "markdown",
   "metadata": {},
   "source": [
    "Figure 1B"
   ]
  },
  {
   "cell_type": "code",
   "execution_count": null,
   "metadata": {},
   "outputs": [],
   "source": [
    "fig_1b_spear = Corr_Tab_Gly.loc[[ 'RKIP vs Hallmark OXPHOS' , 'BACH1 vs Hallmark OXPHOS','RKIP vs FAO Gene Signature','BACH1 vs FAO Gene Signature','RKIP vs Hallmark Glycolysis','BACH1 vs Hallmark Glycolysis'],:]\n",
    "fig_1b_spear_star = Corr_Tab_Gly_star.loc[[ 'RKIP vs Hallmark OXPHOS' , 'BACH1 vs Hallmark OXPHOS','RKIP vs FAO Gene Signature','BACH1 vs FAO Gene Signature','RKIP vs Hallmark Glycolysis','BACH1 vs Hallmark Glycolysis'],:]\n",
    "fig_1b_spear.index = ['RKIP vs OXPHOS (GS)' , 'BACH1 vs OXPHOS (GS)','RKIP vs FAO (GS)','BACH1 vs FAO (GS)','RKIP vs Glycolysis (GS)','BACH1 vs Glycolysis (GS)']\n",
    "plt.rcParams['figure.dpi']= 1000\n",
    "plt.figure(figsize=(25,21))\n",
    "#sns.set(rc={'figure.figsize':(10,10)})\n",
    "\n",
    "#plt.title('Correlations of RKIP and BACH1 with Metabolism Gene Signatures across cancers (Spearman coefficients)', size=17)\n",
    "ax = sns.heatmap(fig_1b_spear, linewidths = 1,  cmap=\"coolwarm\", square = True, fmt=\"\",vmax = 0.9, vmin =-0.9, annot = fig_1b_spear_star\n",
    "            ,cbar_kws={'orientation': 'horizontal', 'pad' : 0.15, 'aspect': 40}, annot_kws={'size': 22} )\n",
    "cbar = ax.collections[0].colorbar\n",
    "cbar.ax.tick_params(labelsize=23)\n",
    "#plt.ylabel('Gene/Pathway',  labelpad = 20)\n",
    "plt.tick_params(axis='both', labelsize=23 )"
   ]
  },
  {
   "attachments": {},
   "cell_type": "markdown",
   "metadata": {},
   "source": [
    "Figure 1C"
   ]
  },
  {
   "cell_type": "code",
   "execution_count": null,
   "metadata": {},
   "outputs": [],
   "source": [
    "fig_1b_spear = Corr_Tab_Gly.loc[[ 'RKIP vs PDL1 Signature' , 'BACH1 vs PDL1 Signature'],:]\n",
    "fig_1b_spear_star = Corr_Tab_Gly_star.loc[['RKIP vs PDL1 Signature' , 'BACH1 vs PDL1 Signature'],:]\n",
    "fig_1b_spear.index = ['RKIP vs PDL1 (GS)' , 'BACH1 vs PDL1 (GS)']\n",
    "plt.rcParams['figure.dpi']= 1000\n",
    "plt.figure(figsize=(26,20))\n",
    "#sns.set(rc={'figure.figsize':(10,10)})\n",
    "\n",
    "#plt.title('Pan Cancer Analysis of RKIP and BACH1 with PDL1 Signature (Spearman coefficients)', size=17)\n",
    "ax = sns.heatmap(fig_1b_spear, linewidths = 1,  cmap=\"coolwarm\", square = True, fmt=\"\",vmax = 0.9, vmin =-0.9, annot = fig_1b_spear_star\n",
    "            ,cbar_kws={'orientation': 'horizontal', 'pad' : 0.15, 'aspect': 40}, annot_kws={'size': 22} )\n",
    "cbar = ax.collections[0].colorbar\n",
    "cbar.ax.tick_params(labelsize=22)\n",
    "#plt.ylabel('Gene/Pathway',  labelpad = 20)\n",
    "plt.tick_params(axis='both', labelsize=23)\n",
    "plt.xticks( rotation=90)"
   ]
  },
  {
   "attachments": {},
   "cell_type": "markdown",
   "metadata": {},
   "source": [
    "Figure 1D"
   ]
  },
  {
   "cell_type": "code",
   "execution_count": null,
   "metadata": {},
   "outputs": [],
   "source": [
    "fig_1d_spear = Corr_Tab_Gly.loc[[ 'RKIP vs GenSig_Ferroptosis_Immune_45' , 'BACH1 vs GenSig_Ferroptosis_Immune_45'],:]\n",
    "fig_1d_spear_star = Corr_Tab_Gly_star.loc[['RKIP vs GenSig_Ferroptosis_Immune_45' , 'BACH1 vs GenSig_Ferroptosis_Immune_45'],:]\n",
    "fig_1d_spear.index = ['RKIP vs Ferroptosis (GS)' , 'BACH1 vs Ferroptosis (GS)']\n",
    "plt.rcParams['figure.dpi']= 1000\n",
    "plt.figure(figsize=(26,20))\n",
    "#sns.set(rc={'figure.figsize':(10,10)})\n",
    "\n",
    "#plt.title('Correlation of RKIP and BACH1 with Metabolic Signatures (Spearman coefficients)', size=17)\n",
    "ax = sns.heatmap(fig_1d_spear, linewidths = 1,  cmap=\"coolwarm\", square = True, fmt=\"\",vmax = 0.9, vmin =-0.9, annot = fig_1d_spear_star\n",
    "            ,cbar_kws={'orientation': 'horizontal', 'pad' : 0.17, 'aspect': 40}, annot_kws={'size':20} )\n",
    "cbar = ax.collections[0].colorbar\n",
    "cbar.ax.tick_params(labelsize=22)\n",
    "#plt.ylabel('Gene/Pathway',  labelpad = 20)\n",
    "plt.tick_params(axis='both', labelsize=22)"
   ]
  },
  {
   "attachments": {},
   "cell_type": "markdown",
   "metadata": {},
   "source": [
    "Supplementary Analysis"
   ]
  },
  {
   "cell_type": "code",
   "execution_count": null,
   "metadata": {},
   "outputs": [],
   "source": [
    "fig_s1a_spear = Corr_Tab_Gly.loc[[ 'BACH1 vs 76GS_Score' , 'RKIP vs 76GS_Score','76GS_Score vs KS_Score (Tumor)'],:]\n",
    "fig_s1a_spear_star = Corr_Tab_Gly_star.loc[[ 'BACH1 vs 76GS_Score' , 'RKIP vs 76GS_Score','76GS_Score vs KS_Score (Tumor)'],:]\n",
    "fig_s1a_spear.index = [ 'BACH1 vs 76GS_Score' , 'RKIP vs 76GS_Score','76GS_Score vs KS_Score (Tumor)']\n",
    "plt.rcParams['figure.dpi']= 400\n",
    "plt.figure(figsize=(25,20))\n",
    "#sns.set(rc={'figure.figsize':(10,10)})\n",
    "\n",
    "#plt.title('Correlation of RKIP and BACH1 with EMT scores (Spearman coefficients)', size=17)\n",
    "ax = sns.heatmap(fig_s1a_spear, linewidths = 1,  cmap=\"coolwarm\", square = True, fmt=\"\",vmax = 0.9, vmin =-0.9, annot = fig_s1a_spear_star\n",
    "            ,cbar_kws={'orientation': 'horizontal', 'pad' : 0.15, 'aspect': 40}, annot_kws={'size': 20} )\n",
    "cbar = ax.collections[0].colorbar\n",
    "cbar.ax.tick_params(labelsize=20)\n",
    "#plt.ylabel('Gene/Pathway',  labelpad = 20)\n",
    "plt.tick_params(axis='both', labelsize=20)"
   ]
  },
  {
   "attachments": {},
   "cell_type": "markdown",
   "metadata": {},
   "source": [
    "Supplementary 1A"
   ]
  },
  {
   "cell_type": "code",
   "execution_count": null,
   "metadata": {},
   "outputs": [],
   "source": [
    "fig_s1c_spear = Corr_Tab_Gly.loc[[ 'Hallmark_OXPHOS vs Hallmark_Glycolysis' , 'FAO_Gene_Signature vs Hallmark_OXPHOS','FAO_Gene_Signature vs Hallmark_Glycolysis'],:]\n",
    "fig_s1c_spear_star = Corr_Tab_Gly_star.loc[[ 'Hallmark_OXPHOS vs Hallmark_Glycolysis' , 'FAO_Gene_Signature vs Hallmark_OXPHOS','FAO_Gene_Signature vs Hallmark_Glycolysis'],:]\n",
    "fig_s1c_spear.index = [  'OXPHOS (GS) vs Glycolysis (GS)' , 'FAO (GS) vs OXPHOS (GS)','FAO (GS) vs Glycolysis (GS)']\n",
    "plt.rcParams['figure.dpi']= 1000\n",
    "plt.figure(figsize=(20,15))\n",
    "#sns.set(rc={'figure.figsize':(10,10)})\n",
    "\n",
    "#plt.title('Correlation of RKIP and BACH1 with Metabolic Signatures (Spearman coefficients)', size=17)\n",
    "ax = sns.heatmap(fig_s1c_spear, linewidths = 1,  cmap=\"coolwarm\", square = True, fmt=\"\",vmax = 0.9, vmin =-0.9, annot = fig_s1c_spear_star\n",
    "            ,cbar_kws={'orientation': 'horizontal', 'pad' : 0.17, 'aspect': 40}, annot_kws={'size':20} )\n",
    "cbar = ax.collections[0].colorbar\n",
    "cbar.ax.tick_params(labelsize=22)\n",
    "#plt.ylabel('Gene/Pathway',  labelpad = 20)\n",
    "plt.tick_params(axis='both', labelsize=22)"
   ]
  },
  {
   "attachments": {},
   "cell_type": "markdown",
   "metadata": {},
   "source": [
    "Supplemantary S2B"
   ]
  },
  {
   "cell_type": "code",
   "execution_count": null,
   "metadata": {},
   "outputs": [],
   "source": [
    "fig_s2c_spear = Corr_Tab_Gly.loc[[ 'RKIP vs BACH1' , 'BACH1_Metastasis_GenSig vs RKIP','BACH1_Metastasis_GenSig vs BACH1','RKIP_Metastasis_GenSig vs RKIP','RKIP_Metastasis_GenSig vs BACH1','RKIP_Metastasis_GenSig vs BACH1_Metastasis_GenSig'],:]\n",
    "fig_s2c_spear_star = Corr_Tab_Gly_star.loc[[ 'RKIP vs BACH1' , 'BACH1_Metastasis_GenSig vs RKIP','BACH1_Metastasis_GenSig vs BACH1','RKIP_Metastasis_GenSig vs RKIP','RKIP_Metastasis_GenSig vs BACH1','RKIP_Metastasis_GenSig vs BACH1_Metastasis_GenSig'],:]\n",
    "fig_s2c_spear.index = [ 'RKIP vs BACH1' , 'BPMS (GS) vs RKIP','BPMS (GS) vs BACH1','RPMS (GS) vs RKIP','RPMS (GS) vs BACH1','RPMS (GS) vs BPMS (GS) ']\n",
    "plt.rcParams['figure.dpi']= 1000\n",
    "plt.figure(figsize=(20,15))\n",
    "#sns.set(rc={'figure.figsize':(10,10)})\n",
    "\n",
    "#plt.title('Correlation of RKIP and BACH1 with Metastasis Signatures scores (Spearman coefficients)', size=17)\n",
    "ax = sns.heatmap(fig_s2c_spear, linewidths = 1,  cmap=\"coolwarm\", square = True, fmt=\"\",vmax = 0.9, vmin =-0.9, annot = fig_s2c_spear_star\n",
    "            ,cbar_kws={'orientation': 'horizontal', 'pad' : 0.17, 'aspect': 40}, annot_kws={'size': 15} )\n",
    "cbar = ax.collections[0].colorbar\n",
    "cbar.ax.tick_params(labelsize=20)\n",
    "#plt.ylabel('Gene/Pathway',  labelpad = 20)\n",
    "plt.tick_params(axis='both', labelsize=20)"
   ]
  },
  {
   "cell_type": "code",
   "execution_count": null,
   "metadata": {},
   "outputs": [],
   "source": [
    "'''corr_scatter(TCGA_PCPG_scored.T,'PEBP1','CD274', title = 'TCGA (PCPG) ( 17 datasets ) ')\n",
    "corr_scatter(TCGA_PCPG_scored.T,'BACH1','CD274', title = 'TCGA (PCPG) ( 17 datasets ) ')'''"
   ]
  },
  {
   "cell_type": "code",
   "execution_count": null,
   "metadata": {},
   "outputs": [],
   "source": [
    "fig_s1c_spear = Corr_Tab_Gly.loc[[ 'RKIP vs CD274(PDL1)' , 'BACH1 vs CD274(PDL1)'],:]\n",
    "fig_s1c_spear_star = Corr_Tab_Gly_star.loc[[ 'RKIP vs CD274(PDL1)'  ,'BACH1 vs CD274(PDL1)'],:]\n",
    "fig_s1c_spear.index = [  'RKIP vs PDL1' , 'BACH1 vs PDL1']\n",
    "plt.rcParams['figure.dpi']= 1000\n",
    "plt.figure(figsize=(25,20))\n",
    "#sns.set(rc={'figure.figsize':(10,10)})\n",
    "\n",
    "#plt.title('Correlation of RKIP and BACH1 with PDL1 (Spearman coefficients)', size=17)\n",
    "ax = sns.heatmap(fig_s1c_spear, linewidths = 1,  cmap=\"coolwarm\", square = True, fmt=\"\",vmax = 0.9, vmin =-0.9, annot = fig_s1c_spear_star\n",
    "            ,cbar_kws={'orientation': 'horizontal', 'pad' : 0.14, 'aspect': 40}, annot_kws={'size': 22} )\n",
    "cbar = ax.collections[0].colorbar\n",
    "cbar.ax.tick_params(labelsize=22)\n",
    "#plt.ylabel('Gene/Pathway',  labelpad = 20)\n",
    "plt.tick_params(axis='both', labelsize=22)"
   ]
  },
  {
   "attachments": {},
   "cell_type": "markdown",
   "metadata": {},
   "source": [
    "Ferroptosis"
   ]
  },
  {
   "cell_type": "code",
   "execution_count": null,
   "metadata": {},
   "outputs": [],
   "source": [
    "'''fig_ferr_spear = Corr_Tab_Gly.loc[[ 'RKIP vs NRF2' , 'BACH1 vs NRF2','RKIP vs NRF2_Gene_Signature','BACH1 vs NRF2_Gene_Signature','RKIP vs GenSig_Ferroptosis_6'\n",
    "                                  ,'BACH1 vs GenSig_Ferroptosis_6', 'RKIP vs GenSig_Ferroptosis_10_LBC','BACH1 vs GenSig_Ferroptosis_10_LBC',\n",
    "                                  'RKIP vs GenSig_Ferroptosis_Immune_45', 'BACH1 vs GenSig_Ferroptosis_Immune_45'],:]\n",
    "fig_ferr_spear_star = Corr_Tab_Gly_star.loc[[ 'RKIP vs NRF2' , 'BACH1 vs NRF2','RKIP vs NRF2_Gene_Signature','BACH1 vs NRF2_Gene_Signature','RKIP vs GenSig_Ferroptosis_6'\n",
    "                                  ,'BACH1 vs GenSig_Ferroptosis_6', 'RKIP vs GenSig_Ferroptosis_10_LBC','BACH1 vs GenSig_Ferroptosis_10_LBC',\n",
    "                                  'RKIP vs GenSig_Ferroptosis_Immune_45', 'BACH1 vs GenSig_Ferroptosis_Immune_45'],:]\n",
    "#fig_s1c_spear.index = [  'RKIP vs PDL1' , 'BACH1 vs PDL1']\n",
    "\n",
    "plt.figure(figsize=(20,15))\n",
    "#sns.set(rc={'figure.figsize':(10,10)})\n",
    "\n",
    "plt.title('Correlation of RKIP and BACH1 with Ferroptosis and NRF2 (Spearman coefficients)', size=17)\n",
    "ax = sns.heatmap(fig_ferr_spear, linewidths = 1,  cmap=\"coolwarm\", square = True, fmt=\"\",vmax = 0.9, vmin =-0.9, annot = fig_ferr_spear_star\n",
    "            ,cbar_kws={'orientation': 'horizontal', 'pad' : 0.13, 'aspect': 40}, annot_kws={'size': 15} )\n",
    "cbar = ax.collections[0].colorbar\n",
    "cbar.ax.tick_params(labelsize=16)\n",
    "#plt.ylabel('Gene/Pathway',  labelpad = 20)\n",
    "plt.tick_params(axis='both', labelsize=15)'''"
   ]
  },
  {
   "cell_type": "code",
   "execution_count": null,
   "metadata": {},
   "outputs": [],
   "source": [
    "  \n",
    " '''BACH1_Metastasis.gmt   Corr_Tab_Gly.loc['RKIP vs NRF2', y]  = stats.spearmanr( data['PEBP1'], data['NFE2L2'])[i]\n",
    "    Corr_Tab_Gly.loc['BACH1 vs NRF2', y]  = stats.spearmanr( data['BACH1'], data['NFE2L2'])[i]\n",
    "    Corr_Tab_Gly.loc['RKIP vs NRF2_Gene_Signature', y]  = stats.spearmanr( data['PEBP1'], data['NRF2_Gene_Signature'])[i]\n",
    "    Corr_Tab_Gly.loc['BACH1 vs NRF2_Gene_Signature', y]  = stats.spearmanr( data['BACH1'], data['NRF2_Gene_Signature'])[i]\n",
    "    Corr_Tab_Gly.loc['RKIP vs GenSig_Ferroptosis_6', y]  = stats.spearmanr( data['PEBP1'], data['GenSig_Ferroptosis_6'])[i]\n",
    "    Corr_Tab_Gly.loc['BACH1 vs GenSig_Ferroptosis_6', y]  = stats.spearmanr( data['BACH1'], data['GenSig_Ferroptosis_6'])[i]\n",
    "    Corr_Tab_Gly.loc['RKIP vs GenSig_Ferroptosis_10_LBC', y]  = stats.spearmanr( data['PEBP1'], data['GenSig_Ferroptosis_10_LBC'])[i]\n",
    "    Corr_Tab_Gly.loc['BACH1 vs GenSig_Ferroptosis_10_LBC', y]  = stats.spearmanr( data['BACH1'], data['GenSig_Ferroptosis_10_LBC'])[i]\n",
    "    Corr_Tab_Gly.loc['RKIP vs GenSig_Ferroptosis_Immune_45', y]  = stats.spearmanr( data['PEBP1'], data['GenSig_Ferroptosis_Immune_45'])[i]\n",
    "    Corr_Tab_Gly.loc['BACH1 vs GenSig_Ferroptosis_Immune_45', y]  = stats.spearmanr( data['BACH1'], data['GenSig_Ferroptosis_Immune_45'])[i]\n",
    "'''\n"
   ]
  },
  {
   "cell_type": "code",
   "execution_count": null,
   "metadata": {},
   "outputs": [],
   "source": [
    "Ba=pd.read_csv('BACH1_Survival.csv',index_col=0)\n",
    "RKI=pd.read_csv('RKIP_Survival.csv', index_col=0)"
   ]
  },
  {
   "cell_type": "code",
   "execution_count": null,
   "metadata": {},
   "outputs": [],
   "source": [
    "da=pd.DataFrame([[0]*len(Ba.iloc[1,:]),[0]*len(Ba.iloc[1,:])])\n",
    "da.index=['BACH1','RKIP']\n",
    "da.columns=Ba.columns\n",
    "pa=da.copy()\n",
    "da"
   ]
  },
  {
   "cell_type": "code",
   "execution_count": null,
   "metadata": {},
   "outputs": [],
   "source": [
    "da.loc['BACH1',:]=Ba.iloc[0,:]\n",
    "da.loc['RKIP',:]=RKI.iloc[0,:]"
   ]
  },
  {
   "cell_type": "code",
   "execution_count": null,
   "metadata": {},
   "outputs": [],
   "source": [
    "pa.loc['BACH1',:]=Ba.iloc[0,:]\n",
    "pa.loc['RKIP',:]=RKI.iloc[0,:]"
   ]
  },
  {
   "cell_type": "code",
   "execution_count": null,
   "metadata": {},
   "outputs": [],
   "source": [
    "pa_star=pa.copy()\n",
    "\n",
    "for i in range(len(pa_star)):\n",
    "    for j in range(len(pa_star.iloc[0,:])):\n",
    "        pa.iloc[i,j]=float(pa.iloc[i,j])\n",
    "\n",
    "        if pa.iloc[i,j] <= 0.05:\n",
    "            pa_star.iloc[i,j]= \"*\"\n",
    "        else:\n",
    "            pa_star.iloc[ i ,j ] = \"\"\n",
    "pa_star\n"
   ]
  },
  {
   "cell_type": "code",
   "execution_count": null,
   "metadata": {},
   "outputs": [],
   "source": [
    "for i in range(len(da)):\n",
    "    for j in range(len(da.iloc[0,:])):\n",
    "        da.iloc[i,j]=float(da.iloc[i,j])\n",
    "        "
   ]
  },
  {
   "cell_type": "code",
   "execution_count": null,
   "metadata": {},
   "outputs": [],
   "source": [
    "TCGA_ACC_scored = pd.read_csv('Data_Figure1_2/TCGA_ACC.csv', index_col=0)\n"
   ]
  },
  {
   "cell_type": "code",
   "execution_count": null,
   "metadata": {},
   "outputs": [],
   "source": [
    "len(da.columns)\n",
    "a = ['ACC', 'BLCA', 'BRCA', 'CESC', 'CHOL',\n",
    "              'COAD','DLBC', 'ESCA', 'GBM', \n",
    "              'HNSC', 'KICH', 'KIRC', 'KIRP', 'LAML','LGG', 'LIHC', 'LUAD',  'LUSC',\n",
    "              'MESO', 'OV', 'PAAD', 'PCPG', 'PRAD','READ', 'SARC', 'SKCM', 'STAD', 'TGCT',\n",
    "              'THCA', 'THYM', 'UCEC', 'UCS', 'UVM']\n",
    "da.columns"
   ]
  },
  {
   "cell_type": "code",
   "execution_count": null,
   "metadata": {},
   "outputs": [],
   "source": [
    "\n",
    "da.columns=a\n",
    "plt.rcParams['figure.dpi']= 1000\n",
    "plt.figure(figsize=(25,20))\n",
    "\n",
    "ax = sns.heatmap(da, linewidths = 1,  cmap=\"coolwarm\", square = True, fmt=\"\",vmax = 2, vmin =-2                 \n",
    "                 , annot=pa_star, cbar_kws={'orientation': 'horizontal', 'pad' : 0.11, 'aspect': 40}, annot_kws={'size': 22} )\n",
    "cbar = ax.collections[0].colorbar\n",
    "cbar.ax.tick_params(labelsize=22)\n",
    "cbar.set_label('log2HR', size=22,fontweight='bold')\n",
    "#plt.ylabel('Gene/Pathway',  labelpad = 20)\n",
    "plt.tick_params(axis='both', labelsize=23)\n",
    "plt.xticks(rotation=90)\n",
    "plt.yticks(rotation=0)\n",
    "#plt.xlabel('Cancer Type',size=23,fontweight='bold')\n"
   ]
  },
  {
   "cell_type": "code",
   "execution_count": null,
   "metadata": {},
   "outputs": [],
   "source": [
    "'''fig_1b_spear = Corr_Tab_Gly.loc[[ 'RKIP vs PDL1 Signature' , 'BACH1 vs PDL1 Signature'],:]\n",
    "fig_1b_spear_star = Corr_Tab_Gly_star.loc[['RKIP vs PDL1 Signature' , 'BACH1 vs PDL1 Signature'],:]\n",
    "fig_1b_spear.index = ['RKIP vs PDL1 (GS)' , 'BACH1 vs PDL1 (GS)']\n",
    "plt.rcParams['figure.dpi']= 1000\n",
    "plt.figure(figsize=(26,20))\n",
    "#sns.set(rc={'figure.figsize':(10,10)})\n",
    "\n",
    "#plt.title('Pan Cancer Analysis of RKIP and BACH1 with PDL1 Signature (Spearman coefficients)', size=17)\n",
    "ax = sns.heatmap(fig_1b_spear, linewidths = 1,  cmap=\"coolwarm\", square = True, fmt=\"\",vmax = 0.7, vmin =-0.7, annot = fig_1b_spear_star\n",
    "            ,cbar_kws={'orientation': 'horizontal', 'pad' : 0.15, 'aspect': 40}, annot_kws={'size': 22} )\n",
    "cbar = ax.collections[0].colorbar\n",
    "cbar.ax.tick_params(labelsize=22)\n",
    "#plt.ylabel('Gene/Pathway',  labelpad = 20)\n",
    "plt.tick_params(axis='both', labelsize=23)\n",
    "plt.xticks( rotation=90)\n",
    "\n",
    "fig_ferr_spear = Corr_Tab_Gly.loc[[ 'RKIP vs NRF2' , 'BACH1 vs NRF2','RKIP vs NRF2_Gene_Signature','BACH1 vs NRF2_Gene_Signature','RKIP vs GenSig_Ferroptosis_6'\n",
    "                                  ,'BACH1 vs GenSig_Ferroptosis_6', 'RKIP vs GenSig_Ferroptosis_10_LBC','BACH1 vs GenSig_Ferroptosis_10_LBC',\n",
    "                                  'RKIP vs GenSig_Ferroptosis_Immune_45', 'BACH1 vs GenSig_Ferroptosis_Immune_45'],:]\n",
    "fig_ferr_spear_star = Corr_Tab_Gly_star.loc[[ 'RKIP vs NRF2' , 'BACH1 vs NRF2','RKIP vs NRF2_Gene_Signature','BACH1 vs NRF2_Gene_Signature','RKIP vs GenSig_Ferroptosis_6'\n",
    "                                  ,'BACH1 vs GenSig_Ferroptosis_6', 'RKIP vs GenSig_Ferroptosis_10_LBC','BACH1 vs GenSig_Ferroptosis_10_LBC',\n",
    "                                  'RKIP vs GenSig_Ferroptosis_Immune_45', 'BACH1 vs GenSig_Ferroptosis_Immune_45'],:]\n",
    "#fig_s1c_spear.index = [  'RKIP vs PDL1' , 'BACH1 vs PDL1']\n",
    "\n",
    "plt.figure(figsize=(20,15))\n",
    "#sns.set(rc={'figure.figsize':(10,10)})\n",
    "\n",
    "plt.title('Correlation of RKIP and BACH1 with Ferroptosis and NRF2 (Spearman coefficients)', size=17)\n",
    "ax = sns.heatmap(fig_ferr_spear, linewidths = 1,  cmap=\"coolwarm\", square = True, fmt=\"\",vmax = 0.9, vmin =-0.9, annot = fig_ferr_spear_star\n",
    "            ,cbar_kws={'orientation': 'horizontal', 'pad' : 0.13, 'aspect': 40}, annot_kws={'size': 15} )\n",
    "cbar = ax.collections[0].colorbar\n",
    "cbar.ax.tick_params(labelsize=16)\n",
    "#plt.ylabel('Gene/Pathway',  labelpad = 20)\n",
    "plt.tick_params(axis='both', labelsize=15)'''"
   ]
  },
  {
   "cell_type": "code",
   "execution_count": null,
   "metadata": {},
   "outputs": [],
   "source": [
    "'''\n",
    "len(da.iloc[0,:])\n",
    "ax = sns.heatmap(fig_ferr_spear, linewidths = 1,  cmap=\"coolwarm\", square = True, fmt=\"\",vmax = 0.9, vmin =-0.9, annot = fig_ferr_spear_star\n",
    "            ,cbar_kws={'orientation': 'horizontal', 'pad' : 0.13, 'aspect': 40}, annot_kws={'size': 15} )\n",
    "cbar = ax.collections[0].colorbar\n",
    "cbar.ax.tick_params(labelsize=16)'''"
   ]
  },
  {
   "cell_type": "code",
   "execution_count": null,
   "metadata": {},
   "outputs": [],
   "source": []
  }
 ],
 "metadata": {
  "kernelspec": {
   "display_name": "base",
   "language": "python",
   "name": "python3"
  },
  "language_info": {
   "codemirror_mode": {
    "name": "ipython",
    "version": 3
   },
   "file_extension": ".py",
   "mimetype": "text/x-python",
   "name": "python",
   "nbconvert_exporter": "python",
   "pygments_lexer": "ipython3",
   "version": "3.11.4"
  },
  "orig_nbformat": 4,
  "vscode": {
   "interpreter": {
    "hash": "d47d9269cffa2cf13049e19e7e2c2cdbc3e0a106bf3d85d87066843337b02bbd"
   }
  }
 },
 "nbformat": 4,
 "nbformat_minor": 2
}
